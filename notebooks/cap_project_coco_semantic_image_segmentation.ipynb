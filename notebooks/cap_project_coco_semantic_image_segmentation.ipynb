version https://git-lfs.github.com/spec/v1
oid sha256:35b1cb26a532bba8a53c7ede381fae5bb8a95e707bb3d0e4e4e76e0a071f3184
size 2404024
