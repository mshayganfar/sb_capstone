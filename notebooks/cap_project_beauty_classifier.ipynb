version https://git-lfs.github.com/spec/v1
oid sha256:c7e3a463654f2322321cc5e57b88f50575150c4ba8c8651a74cd219c8a7ea899
size 5356418
