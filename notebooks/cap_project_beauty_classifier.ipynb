version https://git-lfs.github.com/spec/v1
oid sha256:83c7e8687aaf5e366b63637f6da26e0ee5c8734bfb053e96ff9f5bd018c29ee8
size 15193998
