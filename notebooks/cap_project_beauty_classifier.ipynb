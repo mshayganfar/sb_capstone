version https://git-lfs.github.com/spec/v1
oid sha256:aa5ea8ee6f3e60f9c83bbdafabeaf3a722c10fb5014bbf740fe45ad766b1493b
size 6763115
