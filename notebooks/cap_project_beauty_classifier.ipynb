version https://git-lfs.github.com/spec/v1
oid sha256:4b380fd49175c7c36fb20b6204e5d67143e23847dea77d8156e697bbcd47ac17
size 3897349
