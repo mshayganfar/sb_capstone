version https://git-lfs.github.com/spec/v1
oid sha256:899eaf3c8abb2daa7cfbb72d6c9835d49c6ee67a16833d5266df7d44cb54ec42
size 13304864
