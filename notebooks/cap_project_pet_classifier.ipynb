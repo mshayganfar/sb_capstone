version https://git-lfs.github.com/spec/v1
oid sha256:dee5f5ab33bf3ed6dd43d83793c0887772a897602d79b65d4726df96aa0a07cd
size 1320454
