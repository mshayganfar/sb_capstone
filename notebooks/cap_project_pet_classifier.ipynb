version https://git-lfs.github.com/spec/v1
oid sha256:f28a25f392e96acaa82c29c9cbc61e011fcbc826bc3547a153f0f48a3feb3441
size 1344353
