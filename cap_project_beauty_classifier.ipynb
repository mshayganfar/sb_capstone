{
 "cells": [
  {
   "cell_type": "code",
   "execution_count": 136,
   "id": "8f5a8ed5",
   "metadata": {},
   "outputs": [],
   "source": [
    "import cv2\n",
    "import os\n",
    "import random\n",
    "import shutil\n",
    "\n",
    "import matplotlib.pyplot as plt\n",
    "import numpy as np\n",
    "import pandas as pd"
   ]
  },
  {
   "cell_type": "code",
   "execution_count": 2,
   "id": "6bc9b39e",
   "metadata": {},
   "outputs": [],
   "source": [
    "influencers_data = '/Users/mshayganfar/sb_capstone/data/influencers.csv'"
   ]
  },
  {
   "cell_type": "code",
   "execution_count": 3,
   "id": "aeea50bc",
   "metadata": {},
   "outputs": [],
   "source": [
    "df_influencers = pd.read_csv(influencers_data)"
   ]
  },
  {
   "cell_type": "code",
   "execution_count": 5,
   "id": "71f7d576",
   "metadata": {},
   "outputs": [
    {
     "data": {
      "text/html": [
       "<div>\n",
       "<style scoped>\n",
       "    .dataframe tbody tr th:only-of-type {\n",
       "        vertical-align: middle;\n",
       "    }\n",
       "\n",
       "    .dataframe tbody tr th {\n",
       "        vertical-align: top;\n",
       "    }\n",
       "\n",
       "    .dataframe thead th {\n",
       "        text-align: right;\n",
       "    }\n",
       "</style>\n",
       "<table border=\"1\" class=\"dataframe\">\n",
       "  <thead>\n",
       "    <tr style=\"text-align: right;\">\n",
       "      <th></th>\n",
       "      <th>username</th>\n",
       "      <th>category</th>\n",
       "      <th>num_followers</th>\n",
       "      <th>num_followees</th>\n",
       "      <th>num_posts</th>\n",
       "    </tr>\n",
       "  </thead>\n",
       "  <tbody>\n",
       "    <tr>\n",
       "      <th>0</th>\n",
       "      <td>makeupbynvs</td>\n",
       "      <td>beauty</td>\n",
       "      <td>1432.0</td>\n",
       "      <td>1089.0</td>\n",
       "      <td>363.0</td>\n",
       "    </tr>\n",
       "    <tr>\n",
       "      <th>1</th>\n",
       "      <td>jaquelinevandoski</td>\n",
       "      <td>beauty</td>\n",
       "      <td>137600.0</td>\n",
       "      <td>548.0</td>\n",
       "      <td>569.0</td>\n",
       "    </tr>\n",
       "    <tr>\n",
       "      <th>2</th>\n",
       "      <td>anisaartistry</td>\n",
       "      <td>beauty</td>\n",
       "      <td>64644.0</td>\n",
       "      <td>289.0</td>\n",
       "      <td>391.0</td>\n",
       "    </tr>\n",
       "    <tr>\n",
       "      <th>3</th>\n",
       "      <td>rubina_muartistry</td>\n",
       "      <td>beauty</td>\n",
       "      <td>496406.0</td>\n",
       "      <td>742.0</td>\n",
       "      <td>887.0</td>\n",
       "    </tr>\n",
       "    <tr>\n",
       "      <th>4</th>\n",
       "      <td>beautyxabbi</td>\n",
       "      <td>beauty</td>\n",
       "      <td>2050.0</td>\n",
       "      <td>1423.0</td>\n",
       "      <td>751.0</td>\n",
       "    </tr>\n",
       "  </tbody>\n",
       "</table>\n",
       "</div>"
      ],
      "text/plain": [
       "            username category  num_followers  num_followees  num_posts\n",
       "0        makeupbynvs   beauty         1432.0         1089.0      363.0\n",
       "1  jaquelinevandoski   beauty       137600.0          548.0      569.0\n",
       "2      anisaartistry   beauty        64644.0          289.0      391.0\n",
       "3  rubina_muartistry   beauty       496406.0          742.0      887.0\n",
       "4        beautyxabbi   beauty         2050.0         1423.0      751.0"
      ]
     },
     "execution_count": 5,
     "metadata": {},
     "output_type": "execute_result"
    }
   ],
   "source": [
    "df_influencers.head()"
   ]
  },
  {
   "cell_type": "code",
   "execution_count": 6,
   "id": "56ec8de7",
   "metadata": {},
   "outputs": [
    {
     "name": "stdout",
     "output_type": "stream",
     "text": [
      "Beauty influencers count: 1541\n"
     ]
    }
   ],
   "source": [
    "beauty_influencers_count = df_influencers[df_influencers['category'] == 'beauty'].username.count()\n",
    "\n",
    "print(f\"Beauty influencers count: {beauty_influencers_count}\")"
   ]
  },
  {
   "cell_type": "code",
   "execution_count": 119,
   "id": "d10412a1",
   "metadata": {},
   "outputs": [],
   "source": [
    "NUM_OF_INFLUENCERS = 10\n",
    "NUM_OF_FILES_PER_INFLUENCER = 10\n",
    "SEED_NUMBER = 8"
   ]
  },
  {
   "cell_type": "code",
   "execution_count": 130,
   "id": "108e2a63",
   "metadata": {},
   "outputs": [],
   "source": [
    "src_image_folders_base     = '/Users/mshayganfar/Mahni_Folder/Mahni/Influencers/images/'\n",
    "dst_image_folders_base     = '/Users/mshayganfar/Mahni_Folder/Mahni/Influencers/Beauty/subset_images/'\n",
    "resized_image_folders_base = '/Users/mshayganfar/Mahni_Folder/Mahni/Influencers/Beauty/resized_images/'\n",
    "image_classes_folder_base  = '/Users/mshayganfar/Mahni_Folder/Mahni/Influencers/Beauty/Classes/'\n",
    "test_image_folder_base     = '/Users/mshayganfar/Mahni_Folder/Mahni/Influencers/Test/beauty/'"
   ]
  },
  {
   "cell_type": "markdown",
   "id": "1641b51b",
   "metadata": {},
   "source": [
    "### Image Preparation"
   ]
  },
  {
   "cell_type": "code",
   "execution_count": 9,
   "id": "d47d31c1",
   "metadata": {},
   "outputs": [],
   "source": [
    "def load_image(image_path, image_name):\n",
    "    image = cv2.imread(os.path.join(image_path, image_name))\n",
    "    # print(os.path.join(image_path, image_name))\n",
    "    return image"
   ]
  },
  {
   "cell_type": "code",
   "execution_count": 10,
   "id": "8be4a0f9",
   "metadata": {},
   "outputs": [],
   "source": [
    "def resize_image(src_image, width, height):\n",
    "    # print('Original Image Dimensions: ', src_image.shape)\n",
    "    \n",
    "    dim = (width, height)\n",
    "    \n",
    "    # resize image\n",
    "    resized_image = cv2.resize(src_image, dim, interpolation=cv2.INTER_AREA)\n",
    "    \n",
    "    # print('Resized Image Dimensions : ', resized_image.shape)\n",
    "    \n",
    "    return resized_image"
   ]
  },
  {
   "cell_type": "code",
   "execution_count": 11,
   "id": "bbdf3579",
   "metadata": {},
   "outputs": [],
   "source": [
    "def save_image(image_path, image_name, image):\n",
    "    cv2.imwrite(os.path.join(image_path , image_name), image)"
   ]
  },
  {
   "cell_type": "code",
   "execution_count": 12,
   "id": "2e963248",
   "metadata": {},
   "outputs": [],
   "source": [
    "# Resizing and saving subsampled images into a new folder\n",
    "\n",
    "def save_resized_images(dst_image_folder, resized_image_folder):\n",
    "    \n",
    "    filenames = os.listdir(dst_image_folder + '.')\n",
    "    \n",
    "    for filename in filenames:\n",
    "        if filename[-3:] == 'jpg':\n",
    "            loaded_image  = load_image(dst_image_folder, filename)\n",
    "            resized_image = resize_image(loaded_image, 50, 50)\n",
    "            save_image(resized_image_folder, 'small_' + filename, resized_image)"
   ]
  },
  {
   "cell_type": "markdown",
   "id": "2a0a5fc9",
   "metadata": {},
   "source": [
    "### Get Subset of Influencers' Images"
   ]
  },
  {
   "cell_type": "code",
   "execution_count": 120,
   "id": "c8011df4",
   "metadata": {},
   "outputs": [],
   "source": [
    "# Randomly picking N usernames\n",
    "\n",
    "def get_random_usernames(df, influencers_count, num_of_influencers, verbose):\n",
    "    username_list = []\n",
    "\n",
    "    random.seed(SEED_NUMBER)\n",
    "    random_numbers = random.sample(range(0, influencers_count-1), num_of_influencers)\n",
    "\n",
    "    for row_index in random_numbers:\n",
    "        username_list.append(df.iloc[row_index].username)\n",
    "\n",
    "    if verbose:\n",
    "        print(username_list)\n",
    "    \n",
    "    return username_list"
   ]
  },
  {
   "cell_type": "code",
   "execution_count": 121,
   "id": "b3901fca",
   "metadata": {},
   "outputs": [],
   "source": [
    "# Extracting image file names\n",
    "\n",
    "def extract_image_file_names(username_list, src_image_folder):\n",
    "\n",
    "    filenames_list = []\n",
    "\n",
    "    for username in username_list:\n",
    "        first_char = username[0]\n",
    "        if first_char.isalpha() == False:\n",
    "            first_char = '_'\n",
    "        # check if file exist in destination\n",
    "        if os.path.exists(src_image_folder + first_char):\n",
    "            specific_folder = src_image_folder + first_char + '/'\n",
    "            filenames = [filename for filename in os.listdir(specific_folder + '.') if filename.startswith(username)]\n",
    "            filenames_list.append(filenames)\n",
    "        else:\n",
    "            print(f\"Folder {first_char} doesn't exist!\")\n",
    "            \n",
    "    return filenames_list"
   ]
  },
  {
   "cell_type": "code",
   "execution_count": 122,
   "id": "2727c1e0",
   "metadata": {},
   "outputs": [],
   "source": [
    "# Subsampling image files for all of the influencers\n",
    "\n",
    "def get_influencers_random_subsampled_files(filenames_list, num_of_files_per_influencer):\n",
    "    \n",
    "    subsampled_filename_list = []\n",
    "\n",
    "    random.seed(SEED_NUMBER)\n",
    "\n",
    "    for i in range(0, len(filenames_list)):\n",
    "        influencer_image_filenames = []\n",
    "        random_numbers = random.sample(range(0, len(filenames_list[i])-1), num_of_files_per_influencer)\n",
    "\n",
    "        for file_index in random_numbers:\n",
    "            influencer_image_filenames.append(filenames_list[i][file_index])\n",
    "\n",
    "        subsampled_filename_list.append(influencer_image_filenames)\n",
    "        \n",
    "    return subsampled_filename_list"
   ]
  },
  {
   "cell_type": "code",
   "execution_count": 123,
   "id": "55b45c72",
   "metadata": {},
   "outputs": [],
   "source": [
    "# Copying the subsampled files into the destination folder\n",
    "\n",
    "def copy_influencers_files(subsampled_filenames, src_folder_base, dst_folder_base):\n",
    "\n",
    "    for i in range(0, len(subsampled_filenames)):\n",
    "        for j in range(0, len(subsampled_filenames[i])):\n",
    "            filename = subsampled_filenames[i][j]\n",
    "            first_char = filename[0]\n",
    "            if first_char.isalpha() == False:\n",
    "                first_char = '_'\n",
    "            # check if file exist in destination\n",
    "            if os.path.exists(src_folder_base + first_char):\n",
    "                specific_src_folder = src_folder_base + first_char + '/'\n",
    "                shutil.copy(specific_src_folder + filename, dst_folder_base + filename)\n",
    "            else:\n",
    "                print(f\"Folder {first_char} doesn't exist!\")"
   ]
  },
  {
   "cell_type": "code",
   "execution_count": 124,
   "id": "a0307bba",
   "metadata": {},
   "outputs": [
    {
     "name": "stdout",
     "output_type": "stream",
     "text": [
      "['4everestherr', 'monicastylemuse', 'tashasilvestre', 'amieyoungmua', 'neworleansnaturalhairexpo', 'missemanuelle', 'lilybetzabee', 'megfeather', 'kesulatko_makeup', 'carobouvette']\n"
     ]
    }
   ],
   "source": [
    "usernames = get_random_usernames(df_influencers, beauty_influencers_count, NUM_OF_INFLUENCERS, True)"
   ]
  },
  {
   "cell_type": "code",
   "execution_count": 125,
   "id": "fb80cc36",
   "metadata": {},
   "outputs": [],
   "source": [
    "filenames = extract_image_file_names(usernames, src_image_folders_base)"
   ]
  },
  {
   "cell_type": "code",
   "execution_count": 126,
   "id": "45190159",
   "metadata": {},
   "outputs": [],
   "source": [
    "influencers_subsampled_filenames = get_influencers_random_subsampled_files(filenames, NUM_OF_FILES_PER_INFLUENCER)"
   ]
  },
  {
   "cell_type": "code",
   "execution_count": 127,
   "id": "1b842e50",
   "metadata": {},
   "outputs": [],
   "source": [
    "copy_influencers_files(influencers_subsampled_filenames, src_image_folders_base, dst_image_folders_base)"
   ]
  },
  {
   "cell_type": "code",
   "execution_count": 128,
   "id": "9099a12b",
   "metadata": {},
   "outputs": [],
   "source": [
    "save_resized_images(dst_image_folders_base, resized_image_folders_base)"
   ]
  },
  {
   "cell_type": "markdown",
   "id": "f9de8428",
   "metadata": {},
   "source": [
    "### Get Specific Influencer's Images"
   ]
  },
  {
   "cell_type": "code",
   "execution_count": 22,
   "id": "aad45e62",
   "metadata": {},
   "outputs": [],
   "source": [
    "# Reading N files of a specific influencer\n",
    "\n",
    "def get_influencer_files(image_folder, username):\n",
    "\n",
    "    first_char = username[0]\n",
    "    if first_char.isalpha() == False:\n",
    "        first_char = '_'\n",
    "    # check if file exist in destination\n",
    "    if os.path.exists(image_folder + first_char):\n",
    "        specific_folder = image_folder + first_char + '/'\n",
    "        filenames = [filename for filename in os.listdir(specific_folder + '.') if filename.startswith(username)]\n",
    "    else:\n",
    "        print(f\"Folder {first_char} doesn't exist!\")\n",
    "\n",
    "    return filenames"
   ]
  },
  {
   "cell_type": "code",
   "execution_count": 23,
   "id": "ec5917ae",
   "metadata": {},
   "outputs": [],
   "source": [
    "# Subsampling image files\n",
    "\n",
    "def get_influencr_random_subsampled_files(filenames, number_of_files):\n",
    "    \n",
    "    subsampled_filename_list = []\n",
    "\n",
    "    random.seed(SEED_NUMBER)\n",
    "\n",
    "    random_numbers = random.sample(range(0, len(filenames)-1), number_of_files)\n",
    "    \n",
    "    for file_index in random_numbers:\n",
    "        subsampled_filename_list.append(filenames[file_index])\n",
    "        \n",
    "    return subsampled_filename_list"
   ]
  },
  {
   "cell_type": "code",
   "execution_count": 24,
   "id": "134fe49c",
   "metadata": {},
   "outputs": [],
   "source": [
    "# Copying the subsampled files into the destination folder\n",
    "\n",
    "def copy_influencer_files(filenames, src_folder_base, dst_folder_base):\n",
    "    \n",
    "    for i in range(0, len(filenames)):\n",
    "        filename = filenames[i]\n",
    "        first_char = filename[0]\n",
    "        if first_char.isalpha() == False:\n",
    "            first_char = '_'\n",
    "        # check if file exist in destination\n",
    "        if os.path.exists(src_folder_base + first_char):\n",
    "            specific_src_folder = src_folder_base + first_char + '/'\n",
    "            shutil.copy(specific_src_folder + filename, dst_image_folders_base + filename)\n",
    "        else:\n",
    "            print(f\"Folder {first_char} doesn't exist!\")"
   ]
  },
  {
   "cell_type": "code",
   "execution_count": 25,
   "id": "4b46f4af",
   "metadata": {},
   "outputs": [],
   "source": [
    "influencer_filenames = get_influencer_files(src_image_folders_base, 'zodieac')"
   ]
  },
  {
   "cell_type": "code",
   "execution_count": 26,
   "id": "dcb412f0",
   "metadata": {},
   "outputs": [],
   "source": [
    "influencer_subsampled_filenames = get_influencr_random_subsampled_files(influencer_filenames, 150)"
   ]
  },
  {
   "cell_type": "code",
   "execution_count": 27,
   "id": "51582d6c",
   "metadata": {},
   "outputs": [],
   "source": [
    "copy_influencer_files(influencer_subsampled_filenames, src_image_folders_base, dst_image_folders_base)"
   ]
  },
  {
   "cell_type": "code",
   "execution_count": 28,
   "id": "659c343d",
   "metadata": {},
   "outputs": [],
   "source": [
    "save_resized_images(dst_image_folders_base, resized_image_folders_base)"
   ]
  },
  {
   "cell_type": "markdown",
   "id": "278c40f0",
   "metadata": {},
   "source": [
    "### Other Categories Image Preparation"
   ]
  },
  {
   "cell_type": "code",
   "execution_count": 37,
   "id": "e6ebab8e",
   "metadata": {},
   "outputs": [],
   "source": [
    "beauty_images_individual_models_base = '/Users/mshayganfar/Mahni_Folder/Mahni/Influencers/Beauty/Classes/'"
   ]
  },
  {
   "cell_type": "code",
   "execution_count": 35,
   "id": "382392fd",
   "metadata": {},
   "outputs": [],
   "source": [
    "sampled_filenames_dict = {'eye':[], 'face':[], 'hair':[], 'lips':[], 'nail':[], 'products':[]}"
   ]
  },
  {
   "cell_type": "code",
   "execution_count": 38,
   "id": "7d9621aa",
   "metadata": {},
   "outputs": [
    {
     "name": "stdout",
     "output_type": "stream",
     "text": [
      "Category eye is done.\n",
      "Category face is done.\n",
      "Category hair is done.\n",
      "Category lips is done.\n",
      "Category nail is done.\n",
      "Category products is done.\n"
     ]
    }
   ],
   "source": [
    "# Reading image file names\n",
    "\n",
    "for category in list(sampled_filenames_dict.keys()):\n",
    "    # check if file exists in destination\n",
    "    specific_folder = beauty_images_individual_models_base + category.capitalize() + '/' + category + '/'\n",
    "    filenames = [filename for filename in os.listdir(specific_folder + '.') if filename.endswith('.jpg')]\n",
    "    sampled_filenames_dict[category] = filenames\n",
    "\n",
    "    print(f\"Category {category} is done.\")"
   ]
  },
  {
   "cell_type": "code",
   "execution_count": 40,
   "id": "c2e5741b",
   "metadata": {},
   "outputs": [
    {
     "name": "stdout",
     "output_type": "stream",
     "text": [
      "Category eye is done.\n",
      "Category face is done.\n",
      "Category hair is done.\n",
      "Category lips is done.\n",
      "Category nail is done.\n",
      "Category products is done.\n"
     ]
    }
   ],
   "source": [
    "# Copying files from other categories into the \"not_<category>\" folders\n",
    "\n",
    "for category in sampled_filenames_dict:\n",
    "    number_of_files = len(sampled_filenames_dict[category])\n",
    "    number_of_files_per_category = number_of_files//5\n",
    "    for other_category in list(sampled_filenames_dict.keys()):\n",
    "        if other_category != category:\n",
    "            number_of_files_in_other_category = len(sampled_filenames_dict[other_category])\n",
    "            random_numbers = random.sample(range(0, number_of_files_in_other_category-1), number_of_files_per_category)\n",
    "            for file_index in random_numbers:\n",
    "                filename = sampled_filenames_dict[other_category][file_index]\n",
    "                src_folder = beauty_images_individual_models_base + other_category.capitalize() + '/' + other_category + '/'\n",
    "                dst_folder = beauty_images_individual_models_base + category.capitalize() + '/not_' + category + '/'\n",
    "                if os.path.exists(src_folder + filename):\n",
    "                    shutil.copy(src_folder + filename, dst_folder + filename)\n",
    "                else:\n",
    "                    print(f\"File {filename} doesn't exist in this {src_folder}!\")\n",
    "    print(f\"Category {category} is done.\")"
   ]
  },
  {
   "cell_type": "markdown",
   "id": "a66bde60",
   "metadata": {},
   "source": [
    "### Beauty >> Eye Model"
   ]
  },
  {
   "cell_type": "code",
   "execution_count": 49,
   "id": "579a648d",
   "metadata": {},
   "outputs": [],
   "source": [
    "import tensorflow as tf\n",
    "\n",
    "from tensorflow.keras import regularizers\n",
    "from tensorflow.keras.callbacks import EarlyStopping\n",
    "from tensorflow.keras.layers import Dense, Conv2D, MaxPool2D, Flatten, Dropout\n",
    "from tensorflow.keras.models import Sequential\n",
    "from tensorflow.keras.preprocessing.image import ImageDataGenerator"
   ]
  },
  {
   "cell_type": "code",
   "execution_count": null,
   "id": "44b0f89c",
   "metadata": {},
   "outputs": [],
   "source": [
    "['eye', 'face', 'hair', 'lips', 'nail', 'products']"
   ]
  },
  {
   "cell_type": "code",
   "execution_count": 42,
   "id": "31b5d585",
   "metadata": {},
   "outputs": [],
   "source": [
    "batch_size   = 32\n",
    "image_height = 50\n",
    "image_width  = 50"
   ]
  },
  {
   "cell_type": "code",
   "execution_count": 45,
   "id": "c77c37ac",
   "metadata": {},
   "outputs": [],
   "source": [
    "eye_images = beauty_images_individual_models_base + 'Eye/'"
   ]
  },
  {
   "cell_type": "code",
   "execution_count": 56,
   "id": "8c00dde2",
   "metadata": {},
   "outputs": [
    {
     "name": "stdout",
     "output_type": "stream",
     "text": [
      "Found 631 files belonging to 2 classes.\n",
      "Using 537 files for training.\n"
     ]
    }
   ],
   "source": [
    "eye_train_images = tf.keras.preprocessing.image_dataset_from_directory(\n",
    "    eye_images,\n",
    "    labels='inferred',\n",
    "    label_mode='int',\n",
    "    class_names=['eye', 'not_eye'],\n",
    "    color_mode='rgb',\n",
    "    batch_size=batch_size,\n",
    "    image_size=(image_height, image_width),\n",
    "    shuffle=True,\n",
    "    seed=42,\n",
    "    validation_split=0.15,\n",
    "    subset=\"training\"\n",
    ")"
   ]
  },
  {
   "cell_type": "code",
   "execution_count": 57,
   "id": "5d00088c",
   "metadata": {},
   "outputs": [
    {
     "name": "stdout",
     "output_type": "stream",
     "text": [
      "Found 631 files belonging to 2 classes.\n",
      "Using 94 files for validation.\n"
     ]
    }
   ],
   "source": [
    "eye_validation_images = tf.keras.preprocessing.image_dataset_from_directory(\n",
    "    eye_images,\n",
    "    labels='inferred',\n",
    "    label_mode='int',\n",
    "    class_names=['eye', 'not_eye'],\n",
    "    color_mode='rgb',\n",
    "    batch_size=batch_size,\n",
    "    image_size=(image_height, image_width),\n",
    "    shuffle=True,\n",
    "    seed=42,\n",
    "    validation_split=0.15,\n",
    "    subset=\"validation\"\n",
    ")"
   ]
  },
  {
   "cell_type": "code",
   "execution_count": 176,
   "id": "704f7d58",
   "metadata": {},
   "outputs": [],
   "source": [
    "eye_model = Sequential()\n",
    "\n",
    "# CONVOLUTIONAL LAYER\n",
    "eye_model.add(Conv2D(filters=32,\n",
    "                     kernel_regularizer=regularizers.l1_l2(l1=0.001, l2=0.001),\n",
    "                     kernel_size=(3, 3), \n",
    "                     input_shape=(50, 50, 3), \n",
    "                     activation='relu'))\n",
    "\n",
    "# POOLING LAYER\n",
    "eye_model.add(MaxPool2D(pool_size=(2, 2)))\n",
    "\n",
    "# CONVOLUTIONAL LAYER\n",
    "eye_model.add(Conv2D(filters=64,\n",
    "                     kernel_regularizer=regularizers.l1_l2(l1=0.001, l2=0.001),\n",
    "                     kernel_size=(3, 3), \n",
    "                     activation='relu'))\n",
    "\n",
    "# POOLING LAYER & DROPOUT\n",
    "eye_model.add(MaxPool2D(pool_size=(2, 2)))\n",
    "eye_model.add(Dropout(0.5))\n",
    "\n",
    "# CONVOLUTIONAL LAYER\n",
    "eye_model.add(Conv2D(filters=64, \n",
    "                     kernel_regularizer=regularizers.l1_l2(l1=0.001, l2=0.001),\n",
    "                     kernel_size=(3, 3), \n",
    "                     activation='relu'))\n",
    "\n",
    "# POOLING LAYER & DROPOUT\n",
    "eye_model.add(MaxPool2D(pool_size=(2, 2)))\n",
    "eye_model.add(Dropout(0.5))\n",
    "\n",
    "# FLATTEN IMAGES FROM 50 by 50 to 2500 BEFORE FINAL LAYER\n",
    "eye_model.add(Flatten(input_shape=(50, 50, 3)))\n",
    "\n",
    "# 128 NEURONS IN DENSE HIDDEN LAYER\n",
    "eye_model.add(Dense(128, \n",
    "                    kernel_regularizer=regularizers.l1_l2(l1=0.001, l2=0.001), \n",
    "                    activation='relu'))\n",
    "eye_model.add(Dropout(0.5))\n",
    "\n",
    "# 64 NEURONS IN DENSE HIDDEN LAYER\n",
    "eye_model.add(Dense(64, \n",
    "                    kernel_regularizer=regularizers.l1_l2(l1=0.001, l2=0.001), \n",
    "                    activation='relu'))\n",
    "eye_model.add(Dropout(0.5))\n",
    "\n",
    "# LAST LAYER IS THE CLASSIFIER, THUS 8 POSSIBLE CLASSES\n",
    "eye_model.add(Dense(1, activation='sigmoid'))"
   ]
  },
  {
   "cell_type": "code",
   "execution_count": 177,
   "id": "702d54cc",
   "metadata": {},
   "outputs": [
    {
     "name": "stdout",
     "output_type": "stream",
     "text": [
      "Model: \"sequential_3\"\n",
      "_________________________________________________________________\n",
      " Layer (type)                Output Shape              Param #   \n",
      "=================================================================\n",
      " conv2d_9 (Conv2D)           (None, 48, 48, 32)        896       \n",
      "                                                                 \n",
      " max_pooling2d_9 (MaxPooling  (None, 24, 24, 32)       0         \n",
      " 2D)                                                             \n",
      "                                                                 \n",
      " conv2d_10 (Conv2D)          (None, 22, 22, 64)        18496     \n",
      "                                                                 \n",
      " max_pooling2d_10 (MaxPoolin  (None, 11, 11, 64)       0         \n",
      " g2D)                                                            \n",
      "                                                                 \n",
      " dropout_12 (Dropout)        (None, 11, 11, 64)        0         \n",
      "                                                                 \n",
      " conv2d_11 (Conv2D)          (None, 9, 9, 64)          36928     \n",
      "                                                                 \n",
      " max_pooling2d_11 (MaxPoolin  (None, 4, 4, 64)         0         \n",
      " g2D)                                                            \n",
      "                                                                 \n",
      " dropout_13 (Dropout)        (None, 4, 4, 64)          0         \n",
      "                                                                 \n",
      " flatten_3 (Flatten)         (None, 1024)              0         \n",
      "                                                                 \n",
      " dense_9 (Dense)             (None, 128)               131200    \n",
      "                                                                 \n",
      " dropout_14 (Dropout)        (None, 128)               0         \n",
      "                                                                 \n",
      " dense_10 (Dense)            (None, 64)                8256      \n",
      "                                                                 \n",
      " dropout_15 (Dropout)        (None, 64)                0         \n",
      "                                                                 \n",
      " dense_11 (Dense)            (None, 1)                 65        \n",
      "                                                                 \n",
      "=================================================================\n",
      "Total params: 195,841\n",
      "Trainable params: 195,841\n",
      "Non-trainable params: 0\n",
      "_________________________________________________________________\n"
     ]
    }
   ],
   "source": [
    "eye_model.summary()"
   ]
  },
  {
   "cell_type": "code",
   "execution_count": 178,
   "id": "cff3128e",
   "metadata": {},
   "outputs": [],
   "source": [
    "eye_model.compile(optimizer='adam',\n",
    "                  loss='binary_crossentropy',\n",
    "                  metrics=['accuracy'])"
   ]
  },
  {
   "cell_type": "code",
   "execution_count": 179,
   "id": "e9103a3b",
   "metadata": {},
   "outputs": [],
   "source": [
    "early_stop = EarlyStopping(monitor='val_loss', patience=5)"
   ]
  },
  {
   "cell_type": "code",
   "execution_count": 180,
   "id": "5c049ef3",
   "metadata": {},
   "outputs": [
    {
     "name": "stdout",
     "output_type": "stream",
     "text": [
      "Epoch 1/150\n",
      "17/17 [==============================] - 1s 49ms/step - loss: 22.1693 - accuracy: 0.4804 - val_loss: 8.4930 - val_accuracy: 0.6596\n",
      "Epoch 2/150\n",
      "17/17 [==============================] - 1s 41ms/step - loss: 10.0267 - accuracy: 0.4842 - val_loss: 8.4272 - val_accuracy: 0.5319\n",
      "Epoch 3/150\n",
      "17/17 [==============================] - 1s 41ms/step - loss: 8.6123 - accuracy: 0.5400 - val_loss: 8.3344 - val_accuracy: 0.4574\n",
      "Epoch 4/150\n",
      "17/17 [==============================] - 1s 40ms/step - loss: 8.4008 - accuracy: 0.5345 - val_loss: 8.2569 - val_accuracy: 0.4894\n",
      "Epoch 5/150\n",
      "17/17 [==============================] - 1s 41ms/step - loss: 8.2509 - accuracy: 0.5419 - val_loss: 8.1784 - val_accuracy: 0.5319\n",
      "Epoch 6/150\n",
      "17/17 [==============================] - 1s 40ms/step - loss: 8.1887 - accuracy: 0.5475 - val_loss: 8.0968 - val_accuracy: 0.5000\n",
      "Epoch 7/150\n",
      "17/17 [==============================] - 1s 41ms/step - loss: 8.1023 - accuracy: 0.5102 - val_loss: 8.0170 - val_accuracy: 0.5213\n",
      "Epoch 8/150\n",
      "17/17 [==============================] - 1s 41ms/step - loss: 7.9964 - accuracy: 0.5605 - val_loss: 7.9355 - val_accuracy: 0.5532\n",
      "Epoch 9/150\n",
      "17/17 [==============================] - 1s 41ms/step - loss: 7.9025 - accuracy: 0.5549 - val_loss: 7.8550 - val_accuracy: 0.6489\n",
      "Epoch 10/150\n",
      "17/17 [==============================] - 1s 42ms/step - loss: 7.8285 - accuracy: 0.5549 - val_loss: 7.7711 - val_accuracy: 0.6809\n",
      "Epoch 11/150\n",
      "17/17 [==============================] - 1s 40ms/step - loss: 7.7009 - accuracy: 0.6592 - val_loss: 7.6734 - val_accuracy: 0.7553\n",
      "Epoch 12/150\n",
      "17/17 [==============================] - 1s 41ms/step - loss: 7.6355 - accuracy: 0.6331 - val_loss: 7.5771 - val_accuracy: 0.7021\n",
      "Epoch 13/150\n",
      "17/17 [==============================] - 1s 42ms/step - loss: 7.5563 - accuracy: 0.6350 - val_loss: 7.4431 - val_accuracy: 0.8404\n",
      "Epoch 14/150\n",
      "17/17 [==============================] - 1s 38ms/step - loss: 7.4192 - accuracy: 0.7002 - val_loss: 7.3237 - val_accuracy: 0.8298\n",
      "Epoch 15/150\n",
      "17/17 [==============================] - 1s 41ms/step - loss: 7.2912 - accuracy: 0.7225 - val_loss: 7.1930 - val_accuracy: 0.8404\n",
      "Epoch 16/150\n",
      "17/17 [==============================] - 1s 41ms/step - loss: 7.2222 - accuracy: 0.7300 - val_loss: 7.0768 - val_accuracy: 0.8298\n",
      "Epoch 17/150\n",
      "17/17 [==============================] - 1s 40ms/step - loss: 7.0763 - accuracy: 0.7709 - val_loss: 6.9921 - val_accuracy: 0.8404\n",
      "Epoch 18/150\n",
      "17/17 [==============================] - 1s 41ms/step - loss: 7.0014 - accuracy: 0.7952 - val_loss: 6.8947 - val_accuracy: 0.8936\n",
      "Epoch 19/150\n",
      "17/17 [==============================] - 1s 41ms/step - loss: 6.8867 - accuracy: 0.8156 - val_loss: 6.7208 - val_accuracy: 0.9043\n",
      "Epoch 20/150\n",
      "17/17 [==============================] - 1s 41ms/step - loss: 6.8002 - accuracy: 0.8156 - val_loss: 6.6424 - val_accuracy: 0.9149\n",
      "Epoch 21/150\n",
      "17/17 [==============================] - 1s 41ms/step - loss: 6.6709 - accuracy: 0.8305 - val_loss: 6.5185 - val_accuracy: 0.9149\n",
      "Epoch 22/150\n",
      "17/17 [==============================] - 1s 42ms/step - loss: 6.6420 - accuracy: 0.8082 - val_loss: 6.5680 - val_accuracy: 0.8404\n",
      "Epoch 23/150\n",
      "17/17 [==============================] - 1s 40ms/step - loss: 6.6333 - accuracy: 0.7542 - val_loss: 6.4490 - val_accuracy: 0.8617\n",
      "Epoch 24/150\n",
      "17/17 [==============================] - 1s 41ms/step - loss: 6.4763 - accuracy: 0.7970 - val_loss: 6.3761 - val_accuracy: 0.8404\n",
      "Epoch 25/150\n",
      "17/17 [==============================] - 1s 41ms/step - loss: 6.4030 - accuracy: 0.7952 - val_loss: 6.2647 - val_accuracy: 0.8830\n",
      "Epoch 26/150\n",
      "17/17 [==============================] - 1s 40ms/step - loss: 6.2904 - accuracy: 0.8138 - val_loss: 6.1388 - val_accuracy: 0.8936\n",
      "Epoch 27/150\n",
      "17/17 [==============================] - 1s 42ms/step - loss: 6.2174 - accuracy: 0.8119 - val_loss: 6.0397 - val_accuracy: 0.8830\n",
      "Epoch 28/150\n",
      "17/17 [==============================] - 1s 40ms/step - loss: 6.1155 - accuracy: 0.8641 - val_loss: 5.9956 - val_accuracy: 0.8723\n",
      "Epoch 29/150\n",
      "17/17 [==============================] - 1s 41ms/step - loss: 6.0736 - accuracy: 0.8250 - val_loss: 5.9512 - val_accuracy: 0.8723\n",
      "Epoch 30/150\n",
      "17/17 [==============================] - 1s 42ms/step - loss: 5.9532 - accuracy: 0.8492 - val_loss: 5.8297 - val_accuracy: 0.9149\n",
      "Epoch 31/150\n",
      "17/17 [==============================] - 1s 41ms/step - loss: 5.8577 - accuracy: 0.8492 - val_loss: 5.7125 - val_accuracy: 0.9043\n",
      "Epoch 32/150\n",
      "17/17 [==============================] - 1s 41ms/step - loss: 5.7952 - accuracy: 0.8734 - val_loss: 5.6852 - val_accuracy: 0.9043\n",
      "Epoch 33/150\n",
      "17/17 [==============================] - 1s 41ms/step - loss: 5.6872 - accuracy: 0.8845 - val_loss: 5.6225 - val_accuracy: 0.8830\n",
      "Epoch 34/150\n",
      "17/17 [==============================] - 1s 42ms/step - loss: 5.5956 - accuracy: 0.8715 - val_loss: 5.5088 - val_accuracy: 0.9043\n",
      "Epoch 35/150\n",
      "17/17 [==============================] - 1s 41ms/step - loss: 5.5209 - accuracy: 0.8696 - val_loss: 5.4588 - val_accuracy: 0.8936\n",
      "Epoch 36/150\n",
      "17/17 [==============================] - 1s 40ms/step - loss: 5.4329 - accuracy: 0.8827 - val_loss: 5.3646 - val_accuracy: 0.9043\n",
      "Epoch 37/150\n",
      "17/17 [==============================] - 1s 42ms/step - loss: 5.3581 - accuracy: 0.8790 - val_loss: 5.2612 - val_accuracy: 0.9362\n",
      "Epoch 38/150\n",
      "17/17 [==============================] - 1s 42ms/step - loss: 5.3142 - accuracy: 0.8827 - val_loss: 5.1961 - val_accuracy: 0.9468\n",
      "Epoch 39/150\n",
      "17/17 [==============================] - 1s 41ms/step - loss: 5.2619 - accuracy: 0.8715 - val_loss: 5.1588 - val_accuracy: 0.9043\n",
      "Epoch 40/150\n",
      "17/17 [==============================] - 1s 41ms/step - loss: 5.1613 - accuracy: 0.8808 - val_loss: 5.1154 - val_accuracy: 0.8617\n",
      "Epoch 41/150\n",
      "17/17 [==============================] - 1s 42ms/step - loss: 5.0944 - accuracy: 0.8883 - val_loss: 5.0285 - val_accuracy: 0.8936\n",
      "Epoch 42/150\n",
      "17/17 [==============================] - 1s 41ms/step - loss: 5.0317 - accuracy: 0.8920 - val_loss: 4.9598 - val_accuracy: 0.9043\n",
      "Epoch 43/150\n",
      "17/17 [==============================] - 1s 41ms/step - loss: 4.9337 - accuracy: 0.9013 - val_loss: 4.8632 - val_accuracy: 0.9043\n",
      "Epoch 44/150\n",
      "17/17 [==============================] - 1s 42ms/step - loss: 4.8312 - accuracy: 0.9069 - val_loss: 4.8414 - val_accuracy: 0.8936\n",
      "Epoch 45/150\n",
      "17/17 [==============================] - 1s 41ms/step - loss: 4.8020 - accuracy: 0.8827 - val_loss: 4.7876 - val_accuracy: 0.9043\n",
      "Epoch 46/150\n",
      "17/17 [==============================] - 1s 41ms/step - loss: 4.6896 - accuracy: 0.9069 - val_loss: 4.6511 - val_accuracy: 0.9362\n",
      "Epoch 47/150\n",
      "17/17 [==============================] - 1s 39ms/step - loss: 4.6347 - accuracy: 0.9236 - val_loss: 4.6508 - val_accuracy: 0.8830\n",
      "Epoch 48/150\n",
      "17/17 [==============================] - 1s 42ms/step - loss: 4.5393 - accuracy: 0.9143 - val_loss: 4.5635 - val_accuracy: 0.9043\n",
      "Epoch 49/150\n",
      "17/17 [==============================] - 1s 40ms/step - loss: 4.4753 - accuracy: 0.9106 - val_loss: 4.4500 - val_accuracy: 0.9362\n",
      "Epoch 50/150\n",
      "17/17 [==============================] - 1s 41ms/step - loss: 4.4116 - accuracy: 0.9199 - val_loss: 4.3749 - val_accuracy: 0.9574\n",
      "Epoch 51/150\n",
      "17/17 [==============================] - 1s 41ms/step - loss: 4.3471 - accuracy: 0.9143 - val_loss: 4.3271 - val_accuracy: 0.9468\n",
      "Epoch 52/150\n",
      "17/17 [==============================] - 1s 40ms/step - loss: 4.2385 - accuracy: 0.9311 - val_loss: 4.2840 - val_accuracy: 0.9362\n",
      "Epoch 53/150\n",
      "17/17 [==============================] - 1s 41ms/step - loss: 4.1988 - accuracy: 0.9460 - val_loss: 4.3011 - val_accuracy: 0.8617\n",
      "Epoch 54/150\n",
      "17/17 [==============================] - 1s 41ms/step - loss: 4.1656 - accuracy: 0.9199 - val_loss: 4.1412 - val_accuracy: 0.9362\n",
      "Epoch 55/150\n",
      "17/17 [==============================] - 1s 41ms/step - loss: 4.0911 - accuracy: 0.9199 - val_loss: 4.1615 - val_accuracy: 0.8936\n",
      "Epoch 56/150\n",
      "17/17 [==============================] - 1s 41ms/step - loss: 4.0275 - accuracy: 0.9255 - val_loss: 4.0745 - val_accuracy: 0.9255\n",
      "Epoch 57/150\n",
      "17/17 [==============================] - 1s 42ms/step - loss: 3.9633 - accuracy: 0.9385 - val_loss: 3.9867 - val_accuracy: 0.9362\n",
      "Epoch 58/150\n"
     ]
    },
    {
     "name": "stdout",
     "output_type": "stream",
     "text": [
      "17/17 [==============================] - 1s 43ms/step - loss: 3.9168 - accuracy: 0.9106 - val_loss: 3.9090 - val_accuracy: 0.9149\n",
      "Epoch 59/150\n",
      "17/17 [==============================] - 1s 43ms/step - loss: 3.8325 - accuracy: 0.9497 - val_loss: 3.8188 - val_accuracy: 0.9149\n",
      "Epoch 60/150\n",
      "17/17 [==============================] - 1s 43ms/step - loss: 3.7886 - accuracy: 0.9404 - val_loss: 3.8070 - val_accuracy: 0.9362\n",
      "Epoch 61/150\n",
      "17/17 [==============================] - 1s 44ms/step - loss: 3.7088 - accuracy: 0.9497 - val_loss: 3.7775 - val_accuracy: 0.9362\n",
      "Epoch 62/150\n",
      "17/17 [==============================] - 1s 45ms/step - loss: 3.6554 - accuracy: 0.9385 - val_loss: 3.7391 - val_accuracy: 0.9043\n",
      "Epoch 63/150\n",
      "17/17 [==============================] - 1s 46ms/step - loss: 3.5880 - accuracy: 0.9423 - val_loss: 3.6051 - val_accuracy: 0.9574\n",
      "Epoch 64/150\n",
      "17/17 [==============================] - 1s 47ms/step - loss: 3.5669 - accuracy: 0.9330 - val_loss: 3.5802 - val_accuracy: 0.9362\n",
      "Epoch 65/150\n",
      "17/17 [==============================] - 1s 46ms/step - loss: 3.4701 - accuracy: 0.9497 - val_loss: 3.5322 - val_accuracy: 0.9468\n",
      "Epoch 66/150\n",
      "17/17 [==============================] - 1s 47ms/step - loss: 3.4151 - accuracy: 0.9553 - val_loss: 3.4654 - val_accuracy: 0.9468\n",
      "Epoch 67/150\n",
      "17/17 [==============================] - 1s 45ms/step - loss: 3.3894 - accuracy: 0.9292 - val_loss: 3.3969 - val_accuracy: 0.9149\n",
      "Epoch 68/150\n",
      "17/17 [==============================] - 1s 47ms/step - loss: 3.3958 - accuracy: 0.9069 - val_loss: 3.3801 - val_accuracy: 0.9362\n",
      "Epoch 69/150\n",
      "17/17 [==============================] - 1s 46ms/step - loss: 3.3014 - accuracy: 0.9292 - val_loss: 3.3191 - val_accuracy: 0.9149\n",
      "Epoch 70/150\n",
      "17/17 [==============================] - 1s 45ms/step - loss: 3.2369 - accuracy: 0.9460 - val_loss: 3.2551 - val_accuracy: 0.9255\n",
      "Epoch 71/150\n",
      "17/17 [==============================] - 1s 48ms/step - loss: 3.2065 - accuracy: 0.9460 - val_loss: 3.2570 - val_accuracy: 0.9043\n",
      "Epoch 72/150\n",
      "17/17 [==============================] - 1s 49ms/step - loss: 3.1506 - accuracy: 0.9479 - val_loss: 3.1591 - val_accuracy: 0.9149\n",
      "Epoch 73/150\n",
      "17/17 [==============================] - 1s 48ms/step - loss: 3.1039 - accuracy: 0.9236 - val_loss: 3.1521 - val_accuracy: 0.9149\n",
      "Epoch 74/150\n",
      "17/17 [==============================] - 1s 48ms/step - loss: 3.0354 - accuracy: 0.9479 - val_loss: 3.1017 - val_accuracy: 0.9362\n",
      "Epoch 75/150\n",
      "17/17 [==============================] - 1s 48ms/step - loss: 2.9837 - accuracy: 0.9553 - val_loss: 3.0305 - val_accuracy: 0.9362\n",
      "Epoch 76/150\n",
      "17/17 [==============================] - 1s 48ms/step - loss: 2.9194 - accuracy: 0.9572 - val_loss: 2.9932 - val_accuracy: 0.9574\n",
      "Epoch 77/150\n",
      "17/17 [==============================] - 1s 46ms/step - loss: 2.8715 - accuracy: 0.9572 - val_loss: 2.9830 - val_accuracy: 0.9149\n",
      "Epoch 78/150\n",
      "17/17 [==============================] - 1s 48ms/step - loss: 2.8290 - accuracy: 0.9534 - val_loss: 2.9359 - val_accuracy: 0.9362\n",
      "Epoch 79/150\n",
      "17/17 [==============================] - 1s 47ms/step - loss: 2.7788 - accuracy: 0.9590 - val_loss: 2.8904 - val_accuracy: 0.9468\n",
      "Epoch 80/150\n",
      "17/17 [==============================] - 1s 50ms/step - loss: 2.7102 - accuracy: 0.9646 - val_loss: 2.8180 - val_accuracy: 0.9149\n",
      "Epoch 81/150\n",
      "17/17 [==============================] - 1s 47ms/step - loss: 2.6686 - accuracy: 0.9646 - val_loss: 2.7426 - val_accuracy: 0.9149\n",
      "Epoch 82/150\n",
      "17/17 [==============================] - 1s 48ms/step - loss: 2.6676 - accuracy: 0.9423 - val_loss: 2.7200 - val_accuracy: 0.9362\n",
      "Epoch 83/150\n",
      "17/17 [==============================] - 1s 48ms/step - loss: 2.6132 - accuracy: 0.9516 - val_loss: 2.6948 - val_accuracy: 0.9255\n",
      "Epoch 84/150\n",
      "17/17 [==============================] - 1s 50ms/step - loss: 2.5448 - accuracy: 0.9646 - val_loss: 2.5965 - val_accuracy: 0.9574\n",
      "Epoch 85/150\n",
      "17/17 [==============================] - 1s 47ms/step - loss: 2.5246 - accuracy: 0.9534 - val_loss: 2.5834 - val_accuracy: 0.9468\n",
      "Epoch 86/150\n",
      "17/17 [==============================] - 1s 49ms/step - loss: 2.5340 - accuracy: 0.9534 - val_loss: 2.6134 - val_accuracy: 0.9043\n",
      "Epoch 87/150\n",
      "17/17 [==============================] - 1s 48ms/step - loss: 2.4719 - accuracy: 0.9534 - val_loss: 2.5644 - val_accuracy: 0.9362\n",
      "Epoch 88/150\n",
      "17/17 [==============================] - 1s 48ms/step - loss: 2.4272 - accuracy: 0.9609 - val_loss: 2.5187 - val_accuracy: 0.9255\n",
      "Epoch 89/150\n",
      "17/17 [==============================] - 1s 47ms/step - loss: 2.4115 - accuracy: 0.9367 - val_loss: 2.5539 - val_accuracy: 0.8830\n",
      "Epoch 90/150\n",
      "17/17 [==============================] - 1s 50ms/step - loss: 2.3967 - accuracy: 0.9330 - val_loss: 2.5237 - val_accuracy: 0.8830\n",
      "Epoch 91/150\n",
      "17/17 [==============================] - 1s 47ms/step - loss: 2.3519 - accuracy: 0.9404 - val_loss: 2.4058 - val_accuracy: 0.9362\n",
      "Epoch 92/150\n",
      "17/17 [==============================] - 1s 45ms/step - loss: 2.2619 - accuracy: 0.9590 - val_loss: 2.3138 - val_accuracy: 0.9255\n",
      "Epoch 93/150\n",
      "17/17 [==============================] - 1s 48ms/step - loss: 2.2342 - accuracy: 0.9628 - val_loss: 2.6183 - val_accuracy: 0.8085\n",
      "Epoch 94/150\n",
      "17/17 [==============================] - 1s 47ms/step - loss: 2.2492 - accuracy: 0.9330 - val_loss: 2.3538 - val_accuracy: 0.8936\n",
      "Epoch 95/150\n",
      "17/17 [==============================] - 1s 48ms/step - loss: 2.1766 - accuracy: 0.9609 - val_loss: 2.2459 - val_accuracy: 0.9362\n",
      "Epoch 96/150\n",
      "17/17 [==============================] - 1s 47ms/step - loss: 2.1221 - accuracy: 0.9516 - val_loss: 2.2351 - val_accuracy: 0.9255\n",
      "Epoch 97/150\n",
      "17/17 [==============================] - 1s 46ms/step - loss: 2.0895 - accuracy: 0.9553 - val_loss: 2.1600 - val_accuracy: 0.9468\n",
      "Epoch 98/150\n",
      "17/17 [==============================] - 1s 49ms/step - loss: 2.0344 - accuracy: 0.9665 - val_loss: 2.1717 - val_accuracy: 0.9149\n",
      "Epoch 99/150\n",
      "17/17 [==============================] - 1s 48ms/step - loss: 2.0182 - accuracy: 0.9628 - val_loss: 2.0841 - val_accuracy: 0.9362\n",
      "Epoch 100/150\n",
      "17/17 [==============================] - 1s 49ms/step - loss: 2.0310 - accuracy: 0.9460 - val_loss: 2.0695 - val_accuracy: 0.9255\n",
      "Epoch 101/150\n",
      "17/17 [==============================] - 1s 47ms/step - loss: 1.9714 - accuracy: 0.9646 - val_loss: 2.0456 - val_accuracy: 0.9255\n",
      "Epoch 102/150\n",
      "17/17 [==============================] - 1s 48ms/step - loss: 1.9040 - accuracy: 0.9758 - val_loss: 2.0034 - val_accuracy: 0.9468\n",
      "Epoch 103/150\n",
      "17/17 [==============================] - 1s 47ms/step - loss: 1.8854 - accuracy: 0.9609 - val_loss: 1.9541 - val_accuracy: 0.9362\n",
      "Epoch 104/150\n",
      "17/17 [==============================] - 1s 47ms/step - loss: 1.8856 - accuracy: 0.9590 - val_loss: 1.9915 - val_accuracy: 0.8936\n",
      "Epoch 105/150\n",
      "17/17 [==============================] - 1s 47ms/step - loss: 1.8474 - accuracy: 0.9646 - val_loss: 2.0127 - val_accuracy: 0.8936\n",
      "Epoch 106/150\n",
      "17/17 [==============================] - 1s 48ms/step - loss: 1.7676 - accuracy: 0.9739 - val_loss: 1.8892 - val_accuracy: 0.9468\n",
      "Epoch 107/150\n",
      "17/17 [==============================] - 1s 47ms/step - loss: 1.7453 - accuracy: 0.9721 - val_loss: 1.8356 - val_accuracy: 0.9362\n",
      "Epoch 108/150\n",
      "17/17 [==============================] - 1s 48ms/step - loss: 1.7284 - accuracy: 0.9721 - val_loss: 1.8430 - val_accuracy: 0.9362\n",
      "Epoch 109/150\n",
      "17/17 [==============================] - 1s 48ms/step - loss: 1.6774 - accuracy: 0.9814 - val_loss: 1.8080 - val_accuracy: 0.9255\n",
      "Epoch 110/150\n",
      "17/17 [==============================] - 1s 47ms/step - loss: 1.6476 - accuracy: 0.9702 - val_loss: 1.7419 - val_accuracy: 0.9255\n",
      "Epoch 111/150\n",
      "17/17 [==============================] - 1s 46ms/step - loss: 1.6369 - accuracy: 0.9683 - val_loss: 1.7074 - val_accuracy: 0.9362\n",
      "Epoch 112/150\n",
      "17/17 [==============================] - 1s 46ms/step - loss: 1.6359 - accuracy: 0.9665 - val_loss: 1.7693 - val_accuracy: 0.9149\n",
      "Epoch 113/150\n",
      "17/17 [==============================] - 1s 46ms/step - loss: 1.6230 - accuracy: 0.9609 - val_loss: 1.7358 - val_accuracy: 0.9362\n",
      "Epoch 114/150\n",
      "17/17 [==============================] - 1s 47ms/step - loss: 1.5999 - accuracy: 0.9553 - val_loss: 1.6861 - val_accuracy: 0.9362\n",
      "Epoch 115/150\n"
     ]
    },
    {
     "name": "stdout",
     "output_type": "stream",
     "text": [
      "17/17 [==============================] - 1s 46ms/step - loss: 1.5549 - accuracy: 0.9721 - val_loss: 1.6249 - val_accuracy: 0.9362\n",
      "Epoch 116/150\n",
      "17/17 [==============================] - 1s 48ms/step - loss: 1.5306 - accuracy: 0.9683 - val_loss: 1.6228 - val_accuracy: 0.9362\n",
      "Epoch 117/150\n",
      "17/17 [==============================] - 1s 47ms/step - loss: 1.5365 - accuracy: 0.9758 - val_loss: 1.6925 - val_accuracy: 0.9043\n",
      "Epoch 118/150\n",
      "17/17 [==============================] - 1s 47ms/step - loss: 1.5432 - accuracy: 0.9609 - val_loss: 1.6143 - val_accuracy: 0.9149\n",
      "Epoch 119/150\n",
      "17/17 [==============================] - 1s 47ms/step - loss: 1.4543 - accuracy: 0.9665 - val_loss: 1.7011 - val_accuracy: 0.8830\n",
      "Epoch 120/150\n",
      "17/17 [==============================] - 1s 47ms/step - loss: 1.4587 - accuracy: 0.9609 - val_loss: 1.5446 - val_accuracy: 0.9362\n",
      "Epoch 121/150\n",
      "17/17 [==============================] - 1s 47ms/step - loss: 1.4532 - accuracy: 0.9590 - val_loss: 1.5328 - val_accuracy: 0.9255\n",
      "Epoch 122/150\n",
      "17/17 [==============================] - 1s 46ms/step - loss: 1.4312 - accuracy: 0.9572 - val_loss: 1.5145 - val_accuracy: 0.9362\n",
      "Epoch 123/150\n",
      "17/17 [==============================] - 1s 46ms/step - loss: 1.4000 - accuracy: 0.9739 - val_loss: 1.5192 - val_accuracy: 0.9362\n",
      "Epoch 124/150\n",
      "17/17 [==============================] - 1s 48ms/step - loss: 1.3608 - accuracy: 0.9721 - val_loss: 1.4729 - val_accuracy: 0.9468\n",
      "Epoch 125/150\n",
      "17/17 [==============================] - 1s 47ms/step - loss: 1.3320 - accuracy: 0.9739 - val_loss: 1.4745 - val_accuracy: 0.9043\n",
      "Epoch 126/150\n",
      "17/17 [==============================] - 1s 47ms/step - loss: 1.3311 - accuracy: 0.9683 - val_loss: 1.4116 - val_accuracy: 0.9468\n",
      "Epoch 127/150\n",
      "17/17 [==============================] - 1s 45ms/step - loss: 1.3024 - accuracy: 0.9777 - val_loss: 1.4084 - val_accuracy: 0.9362\n",
      "Epoch 128/150\n",
      "17/17 [==============================] - 1s 47ms/step - loss: 1.2446 - accuracy: 0.9851 - val_loss: 1.4055 - val_accuracy: 0.9468\n",
      "Epoch 129/150\n",
      "17/17 [==============================] - 1s 46ms/step - loss: 1.2395 - accuracy: 0.9721 - val_loss: 1.3224 - val_accuracy: 0.9468\n",
      "Epoch 130/150\n",
      "17/17 [==============================] - 1s 46ms/step - loss: 1.2656 - accuracy: 0.9553 - val_loss: 1.3100 - val_accuracy: 0.9468\n",
      "Epoch 131/150\n",
      "17/17 [==============================] - 1s 45ms/step - loss: 1.2473 - accuracy: 0.9702 - val_loss: 1.2998 - val_accuracy: 0.9468\n",
      "Epoch 132/150\n",
      "17/17 [==============================] - 1s 45ms/step - loss: 1.2877 - accuracy: 0.9534 - val_loss: 1.3643 - val_accuracy: 0.9149\n",
      "Epoch 133/150\n",
      "17/17 [==============================] - 1s 46ms/step - loss: 1.2441 - accuracy: 0.9628 - val_loss: 1.3208 - val_accuracy: 0.9255\n",
      "Epoch 134/150\n",
      "17/17 [==============================] - 1s 47ms/step - loss: 1.2136 - accuracy: 0.9646 - val_loss: 1.2941 - val_accuracy: 0.9574\n",
      "Epoch 135/150\n",
      "17/17 [==============================] - 1s 45ms/step - loss: 1.2046 - accuracy: 0.9628 - val_loss: 1.3239 - val_accuracy: 0.9149\n",
      "Epoch 136/150\n",
      "17/17 [==============================] - 1s 45ms/step - loss: 1.1511 - accuracy: 0.9795 - val_loss: 1.2560 - val_accuracy: 0.9468\n",
      "Epoch 137/150\n",
      "17/17 [==============================] - 1s 44ms/step - loss: 1.1477 - accuracy: 0.9683 - val_loss: 1.2538 - val_accuracy: 0.9149\n",
      "Epoch 138/150\n",
      "17/17 [==============================] - 1s 43ms/step - loss: 1.1276 - accuracy: 0.9683 - val_loss: 1.1957 - val_accuracy: 0.9362\n",
      "Epoch 139/150\n",
      "17/17 [==============================] - 1s 46ms/step - loss: 1.0943 - accuracy: 0.9777 - val_loss: 1.2176 - val_accuracy: 0.9362\n",
      "Epoch 140/150\n",
      "17/17 [==============================] - 1s 44ms/step - loss: 1.0605 - accuracy: 0.9777 - val_loss: 1.1753 - val_accuracy: 0.9468\n",
      "Epoch 141/150\n",
      "17/17 [==============================] - 1s 46ms/step - loss: 1.0656 - accuracy: 0.9721 - val_loss: 1.1777 - val_accuracy: 0.9574\n",
      "Epoch 142/150\n",
      "17/17 [==============================] - 1s 45ms/step - loss: 1.0541 - accuracy: 0.9777 - val_loss: 1.1951 - val_accuracy: 0.9468\n",
      "Epoch 143/150\n",
      "17/17 [==============================] - 1s 46ms/step - loss: 1.0686 - accuracy: 0.9721 - val_loss: 1.1470 - val_accuracy: 0.9468\n",
      "Epoch 144/150\n",
      "17/17 [==============================] - 1s 48ms/step - loss: 1.0234 - accuracy: 0.9795 - val_loss: 1.1507 - val_accuracy: 0.9468\n",
      "Epoch 145/150\n",
      "17/17 [==============================] - 1s 46ms/step - loss: 0.9929 - accuracy: 0.9758 - val_loss: 1.2160 - val_accuracy: 0.9149\n",
      "Epoch 146/150\n",
      "17/17 [==============================] - 1s 45ms/step - loss: 1.0062 - accuracy: 0.9739 - val_loss: 1.1320 - val_accuracy: 0.9362\n",
      "Epoch 147/150\n",
      "17/17 [==============================] - 1s 45ms/step - loss: 0.9678 - accuracy: 0.9851 - val_loss: 1.0636 - val_accuracy: 0.9468\n",
      "Epoch 148/150\n",
      "17/17 [==============================] - 1s 45ms/step - loss: 0.9581 - accuracy: 0.9777 - val_loss: 1.0509 - val_accuracy: 0.9468\n",
      "Epoch 149/150\n",
      "17/17 [==============================] - 1s 46ms/step - loss: 0.9621 - accuracy: 0.9665 - val_loss: 1.0206 - val_accuracy: 0.9468\n",
      "Epoch 150/150\n",
      "17/17 [==============================] - 1s 46ms/step - loss: 0.9793 - accuracy: 0.9702 - val_loss: 1.0560 - val_accuracy: 0.9362\n"
     ]
    }
   ],
   "source": [
    "eye_history = eye_model.fit(eye_train_images,\n",
    "                            validation_data=eye_validation_images,\n",
    "                            epochs=150,\n",
    "                            callbacks=[early_stop])"
   ]
  },
  {
   "cell_type": "code",
   "execution_count": 181,
   "id": "6efea945",
   "metadata": {},
   "outputs": [
    {
     "data": {
      "text/plain": [
       "<matplotlib.legend.Legend at 0x7f9067320400>"
      ]
     },
     "execution_count": 181,
     "metadata": {},
     "output_type": "execute_result"
    },
    {
     "data": {
      "image/png": "[encoded data removed]",
      "text/plain": [
       "<Figure size 432x288 with 1 Axes>"
      ]
     },
     "metadata": {
      "needs_background": "light"
     },
     "output_type": "display_data"
    }
   ],
   "source": [
    "plt.plot(eye_history.history['accuracy'], label='accuracy')\n",
    "plt.plot(eye_history.history['val_accuracy'], label = 'val_accuracy')\n",
    "plt.xlabel('Epoch')\n",
    "plt.ylabel('Accuracy')\n",
    "plt.ylim([0.0, 1.0])\n",
    "plt.legend(loc='lower right')"
   ]
  },
  {
   "cell_type": "code",
   "execution_count": 182,
   "id": "d79c781c",
   "metadata": {},
   "outputs": [
    {
     "data": {
      "text/plain": [
       "<matplotlib.legend.Legend at 0x7f90671c9f70>"
      ]
     },
     "execution_count": 182,
     "metadata": {},
     "output_type": "execute_result"
    },
    {
     "data": {
      "image/png": "[encoded data removed]",
      "text/plain": [
       "<Figure size 432x288 with 1 Axes>"
      ]
     },
     "metadata": {
      "needs_background": "light"
     },
     "output_type": "display_data"
    }
   ],
   "source": [
    "plt.plot(eye_history.history['loss'], label='loss')\n",
    "plt.plot(eye_history.history['val_loss'], label = 'val_loss')\n",
    "plt.xlabel('Epoch')\n",
    "plt.ylabel('Loss')\n",
    "plt.ylim([0.0, 10.0])\n",
    "plt.legend(loc='upper right')"
   ]
  },
  {
   "cell_type": "markdown",
   "id": "72f3afdd",
   "metadata": {},
   "source": [
    "### Testing Beauty >> Eye Model"
   ]
  },
  {
   "cell_type": "code",
   "execution_count": 192,
   "id": "00569fe6",
   "metadata": {},
   "outputs": [],
   "source": [
    "# Randomly pick one image\n",
    "\n",
    "random_filenames_dict = {}\n",
    "\n",
    "filenames = os.listdir(test_image_folder_base + 'eye/' + '.')\n",
    "random_file_index = random.randint(0, len(filenames)-1)\n",
    "random_filename = filenames[random_file_index]"
   ]
  },
  {
   "cell_type": "code",
   "execution_count": 193,
   "id": "32a34c96",
   "metadata": {},
   "outputs": [
    {
     "data": {
      "image/png": "[encoded data removed]",
      "text/plain": [
       "<Figure size 432x288 with 2 Axes>"
      ]
     },
     "metadata": {
      "needs_background": "light"
     },
     "output_type": "display_data"
    }
   ],
   "source": [
    "loaded_image  = load_image(test_image_folder_base + 'eye/', random_filename)\n",
    "\n",
    "plt.figure()\n",
    "plt.imshow(loaded_image)\n",
    "plt.colorbar()\n",
    "plt.grid(False)\n",
    "plt.show()"
   ]
  },
  {
   "cell_type": "code",
   "execution_count": 209,
   "id": "6e798d8c",
   "metadata": {},
   "outputs": [
    {
     "name": "stdout",
     "output_type": "stream",
     "text": [
      "Eye: [0.96255016]\n"
     ]
    }
   ],
   "source": [
    "test_image = np.expand_dims(loaded_image, axis=0)\n",
    "prediction = eye_model.predict(test_image)\n",
    "print(f'Eye: {prediction[0]}')"
   ]
  },
  {
   "cell_type": "code",
   "execution_count": null,
   "id": "4878d89c",
   "metadata": {},
   "outputs": [],
   "source": []
  }
 ],
 "metadata": {
  "kernelspec": {
   "display_name": "Python 3",
   "language": "python",
   "name": "python3"
  },
  "language_info": {
   "codemirror_mode": {
    "name": "ipython",
    "version": 3
   },
   "file_extension": ".py",
   "mimetype": "text/x-python",
   "name": "python",
   "nbconvert_exporter": "python",
   "pygments_lexer": "ipython3",
   "version": "3.8.3"
  }
 },
 "nbformat": 4,
 "nbformat_minor": 5
}
