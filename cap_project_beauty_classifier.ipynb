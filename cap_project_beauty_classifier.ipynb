{
 "cells": [
  {
   "cell_type": "code",
   "execution_count": 1,
   "id": "a06f518b",
   "metadata": {},
   "outputs": [],
   "source": [
    "import cv2\n",
    "import os\n",
    "import matplotlib.pyplot as plt\n",
    "import pandas as pd\n",
    "import random\n",
    "import shutil"
   ]
  },
  {
   "cell_type": "code",
   "execution_count": 2,
   "id": "4661c411",
   "metadata": {},
   "outputs": [],
   "source": [
    "influencers_data = '/Users/mshayganfar/sb_capstone/data/influencers.csv'"
   ]
  },
  {
   "cell_type": "code",
   "execution_count": 3,
   "id": "f1d1be4b",
   "metadata": {},
   "outputs": [],
   "source": [
    "df_influencers = pd.read_csv(influencers_data)"
   ]
  },
  {
   "cell_type": "code",
   "execution_count": 4,
   "id": "2cb1bf5a",
   "metadata": {},
   "outputs": [
    {
     "data": {
      "text/html": [
       "<div>\n",
       "<style scoped>\n",
       "    .dataframe tbody tr th:only-of-type {\n",
       "        vertical-align: middle;\n",
       "    }\n",
       "\n",
       "    .dataframe tbody tr th {\n",
       "        vertical-align: top;\n",
       "    }\n",
       "\n",
       "    .dataframe thead th {\n",
       "        text-align: right;\n",
       "    }\n",
       "</style>\n",
       "<table border=\"1\" class=\"dataframe\">\n",
       "  <thead>\n",
       "    <tr style=\"text-align: right;\">\n",
       "      <th></th>\n",
       "      <th>username</th>\n",
       "      <th>category</th>\n",
       "      <th>num_followers</th>\n",
       "      <th>num_followees</th>\n",
       "      <th>num_posts</th>\n",
       "    </tr>\n",
       "  </thead>\n",
       "  <tbody>\n",
       "    <tr>\n",
       "      <th>0</th>\n",
       "      <td>makeupbynvs</td>\n",
       "      <td>beauty</td>\n",
       "      <td>1432.0</td>\n",
       "      <td>1089.0</td>\n",
       "      <td>363.0</td>\n",
       "    </tr>\n",
       "    <tr>\n",
       "      <th>1</th>\n",
       "      <td>jaquelinevandoski</td>\n",
       "      <td>beauty</td>\n",
       "      <td>137600.0</td>\n",
       "      <td>548.0</td>\n",
       "      <td>569.0</td>\n",
       "    </tr>\n",
       "    <tr>\n",
       "      <th>2</th>\n",
       "      <td>anisaartistry</td>\n",
       "      <td>beauty</td>\n",
       "      <td>64644.0</td>\n",
       "      <td>289.0</td>\n",
       "      <td>391.0</td>\n",
       "    </tr>\n",
       "    <tr>\n",
       "      <th>3</th>\n",
       "      <td>rubina_muartistry</td>\n",
       "      <td>beauty</td>\n",
       "      <td>496406.0</td>\n",
       "      <td>742.0</td>\n",
       "      <td>887.0</td>\n",
       "    </tr>\n",
       "    <tr>\n",
       "      <th>4</th>\n",
       "      <td>beautyxabbi</td>\n",
       "      <td>beauty</td>\n",
       "      <td>2050.0</td>\n",
       "      <td>1423.0</td>\n",
       "      <td>751.0</td>\n",
       "    </tr>\n",
       "    <tr>\n",
       "      <th>...</th>\n",
       "      <td>...</td>\n",
       "      <td>...</td>\n",
       "      <td>...</td>\n",
       "      <td>...</td>\n",
       "      <td>...</td>\n",
       "    </tr>\n",
       "    <tr>\n",
       "      <th>33929</th>\n",
       "      <td>alingzhang</td>\n",
       "      <td>other</td>\n",
       "      <td>4597.0</td>\n",
       "      <td>881.0</td>\n",
       "      <td>365.0</td>\n",
       "    </tr>\n",
       "    <tr>\n",
       "      <th>33930</th>\n",
       "      <td>flower.jini</td>\n",
       "      <td>other</td>\n",
       "      <td>27093.0</td>\n",
       "      <td>1599.0</td>\n",
       "      <td>664.0</td>\n",
       "    </tr>\n",
       "    <tr>\n",
       "      <th>33931</th>\n",
       "      <td>ester_starling</td>\n",
       "      <td>other</td>\n",
       "      <td>20621.0</td>\n",
       "      <td>23.0</td>\n",
       "      <td>783.0</td>\n",
       "    </tr>\n",
       "    <tr>\n",
       "      <th>33932</th>\n",
       "      <td>lovely___yul</td>\n",
       "      <td>other</td>\n",
       "      <td>12381.0</td>\n",
       "      <td>811.0</td>\n",
       "      <td>223.0</td>\n",
       "    </tr>\n",
       "    <tr>\n",
       "      <th>33933</th>\n",
       "      <td>sara_agos</td>\n",
       "      <td>other</td>\n",
       "      <td>1277.0</td>\n",
       "      <td>790.0</td>\n",
       "      <td>311.0</td>\n",
       "    </tr>\n",
       "  </tbody>\n",
       "</table>\n",
       "<p>33934 rows × 5 columns</p>\n",
       "</div>"
      ],
      "text/plain": [
       "                username category  num_followers  num_followees  num_posts\n",
       "0            makeupbynvs   beauty         1432.0         1089.0      363.0\n",
       "1      jaquelinevandoski   beauty       137600.0          548.0      569.0\n",
       "2          anisaartistry   beauty        64644.0          289.0      391.0\n",
       "3      rubina_muartistry   beauty       496406.0          742.0      887.0\n",
       "4            beautyxabbi   beauty         2050.0         1423.0      751.0\n",
       "...                  ...      ...            ...            ...        ...\n",
       "33929         alingzhang    other         4597.0          881.0      365.0\n",
       "33930        flower.jini    other        27093.0         1599.0      664.0\n",
       "33931     ester_starling    other        20621.0           23.0      783.0\n",
       "33932       lovely___yul    other        12381.0          811.0      223.0\n",
       "33933          sara_agos    other         1277.0          790.0      311.0\n",
       "\n",
       "[33934 rows x 5 columns]"
      ]
     },
     "execution_count": 4,
     "metadata": {},
     "output_type": "execute_result"
    }
   ],
   "source": [
    "df_influencers"
   ]
  },
  {
   "cell_type": "code",
   "execution_count": 5,
   "id": "0d0c7554",
   "metadata": {},
   "outputs": [
    {
     "name": "stdout",
     "output_type": "stream",
     "text": [
      "Beauty influencers count: 1541\n"
     ]
    }
   ],
   "source": [
    "beauty_influencers_count = df_influencers[df_influencers['category'] == 'beauty'].username.count()\n",
    "\n",
    "print(f\"Beauty influencers count: {beauty_influencers_count}\")"
   ]
  },
  {
   "cell_type": "code",
   "execution_count": 8,
   "id": "aea5c94d",
   "metadata": {},
   "outputs": [],
   "source": [
    "NUM_OF_INFLUENCERS = 30\n",
    "NUM_OF_FILES_PER_INFLUENCER = 10"
   ]
  },
  {
   "cell_type": "code",
   "execution_count": 64,
   "id": "4a46d30f",
   "metadata": {},
   "outputs": [
    {
     "name": "stdout",
     "output_type": "stream",
     "text": [
      "['aurasmakeupbox', '_themakeupdoll', 'ohmymisty', 'aminaali_mua', 'tulipheels95', 'eucarinasoares', 'superstarfitandbeautytv', 'malvikasitlaniofficial', 'danielmartin', 'kourtneydee', 'fefakuniyoshi', 'voirbelle', 'pretaraujo', 'rowisingh', 'lavishlybritt', 'sarahpatricia_gill', 'morganlouise.plus', 'aimee.conroy', 'jamiemakeup', 'lifeshehas', 'creatingvisionsmua', 'gabriellecroix', 'luferraes', 'jjj_sso', 'vanillatrapsoul', 'j.mlx', 'teteclementino', 'wiskola', 'manudip74', 'ingasglam']\n"
     ]
    }
   ],
   "source": [
    "# Randomly picking N usernames\n",
    "\n",
    "category_cum_sum = 0\n",
    "prev_count = 0\n",
    "\n",
    "username_list = []\n",
    "\n",
    "random.seed(42)\n",
    "random_numbers = random.sample(range(0, beauty_influencers_count-1), NUM_OF_INFLUENCERS)\n",
    "\n",
    "for row_index in random_numbers:\n",
    "    username_list.append(df_influencers.iloc[row_index].username)\n",
    "    \n",
    "print(username_list)"
   ]
  },
  {
   "cell_type": "code",
   "execution_count": 22,
   "id": "91fc9831",
   "metadata": {},
   "outputs": [],
   "source": [
    "image_folder = '/Users/mshayganfar/Documents/Mahni/Influencers/images/'"
   ]
  },
  {
   "cell_type": "code",
   "execution_count": 65,
   "id": "497411c9",
   "metadata": {},
   "outputs": [],
   "source": [
    "# Reading image filenames.\n",
    "\n",
    "filenames_list = []\n",
    "\n",
    "for username in username_list:\n",
    "    first_char = username[0]\n",
    "    if first_char.isalpha() == False:\n",
    "        first_char = '_'\n",
    "    # check if file exist in destination\n",
    "    if os.path.exists(image_folder + first_char):\n",
    "        specific_folder = image_folder + first_char + '/'\n",
    "        filenames = [filename for filename in os.listdir(specific_folder + '.') if filename.startswith(username)]\n",
    "        filenames_list.append(filenames)\n",
    "    else:\n",
    "        print(f\"Folder {first_char} doesn't exist!\")"
   ]
  },
  {
   "cell_type": "code",
   "execution_count": 66,
   "id": "bdf900b4",
   "metadata": {},
   "outputs": [],
   "source": [
    "# Subsampling M number of image files per influencer.\n",
    "\n",
    "subsampled_filename_list = []\n",
    "\n",
    "random.seed(42)\n",
    "\n",
    "for i in range(0, len(filenames_list)):\n",
    "    influencer_image_filenames = []\n",
    "    random_numbers = random.sample(range(0, len(filenames_list[i])-1), NUM_OF_FILES_PER_INFLUENCER)\n",
    "    \n",
    "    for file_index in random_numbers:\n",
    "        influencer_image_filenames.append(filenames_list[i][file_index])\n",
    "        \n",
    "    subsampled_filename_list.append(influencer_image_filenames)"
   ]
  },
  {
   "cell_type": "code",
   "execution_count": 35,
   "id": "328fd65c",
   "metadata": {},
   "outputs": [],
   "source": [
    "src_image_folders_base     = '/Users/mshayganfar/Documents/Mahni/Influencers/images/'\n",
    "dst_image_folders_base     = '/Users/mshayganfar/Documents/Mahni/Influencers/Beauty/subset_images/'\n",
    "resized_image_folders_base = '/Users/mshayganfar/Documents/Mahni/Influencers/Beauty/resized_images/'"
   ]
  },
  {
   "cell_type": "code",
   "execution_count": 67,
   "id": "b40610f3",
   "metadata": {},
   "outputs": [],
   "source": [
    "# Copying the subsampled files into the destination folder.\n",
    "\n",
    "for i in range(0, len(subsampled_filename_list)):\n",
    "    for j in range(0, len(subsampled_filename_list[i])):\n",
    "        filename = subsampled_filename_list[i][j]\n",
    "        first_char = filename[0]\n",
    "        if first_char.isalpha() == False:\n",
    "            first_char = '_'\n",
    "        # check if file exist in destination\n",
    "        if os.path.exists(src_image_folders_base + first_char):\n",
    "            specific_src_folder = src_image_folders_base + first_char + '/'\n",
    "            shutil.copy(specific_src_folder + filename, dst_image_folders_base + filename)\n",
    "        else:\n",
    "            print(f\"Folder {first_char} doesn't exist!\")"
   ]
  },
  {
   "cell_type": "markdown",
   "id": "6e3b151c",
   "metadata": {},
   "source": [
    "### Image Preparation"
   ]
  },
  {
   "cell_type": "code",
   "execution_count": 37,
   "id": "1479dc7b",
   "metadata": {},
   "outputs": [],
   "source": [
    "def load_image(image_path, image_name):\n",
    "    image = cv2.imread(os.path.join(image_path, image_name))\n",
    "    # print(os.path.join(image_path, image_name))\n",
    "    return image"
   ]
  },
  {
   "cell_type": "code",
   "execution_count": 38,
   "id": "dd1491a2",
   "metadata": {},
   "outputs": [],
   "source": [
    "def resize_image(src_image, width, height):\n",
    "    # print('Original Image Dimensions: ', src_image.shape)\n",
    "    \n",
    "    dim = (width, height)\n",
    "    \n",
    "    # resize image\n",
    "    resized_image = cv2.resize(src_image, dim, interpolation=cv2.INTER_AREA)\n",
    "    \n",
    "    # print('Resized Image Dimensions : ', resized_image.shape)\n",
    "    \n",
    "    return resized_image"
   ]
  },
  {
   "cell_type": "code",
   "execution_count": 39,
   "id": "e64bae44",
   "metadata": {},
   "outputs": [],
   "source": [
    "def save_image(image_path, image_name, image):\n",
    "    cv2.imwrite(os.path.join(image_path , image_name), image)"
   ]
  },
  {
   "cell_type": "code",
   "execution_count": 68,
   "id": "984fc8fd",
   "metadata": {},
   "outputs": [],
   "source": [
    "# Resizing and saving subsampled images into a new folder.\n",
    "\n",
    "filenames = os.listdir(dst_image_folders_base + '.')\n",
    "for filename in filenames:\n",
    "    if filename[-3:] == 'jpg':\n",
    "        loaded_image  = load_image(dst_image_folders_base, filename)\n",
    "        resized_image = resize_image(loaded_image, 50, 50)\n",
    "        save_image(resized_image_folders_base, 'small_' + filename, resized_image)"
   ]
  },
  {
   "cell_type": "markdown",
   "id": "39e3d563",
   "metadata": {},
   "source": [
    "### Load Images"
   ]
  },
  {
   "cell_type": "code",
   "execution_count": 41,
   "id": "e6a0b67c",
   "metadata": {},
   "outputs": [],
   "source": [
    "import tensorflow as tf\n",
    "from tensorflow.keras.preprocessing.image import ImageDataGenerator"
   ]
  },
  {
   "cell_type": "code",
   "execution_count": 42,
   "id": "d4effdc6",
   "metadata": {},
   "outputs": [],
   "source": [
    "batch_size   = 32\n",
    "image_height = 50\n",
    "image_width  = 50"
   ]
  },
  {
   "cell_type": "code",
   "execution_count": 43,
   "id": "58567f42",
   "metadata": {},
   "outputs": [
    {
     "ename": "ValueError",
     "evalue": "The `class_names` passed did not match the names of the subdirectories of the target directory. Expected: [], but received: ['eye', 'face', 'hair', 'nail', 'products']",
     "output_type": "error",
     "traceback": [
      "\u001b[0;31m---------------------------------------------------------------------------\u001b[0m",
      "\u001b[0;31mValueError\u001b[0m                                Traceback (most recent call last)",
      "\u001b[0;32m<ipython-input-43-432f9737ae1c>\u001b[0m in \u001b[0;36m<module>\u001b[0;34m\u001b[0m\n\u001b[0;32m----> 1\u001b[0;31m train_images = tf.keras.preprocessing.image_dataset_from_directory(\n\u001b[0m\u001b[1;32m      2\u001b[0m     \u001b[0mresized_image_folders_base\u001b[0m\u001b[0;34m,\u001b[0m\u001b[0;34m\u001b[0m\u001b[0;34m\u001b[0m\u001b[0m\n\u001b[1;32m      3\u001b[0m     \u001b[0mlabels\u001b[0m\u001b[0;34m=\u001b[0m\u001b[0;34m'inferred'\u001b[0m\u001b[0;34m,\u001b[0m\u001b[0;34m\u001b[0m\u001b[0;34m\u001b[0m\u001b[0m\n\u001b[1;32m      4\u001b[0m     \u001b[0mlabel_mode\u001b[0m\u001b[0;34m=\u001b[0m\u001b[0;34m'int'\u001b[0m\u001b[0;34m,\u001b[0m\u001b[0;34m\u001b[0m\u001b[0;34m\u001b[0m\u001b[0m\n\u001b[1;32m      5\u001b[0m     \u001b[0mclass_names\u001b[0m\u001b[0;34m=\u001b[0m\u001b[0;34m[\u001b[0m\u001b[0;34m'eye'\u001b[0m\u001b[0;34m,\u001b[0m \u001b[0;34m'face'\u001b[0m\u001b[0;34m,\u001b[0m \u001b[0;34m'hair'\u001b[0m\u001b[0;34m,\u001b[0m \u001b[0;34m'nail'\u001b[0m\u001b[0;34m,\u001b[0m \u001b[0;34m'products'\u001b[0m\u001b[0;34m]\u001b[0m\u001b[0;34m,\u001b[0m\u001b[0;34m\u001b[0m\u001b[0;34m\u001b[0m\u001b[0m\n",
      "\u001b[0;32m~/opt/anaconda3/lib/python3.8/site-packages/keras/preprocessing/image_dataset.py\u001b[0m in \u001b[0;36mimage_dataset_from_directory\u001b[0;34m(directory, labels, label_mode, class_names, color_mode, batch_size, image_size, shuffle, seed, validation_split, subset, interpolation, follow_links, crop_to_aspect_ratio, **kwargs)\u001b[0m\n\u001b[1;32m    190\u001b[0m   \u001b[0;32mif\u001b[0m \u001b[0mseed\u001b[0m \u001b[0;32mis\u001b[0m \u001b[0;32mNone\u001b[0m\u001b[0;34m:\u001b[0m\u001b[0;34m\u001b[0m\u001b[0;34m\u001b[0m\u001b[0m\n\u001b[1;32m    191\u001b[0m     \u001b[0mseed\u001b[0m \u001b[0;34m=\u001b[0m \u001b[0mnp\u001b[0m\u001b[0;34m.\u001b[0m\u001b[0mrandom\u001b[0m\u001b[0;34m.\u001b[0m\u001b[0mrandint\u001b[0m\u001b[0;34m(\u001b[0m\u001b[0;36m1e6\u001b[0m\u001b[0;34m)\u001b[0m\u001b[0;34m\u001b[0m\u001b[0;34m\u001b[0m\u001b[0m\n\u001b[0;32m--> 192\u001b[0;31m   image_paths, labels, class_names = dataset_utils.index_directory(\n\u001b[0m\u001b[1;32m    193\u001b[0m       \u001b[0mdirectory\u001b[0m\u001b[0;34m,\u001b[0m\u001b[0;34m\u001b[0m\u001b[0;34m\u001b[0m\u001b[0m\n\u001b[1;32m    194\u001b[0m       \u001b[0mlabels\u001b[0m\u001b[0;34m,\u001b[0m\u001b[0;34m\u001b[0m\u001b[0;34m\u001b[0m\u001b[0m\n",
      "\u001b[0;32m~/opt/anaconda3/lib/python3.8/site-packages/keras/preprocessing/dataset_utils.py\u001b[0m in \u001b[0;36mindex_directory\u001b[0;34m(directory, labels, formats, class_names, shuffle, seed, follow_links)\u001b[0m\n\u001b[1;32m     71\u001b[0m     \u001b[0;32melse\u001b[0m\u001b[0;34m:\u001b[0m\u001b[0;34m\u001b[0m\u001b[0;34m\u001b[0m\u001b[0m\n\u001b[1;32m     72\u001b[0m       \u001b[0;32mif\u001b[0m \u001b[0mset\u001b[0m\u001b[0;34m(\u001b[0m\u001b[0mclass_names\u001b[0m\u001b[0;34m)\u001b[0m \u001b[0;34m!=\u001b[0m \u001b[0mset\u001b[0m\u001b[0;34m(\u001b[0m\u001b[0msubdirs\u001b[0m\u001b[0;34m)\u001b[0m\u001b[0;34m:\u001b[0m\u001b[0;34m\u001b[0m\u001b[0;34m\u001b[0m\u001b[0m\n\u001b[0;32m---> 73\u001b[0;31m         raise ValueError(\n\u001b[0m\u001b[1;32m     74\u001b[0m             \u001b[0;34m'The `class_names` passed did not match the '\u001b[0m\u001b[0;34m\u001b[0m\u001b[0;34m\u001b[0m\u001b[0m\n\u001b[1;32m     75\u001b[0m             \u001b[0;34m'names of the subdirectories of the target directory. '\u001b[0m\u001b[0;34m\u001b[0m\u001b[0;34m\u001b[0m\u001b[0m\n",
      "\u001b[0;31mValueError\u001b[0m: The `class_names` passed did not match the names of the subdirectories of the target directory. Expected: [], but received: ['eye', 'face', 'hair', 'nail', 'products']"
     ]
    }
   ],
   "source": [
    "train_images = tf.keras.preprocessing.image_dataset_from_directory(\n",
    "    resized_image_folders_base,\n",
    "    labels='inferred',\n",
    "    label_mode='int',\n",
    "    class_names=['eye', 'face', 'hair', 'nail', 'products'],\n",
    "    color_mode='rgb',\n",
    "    batch_size=batch_size,\n",
    "    image_size=(image_height, image_width),\n",
    "    shuffle=True,\n",
    "    seed=42,\n",
    "    validation_split=0.15,\n",
    "    subset=\"training\"\n",
    ")"
   ]
  },
  {
   "cell_type": "code",
   "execution_count": null,
   "id": "72d09ee9",
   "metadata": {},
   "outputs": [],
   "source": []
  }
 ],
 "metadata": {
  "kernelspec": {
   "display_name": "Python 3",
   "language": "python",
   "name": "python3"
  },
  "language_info": {
   "codemirror_mode": {
    "name": "ipython",
    "version": 3
   },
   "file_extension": ".py",
   "mimetype": "text/x-python",
   "name": "python",
   "nbconvert_exporter": "python",
   "pygments_lexer": "ipython3",
   "version": "3.8.3"
  }
 },
 "nbformat": 4,
 "nbformat_minor": 5
}
