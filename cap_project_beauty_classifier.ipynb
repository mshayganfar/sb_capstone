{
 "cells": [
  {
   "cell_type": "code",
   "execution_count": 1,
   "id": "62c8602d",
   "metadata": {},
   "outputs": [],
   "source": [
    "import cv2\n",
    "import os\n",
    "import random\n",
    "import shutil\n",
    "\n",
    "import matplotlib.pyplot as plt\n",
    "import numpy as np\n",
    "import pandas as pd"
   ]
  },
  {
   "cell_type": "code",
   "execution_count": 2,
   "id": "2430075e",
   "metadata": {},
   "outputs": [],
   "source": [
    "influencers_data = '/Users/mshayganfar/sb_capstone/data/influencers.csv'"
   ]
  },
  {
   "cell_type": "code",
   "execution_count": 3,
   "id": "2ec3ad83",
   "metadata": {},
   "outputs": [],
   "source": [
    "df_influencers = pd.read_csv(influencers_data)"
   ]
  },
  {
   "cell_type": "code",
   "execution_count": 4,
   "id": "c170380b",
   "metadata": {},
   "outputs": [
    {
     "data": {
      "text/html": [
       "<div>\n",
       "<style scoped>\n",
       "    .dataframe tbody tr th:only-of-type {\n",
       "        vertical-align: middle;\n",
       "    }\n",
       "\n",
       "    .dataframe tbody tr th {\n",
       "        vertical-align: top;\n",
       "    }\n",
       "\n",
       "    .dataframe thead th {\n",
       "        text-align: right;\n",
       "    }\n",
       "</style>\n",
       "<table border=\"1\" class=\"dataframe\">\n",
       "  <thead>\n",
       "    <tr style=\"text-align: right;\">\n",
       "      <th></th>\n",
       "      <th>username</th>\n",
       "      <th>category</th>\n",
       "      <th>num_followers</th>\n",
       "      <th>num_followees</th>\n",
       "      <th>num_posts</th>\n",
       "    </tr>\n",
       "  </thead>\n",
       "  <tbody>\n",
       "    <tr>\n",
       "      <th>0</th>\n",
       "      <td>makeupbynvs</td>\n",
       "      <td>beauty</td>\n",
       "      <td>1432.0</td>\n",
       "      <td>1089.0</td>\n",
       "      <td>363.0</td>\n",
       "    </tr>\n",
       "    <tr>\n",
       "      <th>1</th>\n",
       "      <td>jaquelinevandoski</td>\n",
       "      <td>beauty</td>\n",
       "      <td>137600.0</td>\n",
       "      <td>548.0</td>\n",
       "      <td>569.0</td>\n",
       "    </tr>\n",
       "    <tr>\n",
       "      <th>2</th>\n",
       "      <td>anisaartistry</td>\n",
       "      <td>beauty</td>\n",
       "      <td>64644.0</td>\n",
       "      <td>289.0</td>\n",
       "      <td>391.0</td>\n",
       "    </tr>\n",
       "    <tr>\n",
       "      <th>3</th>\n",
       "      <td>rubina_muartistry</td>\n",
       "      <td>beauty</td>\n",
       "      <td>496406.0</td>\n",
       "      <td>742.0</td>\n",
       "      <td>887.0</td>\n",
       "    </tr>\n",
       "    <tr>\n",
       "      <th>4</th>\n",
       "      <td>beautyxabbi</td>\n",
       "      <td>beauty</td>\n",
       "      <td>2050.0</td>\n",
       "      <td>1423.0</td>\n",
       "      <td>751.0</td>\n",
       "    </tr>\n",
       "  </tbody>\n",
       "</table>\n",
       "</div>"
      ],
      "text/plain": [
       "            username category  num_followers  num_followees  num_posts\n",
       "0        makeupbynvs   beauty         1432.0         1089.0      363.0\n",
       "1  jaquelinevandoski   beauty       137600.0          548.0      569.0\n",
       "2      anisaartistry   beauty        64644.0          289.0      391.0\n",
       "3  rubina_muartistry   beauty       496406.0          742.0      887.0\n",
       "4        beautyxabbi   beauty         2050.0         1423.0      751.0"
      ]
     },
     "execution_count": 4,
     "metadata": {},
     "output_type": "execute_result"
    }
   ],
   "source": [
    "df_influencers.head()"
   ]
  },
  {
   "cell_type": "code",
   "execution_count": 5,
   "id": "086d121a",
   "metadata": {},
   "outputs": [
    {
     "name": "stdout",
     "output_type": "stream",
     "text": [
      "Beauty influencers count: 1541\n"
     ]
    }
   ],
   "source": [
    "beauty_influencers_count = df_influencers[df_influencers['category'] == 'beauty'].username.count()\n",
    "\n",
    "print(f\"Beauty influencers count: {beauty_influencers_count}\")"
   ]
  },
  {
   "cell_type": "code",
   "execution_count": 6,
   "id": "72df3560",
   "metadata": {},
   "outputs": [],
   "source": [
    "NUM_OF_INFLUENCERS = 10\n",
    "NUM_OF_FILES_PER_INFLUENCER = 10\n",
    "SEED_NUMBER = 8"
   ]
  },
  {
   "cell_type": "code",
   "execution_count": 7,
   "id": "f1d62117",
   "metadata": {},
   "outputs": [],
   "source": [
    "src_image_folders_base = '/Users/mshayganfar/Mahni_Folder/Mahni/Influencers/images/'\n",
    "dst_image_folders_base = '/Users/mshayganfar/Mahni_Folder/Mahni/Influencers/Beauty/subset_images/'\n",
    "resized_image_folders_base = '/Users/mshayganfar/Mahni_Folder/Mahni/Influencers/Beauty/resized_images/'\n",
    "image_classes_folder_base = '/Users/mshayganfar/Mahni_Folder/Mahni/Influencers/Beauty/Classes/'\n",
    "test_image_folder_base = '/Users/mshayganfar/Mahni_Folder/Mahni/Influencers/Test/beauty/'"
   ]
  },
  {
   "cell_type": "markdown",
   "id": "6ba255bc",
   "metadata": {},
   "source": [
    "### Image Preparation"
   ]
  },
  {
   "cell_type": "code",
   "execution_count": 8,
   "id": "d7f0d4af",
   "metadata": {},
   "outputs": [],
   "source": [
    "def load_image(image_path, image_name):\n",
    "    image = cv2.imread(os.path.join(image_path, image_name))\n",
    "    # print(os.path.join(image_path, image_name))\n",
    "    return image"
   ]
  },
  {
   "cell_type": "code",
   "execution_count": 9,
   "id": "de250ba8",
   "metadata": {},
   "outputs": [],
   "source": [
    "def resize_image(src_image, width, height):\n",
    "    # print('Original Image Dimensions: ', src_image.shape)\n",
    "    \n",
    "    dim = (width, height)\n",
    "    \n",
    "    # resize image\n",
    "    resized_image = cv2.resize(src_image, dim, interpolation=cv2.INTER_AREA)\n",
    "    \n",
    "    # print('Resized Image Dimensions : ', resized_image.shape)\n",
    "    \n",
    "    return resized_image"
   ]
  },
  {
   "cell_type": "code",
   "execution_count": 10,
   "id": "3219716d",
   "metadata": {},
   "outputs": [],
   "source": [
    "def save_image(image_path, image_name, image):\n",
    "    cv2.imwrite(os.path.join(image_path , image_name), image)"
   ]
  },
  {
   "cell_type": "code",
   "execution_count": 11,
   "id": "a39ddd24",
   "metadata": {},
   "outputs": [],
   "source": [
    "# Resizing and saving subsampled images into a new folder\n",
    "\n",
    "def save_resized_images(dst_image_folder, resized_image_folder):\n",
    "    \n",
    "    filenames = os.listdir(dst_image_folder + '.')\n",
    "    \n",
    "    for filename in filenames:\n",
    "        if filename[-3:] == 'jpg':\n",
    "            loaded_image  = load_image(dst_image_folder, filename)\n",
    "            resized_image = resize_image(loaded_image, 50, 50)\n",
    "            save_image(resized_image_folder, 'small_' + filename, resized_image)"
   ]
  },
  {
   "cell_type": "markdown",
   "id": "8ac01e66",
   "metadata": {},
   "source": [
    "### Get Subset of Influencers' Images"
   ]
  },
  {
   "cell_type": "code",
   "execution_count": 12,
   "id": "5858d037",
   "metadata": {},
   "outputs": [],
   "source": [
    "# Randomly picking N usernames\n",
    "\n",
    "def get_random_usernames(df, influencers_count, num_of_influencers, verbose):\n",
    "    username_list = []\n",
    "\n",
    "    random.seed(SEED_NUMBER)\n",
    "    random_numbers = random.sample(range(0, influencers_count-1), num_of_influencers)\n",
    "\n",
    "    for row_index in random_numbers:\n",
    "        username_list.append(df.iloc[row_index].username)\n",
    "\n",
    "    if verbose:\n",
    "        print(username_list)\n",
    "    \n",
    "    return username_list"
   ]
  },
  {
   "cell_type": "code",
   "execution_count": 13,
   "id": "5538ebfe",
   "metadata": {},
   "outputs": [],
   "source": [
    "# Extracting image file names\n",
    "\n",
    "def extract_image_file_names(username_list, src_image_folder):\n",
    "\n",
    "    filenames_list = []\n",
    "\n",
    "    for username in username_list:\n",
    "        first_char = username[0]\n",
    "        if first_char.isalpha() == False:\n",
    "            first_char = '_'\n",
    "        # check if file exist in destination\n",
    "        if os.path.exists(src_image_folder + first_char):\n",
    "            specific_folder = src_image_folder + first_char + '/'\n",
    "            filenames = [filename for filename in os.listdir(specific_folder + '.') if filename.startswith(username)]\n",
    "            filenames_list.append(filenames)\n",
    "        else:\n",
    "            print(f\"Folder {first_char} doesn't exist!\")\n",
    "            \n",
    "    return filenames_list"
   ]
  },
  {
   "cell_type": "code",
   "execution_count": 14,
   "id": "3c980862",
   "metadata": {},
   "outputs": [],
   "source": [
    "# Subsampling image files for all of the influencers\n",
    "\n",
    "def get_influencers_random_subsampled_files(filenames_list, num_of_files_per_influencer):\n",
    "    \n",
    "    subsampled_filename_list = []\n",
    "\n",
    "    random.seed(SEED_NUMBER)\n",
    "\n",
    "    for i in range(0, len(filenames_list)):\n",
    "        influencer_image_filenames = []\n",
    "        random_numbers = random.sample(range(0, len(filenames_list[i])-1), num_of_files_per_influencer)\n",
    "\n",
    "        for file_index in random_numbers:\n",
    "            influencer_image_filenames.append(filenames_list[i][file_index])\n",
    "\n",
    "        subsampled_filename_list.append(influencer_image_filenames)\n",
    "        \n",
    "    return subsampled_filename_list"
   ]
  },
  {
   "cell_type": "code",
   "execution_count": 15,
   "id": "f8358709",
   "metadata": {},
   "outputs": [],
   "source": [
    "# Copying the subsampled files into the destination folder\n",
    "\n",
    "def copy_influencers_files(subsampled_filenames, src_folder_base, dst_folder_base):\n",
    "\n",
    "    for i in range(0, len(subsampled_filenames)):\n",
    "        for j in range(0, len(subsampled_filenames[i])):\n",
    "            filename = subsampled_filenames[i][j]\n",
    "            first_char = filename[0]\n",
    "            if first_char.isalpha() == False:\n",
    "                first_char = '_'\n",
    "            # check if file exist in destination\n",
    "            if os.path.exists(src_folder_base + first_char):\n",
    "                specific_src_folder = src_folder_base + first_char + '/'\n",
    "                shutil.copy(specific_src_folder + filename, dst_folder_base + filename)\n",
    "            else:\n",
    "                print(f\"Folder {first_char} doesn't exist!\")"
   ]
  },
  {
   "cell_type": "code",
   "execution_count": null,
   "id": "f9714f74",
   "metadata": {},
   "outputs": [],
   "source": [
    "usernames = get_random_usernames(df_influencers, beauty_influencers_count, NUM_OF_INFLUENCERS, True)"
   ]
  },
  {
   "cell_type": "code",
   "execution_count": null,
   "id": "ebf2dabe",
   "metadata": {},
   "outputs": [],
   "source": [
    "filenames = extract_image_file_names(usernames, src_image_folders_base)"
   ]
  },
  {
   "cell_type": "code",
   "execution_count": null,
   "id": "40ff3050",
   "metadata": {},
   "outputs": [],
   "source": [
    "influencers_subsampled_filenames = get_influencers_random_subsampled_files(filenames, NUM_OF_FILES_PER_INFLUENCER)"
   ]
  },
  {
   "cell_type": "code",
   "execution_count": null,
   "id": "daed375c",
   "metadata": {},
   "outputs": [],
   "source": [
    "copy_influencers_files(influencers_subsampled_filenames, src_image_folders_base, dst_image_folders_base)"
   ]
  },
  {
   "cell_type": "code",
   "execution_count": null,
   "id": "9d086d90",
   "metadata": {},
   "outputs": [],
   "source": [
    "save_resized_images(dst_image_folders_base, resized_image_folders_base)"
   ]
  },
  {
   "cell_type": "markdown",
   "id": "48093456",
   "metadata": {},
   "source": [
    "### Get Specific Influencer's Images"
   ]
  },
  {
   "cell_type": "code",
   "execution_count": 16,
   "id": "e28c866b",
   "metadata": {},
   "outputs": [],
   "source": [
    "# Reading N files of a specific influencer\n",
    "\n",
    "def get_influencer_files(image_folder, username):\n",
    "\n",
    "    first_char = username[0]\n",
    "    if first_char.isalpha() == False:\n",
    "        first_char = '_'\n",
    "    # check if file exist in destination\n",
    "    if os.path.exists(image_folder + first_char):\n",
    "        specific_folder = image_folder + first_char + '/'\n",
    "        filenames = [filename for filename in os.listdir(specific_folder + '.') if filename.startswith(username)]\n",
    "    else:\n",
    "        print(f\"Folder {first_char} doesn't exist!\")\n",
    "\n",
    "    return filenames"
   ]
  },
  {
   "cell_type": "code",
   "execution_count": 17,
   "id": "a11fa357",
   "metadata": {},
   "outputs": [],
   "source": [
    "# Subsampling image files\n",
    "\n",
    "def get_influencr_random_subsampled_files(filenames, number_of_files):\n",
    "    \n",
    "    subsampled_filename_list = []\n",
    "\n",
    "    random.seed(SEED_NUMBER)\n",
    "\n",
    "    random_numbers = random.sample(range(0, len(filenames)-1), number_of_files)\n",
    "    \n",
    "    for file_index in random_numbers:\n",
    "        subsampled_filename_list.append(filenames[file_index])\n",
    "        \n",
    "    return subsampled_filename_list"
   ]
  },
  {
   "cell_type": "code",
   "execution_count": 18,
   "id": "4244b107",
   "metadata": {},
   "outputs": [],
   "source": [
    "# Copying the subsampled files into the destination folder\n",
    "\n",
    "def copy_influencer_files(filenames, src_folder_base, dst_folder_base):\n",
    "    \n",
    "    for i in range(0, len(filenames)):\n",
    "        filename = filenames[i]\n",
    "        first_char = filename[0]\n",
    "        if first_char.isalpha() == False:\n",
    "            first_char = '_'\n",
    "        # check if file exist in destination\n",
    "        if os.path.exists(src_folder_base + first_char):\n",
    "            specific_src_folder = src_folder_base + first_char + '/'\n",
    "            shutil.copy(specific_src_folder + filename, dst_image_folders_base + filename)\n",
    "        else:\n",
    "            print(f\"Folder {first_char} doesn't exist!\")"
   ]
  },
  {
   "cell_type": "code",
   "execution_count": null,
   "id": "12da89f4",
   "metadata": {},
   "outputs": [],
   "source": [
    "influencer_filenames = get_influencer_files(src_image_folders_base, 'zodieac')"
   ]
  },
  {
   "cell_type": "code",
   "execution_count": null,
   "id": "3c74e9d3",
   "metadata": {},
   "outputs": [],
   "source": [
    "influencer_subsampled_filenames = get_influencr_random_subsampled_files(influencer_filenames, 150)"
   ]
  },
  {
   "cell_type": "code",
   "execution_count": null,
   "id": "93a953e3",
   "metadata": {},
   "outputs": [],
   "source": [
    "copy_influencer_files(influencer_subsampled_filenames, src_image_folders_base, dst_image_folders_base)"
   ]
  },
  {
   "cell_type": "code",
   "execution_count": null,
   "id": "3623f9b7",
   "metadata": {},
   "outputs": [],
   "source": [
    "save_resized_images(dst_image_folders_base, resized_image_folders_base)"
   ]
  },
  {
   "cell_type": "markdown",
   "id": "adef2811",
   "metadata": {},
   "source": [
    "### Other Categories Image Preparation"
   ]
  },
  {
   "cell_type": "code",
   "execution_count": 19,
   "id": "f4015b42",
   "metadata": {},
   "outputs": [],
   "source": [
    "sampled_filenames_dict = {'eye':[], 'face':[], 'hair':[], 'lips':[], 'nail':[], 'products':[]}"
   ]
  },
  {
   "cell_type": "code",
   "execution_count": null,
   "id": "e93bcd13",
   "metadata": {},
   "outputs": [],
   "source": [
    "# Reading image file names\n",
    "\n",
    "for category in list(sampled_filenames_dict.keys()):\n",
    "    # check if file exists in destination\n",
    "    specific_folder = image_classes_folder_base + category.capitalize() + '/' + category + '/'\n",
    "    filenames = [filename for filename in os.listdir(specific_folder + '.') if filename.endswith('.jpg')]\n",
    "    sampled_filenames_dict[category] = filenames\n",
    "\n",
    "    print(f\"Category {category} is done.\")"
   ]
  },
  {
   "cell_type": "code",
   "execution_count": null,
   "id": "d2800c1d",
   "metadata": {},
   "outputs": [],
   "source": [
    "# Copying files from other categories into the \"not_<category>\" folders\n",
    "\n",
    "for category in sampled_filenames_dict:\n",
    "    number_of_files = len(sampled_filenames_dict[category])\n",
    "    number_of_files_per_category = number_of_files//5\n",
    "    for other_category in list(sampled_filenames_dict.keys()):\n",
    "        if other_category != category:\n",
    "            number_of_files_in_other_category = len(sampled_filenames_dict[other_category])\n",
    "            random_numbers = random.sample(range(0, number_of_files_in_other_category-1), number_of_files_per_category)\n",
    "            for file_index in random_numbers:\n",
    "                filename = sampled_filenames_dict[other_category][file_index]\n",
    "                src_folder = image_classes_folder_base + other_category.capitalize() + '/' + other_category + '/'\n",
    "                dst_folder = image_classes_folder_base + category.capitalize() + '/not_' + category + '/'\n",
    "                if os.path.exists(src_folder + filename):\n",
    "                    shutil.copy(src_folder + filename, dst_folder + filename)\n",
    "                else:\n",
    "                    print(f\"File {filename} doesn't exist in this {src_folder}!\")\n",
    "    print(f\"Category {category} is done.\")"
   ]
  },
  {
   "cell_type": "code",
   "execution_count": 20,
   "id": "fc4feda7",
   "metadata": {},
   "outputs": [],
   "source": [
    "import tensorflow as tf\n",
    "\n",
    "from tensorflow.keras import regularizers\n",
    "from tensorflow.keras.callbacks import EarlyStopping, LearningRateScheduler\n",
    "from tensorflow.keras.layers import Dense, Conv2D, MaxPool2D, Flatten, Dropout, Activation\n",
    "from tensorflow.keras.layers import BatchNormalization\n",
    "from tensorflow.keras.layers import RandomFlip, RandomRotation, Rescaling\n",
    "from tensorflow.keras.models import Sequential\n",
    "from tensorflow.keras.preprocessing.image import ImageDataGenerator"
   ]
  },
  {
   "cell_type": "code",
   "execution_count": 21,
   "id": "8fbcac6f",
   "metadata": {},
   "outputs": [],
   "source": [
    "batch_size   = 32\n",
    "image_height = 50\n",
    "image_width  = 50"
   ]
  },
  {
   "cell_type": "markdown",
   "id": "7cffe632",
   "metadata": {},
   "source": [
    "## Beauty >> Eye Classifier"
   ]
  },
  {
   "cell_type": "code",
   "execution_count": 22,
   "id": "ed6116f3",
   "metadata": {},
   "outputs": [],
   "source": [
    "eye_images = image_classes_folder_base + 'Eye/'"
   ]
  },
  {
   "cell_type": "code",
   "execution_count": 62,
   "id": "8c3b6494",
   "metadata": {},
   "outputs": [
    {
     "name": "stdout",
     "output_type": "stream",
     "text": [
      "Found 631 files belonging to 2 classes.\n",
      "Using 379 files for training.\n"
     ]
    }
   ],
   "source": [
    "eye_train_images = tf.keras.preprocessing.image_dataset_from_directory(\n",
    "    eye_images,\n",
    "    labels='inferred',\n",
    "    label_mode='int',\n",
    "    class_names=['eye', 'not_eye'],\n",
    "    color_mode='rgb',\n",
    "    batch_size=batch_size,\n",
    "    image_size=(image_height, image_width),\n",
    "    shuffle=True,\n",
    "    seed=42,\n",
    "    validation_split=0.4,\n",
    "    subset=\"training\"\n",
    ")"
   ]
  },
  {
   "cell_type": "code",
   "execution_count": 63,
   "id": "267b30c3",
   "metadata": {},
   "outputs": [
    {
     "name": "stdout",
     "output_type": "stream",
     "text": [
      "Found 631 files belonging to 2 classes.\n",
      "Using 252 files for validation.\n"
     ]
    }
   ],
   "source": [
    "eye_validation_images = tf.keras.preprocessing.image_dataset_from_directory(\n",
    "    eye_images,\n",
    "    labels='inferred',\n",
    "    label_mode='int',\n",
    "    class_names=['eye', 'not_eye'],\n",
    "    color_mode='rgb',\n",
    "    batch_size=batch_size,\n",
    "    image_size=(image_height, image_width),\n",
    "    shuffle=True,\n",
    "    seed=42,\n",
    "    validation_split=0.4,\n",
    "    subset=\"validation\"\n",
    ")"
   ]
  },
  {
   "cell_type": "code",
   "execution_count": 70,
   "id": "183804ba",
   "metadata": {},
   "outputs": [],
   "source": [
    "eye_model = Sequential()\n",
    "\n",
    "# CONVOLUTIONAL LAYER\n",
    "eye_model.add(Conv2D(filters=32,\n",
    "                     kernel_regularizer=regularizers.l1_l2(l1=0.001, l2=0.001),\n",
    "                     kernel_size=(3, 3), input_shape=(50, 50, 3)))\n",
    "\n",
    "# BATCH NORMALIZATION\n",
    "eye_model.add(BatchNormalization())\n",
    "\n",
    "eye_model.add(Activation('relu'))\n",
    "\n",
    "# POOLING LAYER\n",
    "eye_model.add(MaxPool2D(pool_size=(2, 2)))\n",
    "\n",
    "# CONVOLUTIONAL LAYER\n",
    "eye_model.add(Conv2D(filters=64,\n",
    "                     kernel_regularizer=regularizers.l1_l2(l1=0.001, l2=0.001),\n",
    "                     kernel_size=(3, 3)))\n",
    "\n",
    "# BATCH NORMALIZATION\n",
    "eye_model.add(BatchNormalization())\n",
    "\n",
    "eye_model.add(Activation('relu'))\n",
    "\n",
    "# POOLING LAYER & DROPOUT\n",
    "eye_model.add(MaxPool2D(pool_size=(2, 2)))\n",
    "\n",
    "# CONVOLUTIONAL LAYER\n",
    "eye_model.add(Conv2D(filters=128,\n",
    "                     kernel_regularizer=regularizers.l1_l2(l1=0.001, l2=0.001),\n",
    "                     kernel_size=(3, 3)))\n",
    "\n",
    "# BATCH NORMALIZATION\n",
    "eye_model.add(BatchNormalization())\n",
    "\n",
    "eye_model.add(Activation('relu'))\n",
    "\n",
    "# POOLING LAYER & DROPOUT\n",
    "eye_model.add(MaxPool2D(pool_size=(2, 2)))\n",
    "\n",
    "# FLATTEN IMAGES FROM 50 by 50 to 2500 BEFORE FINAL LAYER\n",
    "eye_model.add(Flatten(input_shape=(50, 50, 3)))\n",
    "\n",
    "eye_model.add(Dropout(0.3))\n",
    "\n",
    "# 128 NEURONS IN DENSE HIDDEN LAYER\n",
    "eye_model.add(Dense(128, \n",
    "                    kernel_regularizer=regularizers.l1_l2(l1=0.001, l2=0.001), \n",
    "                    activation='relu'))\n",
    "\n",
    "# 64 NEURONS IN DENSE HIDDEN LAYER\n",
    "eye_model.add(Dense(64, \n",
    "                    kernel_regularizer=regularizers.l1_l2(l1=0.001, l2=0.001), \n",
    "                    activation='relu'))\n",
    "\n",
    "# LAST LAYER IS THE CLASSIFIER\n",
    "eye_model.add(Dense(1, activation='sigmoid'))"
   ]
  },
  {
   "cell_type": "code",
   "execution_count": 71,
   "id": "ec987eb2",
   "metadata": {},
   "outputs": [
    {
     "name": "stdout",
     "output_type": "stream",
     "text": [
      "Model: \"sequential_9\"\n",
      "_________________________________________________________________\n",
      " Layer (type)                Output Shape              Param #   \n",
      "=================================================================\n",
      " conv2d_20 (Conv2D)          (None, 48, 48, 32)        896       \n",
      "                                                                 \n",
      " batch_normalization_20 (Bat  (None, 48, 48, 32)       128       \n",
      " chNormalization)                                                \n",
      "                                                                 \n",
      " activation_20 (Activation)  (None, 48, 48, 32)        0         \n",
      "                                                                 \n",
      " max_pooling2d_20 (MaxPoolin  (None, 24, 24, 32)       0         \n",
      " g2D)                                                            \n",
      "                                                                 \n",
      " conv2d_21 (Conv2D)          (None, 22, 22, 64)        18496     \n",
      "                                                                 \n",
      " batch_normalization_21 (Bat  (None, 22, 22, 64)       256       \n",
      " chNormalization)                                                \n",
      "                                                                 \n",
      " activation_21 (Activation)  (None, 22, 22, 64)        0         \n",
      "                                                                 \n",
      " max_pooling2d_21 (MaxPoolin  (None, 11, 11, 64)       0         \n",
      " g2D)                                                            \n",
      "                                                                 \n",
      " conv2d_22 (Conv2D)          (None, 9, 9, 128)         73856     \n",
      "                                                                 \n",
      " batch_normalization_22 (Bat  (None, 9, 9, 128)        512       \n",
      " chNormalization)                                                \n",
      "                                                                 \n",
      " activation_22 (Activation)  (None, 9, 9, 128)         0         \n",
      "                                                                 \n",
      " max_pooling2d_22 (MaxPoolin  (None, 4, 4, 128)        0         \n",
      " g2D)                                                            \n",
      "                                                                 \n",
      " flatten_9 (Flatten)         (None, 2048)              0         \n",
      "                                                                 \n",
      " dropout_27 (Dropout)        (None, 2048)              0         \n",
      "                                                                 \n",
      " dense_27 (Dense)            (None, 128)               262272    \n",
      "                                                                 \n",
      " dense_28 (Dense)            (None, 64)                8256      \n",
      "                                                                 \n",
      " dense_29 (Dense)            (None, 1)                 65        \n",
      "                                                                 \n",
      "=================================================================\n",
      "Total params: 364,737\n",
      "Trainable params: 364,289\n",
      "Non-trainable params: 448\n",
      "_________________________________________________________________\n"
     ]
    }
   ],
   "source": [
    "eye_model.summary()"
   ]
  },
  {
   "cell_type": "code",
   "execution_count": 72,
   "id": "104a3482",
   "metadata": {},
   "outputs": [],
   "source": [
    "eye_model.compile(optimizer='adam',\n",
    "                  loss='binary_crossentropy',\n",
    "                  metrics=['accuracy'])"
   ]
  },
  {
   "cell_type": "code",
   "execution_count": 73,
   "id": "4a966a66",
   "metadata": {},
   "outputs": [],
   "source": [
    "early_stop = EarlyStopping(monitor='val_loss', patience=5)"
   ]
  },
  {
   "cell_type": "code",
   "execution_count": null,
   "id": "986a7c3c",
   "metadata": {},
   "outputs": [
    {
     "name": "stdout",
     "output_type": "stream",
     "text": [
      "Epoch 1/150\n",
      "12/12 [==============================] - 2s 103ms/step - loss: 11.4515 - accuracy: 0.7388 - val_loss: 14.5287 - val_accuracy: 0.5079\n",
      "Epoch 2/150\n",
      "12/12 [==============================] - 1s 87ms/step - loss: 10.1196 - accuracy: 0.9156 - val_loss: 11.1328 - val_accuracy: 0.5079\n",
      "Epoch 3/150\n",
      "12/12 [==============================] - 1s 91ms/step - loss: 8.9952 - accuracy: 0.9499 - val_loss: 9.1529 - val_accuracy: 0.6151\n",
      "Epoch 4/150\n",
      "12/12 [==============================] - 1s 87ms/step - loss: 7.8772 - accuracy: 0.9578 - val_loss: 7.6743 - val_accuracy: 0.8214\n",
      "Epoch 5/150\n",
      "12/12 [==============================] - 1s 88ms/step - loss: 6.8581 - accuracy: 0.9789 - val_loss: 6.5833 - val_accuracy: 0.8532\n",
      "Epoch 6/150\n",
      "12/12 [==============================] - 1s 86ms/step - loss: 5.9469 - accuracy: 0.9868 - val_loss: 5.8711 - val_accuracy: 0.8294\n",
      "Epoch 7/150\n",
      "12/12 [==============================] - 1s 87ms/step - loss: 5.1538 - accuracy: 0.9947 - val_loss: 4.9442 - val_accuracy: 0.9444\n",
      "Epoch 8/150\n",
      "12/12 [==============================] - 1s 90ms/step - loss: 4.4599 - accuracy: 0.9921 - val_loss: 4.3732 - val_accuracy: 0.9206\n",
      "Epoch 9/150\n",
      "12/12 [==============================] - 1s 88ms/step - loss: 3.8594 - accuracy: 0.9947 - val_loss: 3.7557 - val_accuracy: 0.9484\n",
      "Epoch 10/150\n",
      "12/12 [==============================] - 1s 88ms/step - loss: 3.3552 - accuracy: 0.9947 - val_loss: 3.2759 - val_accuracy: 0.9484\n",
      "Epoch 11/150\n",
      "12/12 [==============================] - 1s 90ms/step - loss: 2.9186 - accuracy: 0.9921 - val_loss: 2.9120 - val_accuracy: 0.9603\n",
      "Epoch 12/150\n",
      "12/12 [==============================] - 1s 89ms/step - loss: 2.5915 - accuracy: 0.9789 - val_loss: 2.6601 - val_accuracy: 0.9286\n",
      "Epoch 13/150\n",
      "12/12 [==============================] - 1s 98ms/step - loss: 2.3956 - accuracy: 0.9631 - val_loss: 2.4962 - val_accuracy: 0.8651\n",
      "Epoch 14/150\n",
      "12/12 [==============================] - 1s 87ms/step - loss: 2.2506 - accuracy: 0.9472 - val_loss: 2.2587 - val_accuracy: 0.9405\n",
      "Epoch 15/150\n",
      "12/12 [==============================] - 1s 88ms/step - loss: 1.9873 - accuracy: 0.9868 - val_loss: 2.0278 - val_accuracy: 0.9603\n",
      "Epoch 16/150\n",
      "12/12 [==============================] - 1s 87ms/step - loss: 1.7566 - accuracy: 0.9868 - val_loss: 1.8474 - val_accuracy: 0.9405\n",
      "Epoch 17/150\n",
      "12/12 [==============================] - 1s 89ms/step - loss: 1.5538 - accuracy: 0.9947 - val_loss: 1.6886 - val_accuracy: 0.9087\n",
      "Epoch 18/150\n",
      "12/12 [==============================] - 1s 89ms/step - loss: 1.3775 - accuracy: 0.9974 - val_loss: 1.5678 - val_accuracy: 0.9167\n",
      "Epoch 19/150\n",
      "12/12 [==============================] - 1s 89ms/step - loss: 1.2188 - accuracy: 0.9974 - val_loss: 1.4089 - val_accuracy: 0.9524\n",
      "Epoch 20/150\n",
      "12/12 [==============================] - 1s 87ms/step - loss: 1.0894 - accuracy: 1.0000 - val_loss: 1.3668 - val_accuracy: 0.9563\n",
      "Epoch 21/150\n",
      "12/12 [==============================] - 1s 89ms/step - loss: 0.9965 - accuracy: 0.9974 - val_loss: 1.2933 - val_accuracy: 0.9524\n",
      "Epoch 22/150\n",
      "12/12 [==============================] - 1s 91ms/step - loss: 0.9455 - accuracy: 0.9974 - val_loss: 1.3237 - val_accuracy: 0.8294\n",
      "Epoch 23/150\n",
      "12/12 [==============================] - 1s 90ms/step - loss: 0.9171 - accuracy: 0.9894 - val_loss: 1.3167 - val_accuracy: 0.9722\n",
      "Epoch 24/150\n",
      " 8/12 [===================>..........] - ETA: 0s - loss: 1.1040 - accuracy: 0.9531"
     ]
    }
   ],
   "source": [
    "eye_history = eye_model.fit(eye_train_images,\n",
    "                            validation_data=eye_validation_images,\n",
    "                            epochs=150,\n",
    "                            callbacks=[early_stop])"
   ]
  },
  {
   "cell_type": "code",
   "execution_count": 69,
   "id": "afb249ac",
   "metadata": {},
   "outputs": [
    {
     "data": {
      "image/png": "[encoded data removed]",
      "text/plain": [
       "<Figure size 864x576 with 2 Axes>"
      ]
     },
     "metadata": {
      "needs_background": "light"
     },
     "output_type": "display_data"
    }
   ],
   "source": [
    "acc = eye_history.history['accuracy']\n",
    "val_acc = eye_history.history['val_accuracy']\n",
    "\n",
    "loss = eye_history.history['loss']\n",
    "val_loss = eye_history.history['val_loss']\n",
    "\n",
    "epochs_range = range(len(acc))\n",
    "\n",
    "plt.figure(figsize=(12, 8))\n",
    "plt.subplot(2, 1, 1)\n",
    "plt.plot(epochs_range, acc, label='Training Accuracy')\n",
    "plt.plot(epochs_range, val_acc, label='Validation Accuracy')\n",
    "plt.legend(loc='lower right')\n",
    "plt.title('Training and Validation Accuracy')\n",
    "\n",
    "plt.subplot(2, 1, 2)\n",
    "plt.plot(epochs_range, loss, label='Training Loss')\n",
    "plt.plot(epochs_range, val_loss, label='Validation Loss')\n",
    "plt.legend(loc='upper right')\n",
    "plt.title('Training and Validation Loss')\n",
    "\n",
    "plt.show()"
   ]
  },
  {
   "cell_type": "markdown",
   "id": "df7ebd2c",
   "metadata": {},
   "source": [
    "### Testing Beauty >> Eye Classifier"
   ]
  },
  {
   "cell_type": "code",
   "execution_count": null,
   "id": "56273768",
   "metadata": {},
   "outputs": [],
   "source": [
    "test_image_eye_folder_base = test_image_folder_base + 'Eye/'"
   ]
  },
  {
   "cell_type": "code",
   "execution_count": null,
   "id": "4fc3ea03",
   "metadata": {},
   "outputs": [],
   "source": [
    "eye_test_images = tf.keras.preprocessing.image_dataset_from_directory(\n",
    "    test_image_eye_folder_base,\n",
    "    labels='inferred',\n",
    "    label_mode='int',\n",
    "    class_names=['eye', 'not_eye'],\n",
    "    color_mode='rgb',\n",
    "    batch_size=batch_size,\n",
    "    image_size=(image_height, image_width),\n",
    "    shuffle=True,\n",
    "    seed=42,\n",
    "    validation_split=None,\n",
    "    subset=None\n",
    ")"
   ]
  },
  {
   "cell_type": "code",
   "execution_count": null,
   "id": "525437bc",
   "metadata": {},
   "outputs": [],
   "source": [
    "eye_predictions = eye_model.predict(eye_test_images)\n",
    "print(eye_predictions)"
   ]
  },
  {
   "cell_type": "code",
   "execution_count": null,
   "id": "2ee22fbd",
   "metadata": {},
   "outputs": [],
   "source": [
    "plt.figure(figsize=(14, 12))\n",
    "for images, labels in eye_test_images.take(1):\n",
    "    for i in range(len(images)):\n",
    "        eye_prediction = eye_model.predict(tf.reshape(images[i], [-1, 50, 50, 3]))\n",
    "        ax = plt.subplot(6, 4, i + 1)\n",
    "        plt.imshow(images[i].numpy().astype(\"uint8\"))\n",
    "        eye_label = 'not_eye' if eye_prediction[0][0] > 0.5 else 'eye'\n",
    "        image_title = eye_test_images.class_names[labels[i]]+' >> '+eye_label+' ('+str(round(eye_prediction[0][0], 2))+')'\n",
    "        plt.title(image_title)\n",
    "        plt.axis(\"off\")"
   ]
  },
  {
   "cell_type": "markdown",
   "id": "a59fa16f",
   "metadata": {},
   "source": [
    "## Beauty >> Lips Classifier"
   ]
  },
  {
   "cell_type": "code",
   "execution_count": null,
   "id": "0c679d11",
   "metadata": {},
   "outputs": [],
   "source": [
    "lips_images = image_classes_folder_base + 'Lips/'"
   ]
  },
  {
   "cell_type": "code",
   "execution_count": null,
   "id": "a5f703bb",
   "metadata": {},
   "outputs": [],
   "source": [
    "lips_train_images = tf.keras.preprocessing.image_dataset_from_directory(\n",
    "    lips_images,\n",
    "    labels='inferred',\n",
    "    label_mode='int',\n",
    "    class_names=['lips', 'not_lips'],\n",
    "    color_mode='rgb',\n",
    "    batch_size=batch_size,\n",
    "    image_size=(image_height, image_width),\n",
    "    shuffle=True,\n",
    "    seed=42,\n",
    "    validation_split=0.15,\n",
    "    subset=\"training\"\n",
    ")"
   ]
  },
  {
   "cell_type": "code",
   "execution_count": null,
   "id": "845e4a04",
   "metadata": {},
   "outputs": [],
   "source": [
    "lips_validation_images = tf.keras.preprocessing.image_dataset_from_directory(\n",
    "    lips_images,\n",
    "    labels='inferred',\n",
    "    label_mode='int',\n",
    "    class_names=['lips', 'not_lips'],\n",
    "    color_mode='rgb',\n",
    "    batch_size=batch_size,\n",
    "    image_size=(image_height, image_width),\n",
    "    shuffle=True,\n",
    "    seed=42,\n",
    "    validation_split=0.15,\n",
    "    subset=\"validation\"\n",
    ")"
   ]
  },
  {
   "cell_type": "code",
   "execution_count": null,
   "id": "e1e26ee2",
   "metadata": {},
   "outputs": [],
   "source": [
    "lips_model = Sequential()\n",
    "\n",
    "# CONVOLUTIONAL LAYER\n",
    "lips_model.add(Conv2D(filters=32,\n",
    "                      kernel_regularizer=regularizers.l1_l2(l1=0.001, l2=0.001),\n",
    "                      kernel_size=(3, 3),\n",
    "                      input_shape=(50, 50, 3),\n",
    "                      activation='relu'))\n",
    "\n",
    "# POOLING LAYER\n",
    "lips_model.add(MaxPool2D(pool_size=(2, 2)))\n",
    "\n",
    "# CONVOLUTIONAL LAYER\n",
    "lips_model.add(Conv2D(filters=64,\n",
    "                      kernel_regularizer=regularizers.l1_l2(l1=0.001, l2=0.001),\n",
    "                      kernel_size=(3, 3),\n",
    "                      activation='relu'))\n",
    "\n",
    "# POOLING LAYER & DROPOUT\n",
    "lips_model.add(MaxPool2D(pool_size=(2, 2)))\n",
    "lips_model.add(Dropout(0.5))\n",
    "\n",
    "# CONVOLUTIONAL LAYER\n",
    "lips_model.add(Conv2D(filters=64,\n",
    "                      kernel_regularizer=regularizers.l1_l2(l1=0.001, l2=0.001),\n",
    "                      kernel_size=(3, 3),\n",
    "                      activation='relu'))\n",
    "\n",
    "# POOLING LAYER & DROPOUT\n",
    "lips_model.add(MaxPool2D(pool_size=(2, 2)))\n",
    "lips_model.add(Dropout(0.5))\n",
    "\n",
    "# FLATTEN IMAGES FROM 50 by 50 to 2500 BEFORE FINAL LAYER\n",
    "lips_model.add(Flatten(input_shape=(50, 50, 3)))\n",
    "\n",
    "# 128 NEURONS IN DENSE HIDDEN LAYER\n",
    "lips_model.add(Dense(128,\n",
    "                     kernel_regularizer=regularizers.l1_l2(l1=0.001, l2=0.001),\n",
    "                     activation='relu'))\n",
    "lips_model.add(Dropout(0.5))\n",
    "\n",
    "# 64 NEURONS IN DENSE HIDDEN LAYER\n",
    "lips_model.add(Dense(64,\n",
    "                     kernel_regularizer=regularizers.l1_l2(l1=0.001, l2=0.001),\n",
    "                     activation='relu'))\n",
    "lips_model.add(Dropout(0.5))\n",
    "\n",
    "# LAST LAYER IS THE CLASSIFIER\n",
    "lips_model.add(Dense(1, activation='sigmoid'))"
   ]
  },
  {
   "cell_type": "code",
   "execution_count": null,
   "id": "2ecfd581",
   "metadata": {},
   "outputs": [],
   "source": [
    "lips_model.summary()"
   ]
  },
  {
   "cell_type": "code",
   "execution_count": null,
   "id": "170abfa2",
   "metadata": {},
   "outputs": [],
   "source": [
    "lips_model.compile(optimizer='adam',\n",
    "                   loss='binary_crossentropy',\n",
    "                   metrics=['accuracy'])"
   ]
  },
  {
   "cell_type": "code",
   "execution_count": null,
   "id": "9eb79dce",
   "metadata": {},
   "outputs": [],
   "source": [
    "early_stop = EarlyStopping(monitor='val_loss', patience=5)"
   ]
  },
  {
   "cell_type": "code",
   "execution_count": null,
   "id": "0ed5d98a",
   "metadata": {},
   "outputs": [],
   "source": [
    "lips_history = lips_model.fit(lips_train_images,\n",
    "                              validation_data=lips_validation_images,\n",
    "                              epochs=150,\n",
    "                              callbacks=[early_stop])"
   ]
  },
  {
   "cell_type": "code",
   "execution_count": null,
   "id": "4891c709",
   "metadata": {},
   "outputs": [],
   "source": [
    "acc = lips_history.history['accuracy']\n",
    "val_acc = lips_history.history['val_accuracy']\n",
    "\n",
    "loss = lips_history.history['loss']\n",
    "val_loss = lips_history.history['val_loss']\n",
    "\n",
    "epochs_range = range(len(acc))\n",
    "\n",
    "plt.figure(figsize=(12, 8))\n",
    "plt.subplot(2, 1, 1)\n",
    "plt.plot(epochs_range, acc, label='Training Accuracy')\n",
    "plt.plot(epochs_range, val_acc, label='Validation Accuracy')\n",
    "plt.legend(loc='lower right')\n",
    "plt.title('Training and Validation Accuracy')\n",
    "\n",
    "plt.subplot(2, 1, 2)\n",
    "plt.plot(epochs_range, loss, label='Training Loss')\n",
    "plt.plot(epochs_range, val_loss, label='Validation Loss')\n",
    "plt.legend(loc='upper right')\n",
    "plt.title('Training and Validation Loss')\n",
    "\n",
    "plt.show()"
   ]
  },
  {
   "cell_type": "markdown",
   "id": "7673cf8c",
   "metadata": {},
   "source": [
    "### Testing Beauty >> Lips Classifier"
   ]
  },
  {
   "cell_type": "code",
   "execution_count": null,
   "id": "df1aefd4",
   "metadata": {},
   "outputs": [],
   "source": [
    "test_image_lips_folder_base = test_image_folder_base + 'Lips/'"
   ]
  },
  {
   "cell_type": "code",
   "execution_count": null,
   "id": "41d79db2",
   "metadata": {},
   "outputs": [],
   "source": [
    "lips_test_images = tf.keras.preprocessing.image_dataset_from_directory(\n",
    "    test_image_lips_folder_base,\n",
    "    labels='inferred',\n",
    "    label_mode='int',\n",
    "    class_names=['lips', 'not_lips'],\n",
    "    color_mode='rgb',\n",
    "    batch_size=batch_size,\n",
    "    image_size=(image_height, image_width),\n",
    "    shuffle=True,\n",
    "    seed=42,\n",
    "    validation_split=None,\n",
    "    subset=None\n",
    ")"
   ]
  },
  {
   "cell_type": "code",
   "execution_count": null,
   "id": "8ba79ec4",
   "metadata": {},
   "outputs": [],
   "source": [
    "lips_predictions = lips_model.predict(lips_test_images)\n",
    "print(lips_predictions)"
   ]
  },
  {
   "cell_type": "code",
   "execution_count": null,
   "id": "4c220773",
   "metadata": {},
   "outputs": [],
   "source": [
    "plt.figure(figsize=(12, 10))\n",
    "for images, labels in lips_test_images.take(1):\n",
    "    for i in range(len(images)):\n",
    "        lips_prediction = lips_model.predict(tf.reshape(images[i], [-1, 50, 50, 3]))\n",
    "        ax = plt.subplot(4, 4, i + 1)\n",
    "        plt.imshow(images[i].numpy().astype(\"uint8\"))\n",
    "        lips_label = 'not_lips' if lips_prediction[0][0] > 0.5 else 'lips'\n",
    "        image_title = lips_test_images.class_names[labels[i]]+' >> '+lips_label+' ('+str(round(lips_prediction[0][0], 2))+')'\n",
    "        plt.title(image_title)\n",
    "        plt.axis(\"off\")"
   ]
  },
  {
   "cell_type": "markdown",
   "id": "f762ca1a",
   "metadata": {},
   "source": [
    "## Beauty >> Nail Classifier"
   ]
  },
  {
   "cell_type": "code",
   "execution_count": null,
   "id": "eaf8e81a",
   "metadata": {},
   "outputs": [],
   "source": [
    "nail_images = image_classes_folder_base + 'Nail/'"
   ]
  },
  {
   "cell_type": "code",
   "execution_count": null,
   "id": "0b1bc4c8",
   "metadata": {},
   "outputs": [],
   "source": [
    "nail_train_images = tf.keras.preprocessing.image_dataset_from_directory(\n",
    "    nail_images,\n",
    "    labels='inferred',\n",
    "    label_mode='int',\n",
    "    class_names=['nail', 'not_nail'],\n",
    "    color_mode='rgb',\n",
    "    batch_size=batch_size,\n",
    "    image_size=(image_height, image_width),\n",
    "    shuffle=True,\n",
    "    seed=42,\n",
    "    validation_split=0.15,\n",
    "    subset=\"training\"\n",
    ")"
   ]
  },
  {
   "cell_type": "code",
   "execution_count": null,
   "id": "6d2a6322",
   "metadata": {},
   "outputs": [],
   "source": [
    "nail_validation_images = tf.keras.preprocessing.image_dataset_from_directory(\n",
    "    nail_images,\n",
    "    labels='inferred',\n",
    "    label_mode='int',\n",
    "    class_names=['nail', 'not_nail'],\n",
    "    color_mode='rgb',\n",
    "    batch_size=batch_size,\n",
    "    image_size=(image_height, image_width),\n",
    "    shuffle=True,\n",
    "    seed=42,\n",
    "    validation_split=0.15,\n",
    "    subset=\"validation\"\n",
    ")"
   ]
  },
  {
   "cell_type": "code",
   "execution_count": null,
   "id": "48d9ee69",
   "metadata": {},
   "outputs": [],
   "source": [
    "nail_model = Sequential()\n",
    "\n",
    "# CONVOLUTIONAL LAYER\n",
    "nail_model.add(Conv2D(filters=32,\n",
    "                      kernel_regularizer=regularizers.l1_l2(l1=0.001, l2=0.001),\n",
    "                      kernel_size=(3, 3),\n",
    "                      input_shape=(50, 50, 3),\n",
    "                      activation='relu'))\n",
    "\n",
    "# POOLING LAYER\n",
    "nail_model.add(MaxPool2D(pool_size=(2, 2)))\n",
    "\n",
    "# CONVOLUTIONAL LAYER\n",
    "nail_model.add(Conv2D(filters=64,\n",
    "                      kernel_regularizer=regularizers.l1_l2(l1=0.001, l2=0.001),\n",
    "                      kernel_size=(3, 3),\n",
    "                      activation='relu'))\n",
    "\n",
    "# POOLING LAYER & DROPOUT\n",
    "nail_model.add(MaxPool2D(pool_size=(2, 2)))\n",
    "nail_model.add(Dropout(0.5))\n",
    "\n",
    "# CONVOLUTIONAL LAYER\n",
    "nail_model.add(Conv2D(filters=64,\n",
    "                      kernel_regularizer=regularizers.l1_l2(l1=0.001, l2=0.001),\n",
    "                      kernel_size=(3, 3),\n",
    "                      activation='relu'))\n",
    "\n",
    "# POOLING LAYER & DROPOUT\n",
    "nail_model.add(MaxPool2D(pool_size=(2, 2)))\n",
    "nail_model.add(Dropout(0.5))\n",
    "\n",
    "# FLATTEN IMAGES FROM 50 by 50 to 2500 BEFORE FINAL LAYER\n",
    "nail_model.add(Flatten(input_shape=(50, 50, 3)))\n",
    "\n",
    "# 128 NEURONS IN DENSE HIDDEN LAYER\n",
    "nail_model.add(Dense(128,\n",
    "                     kernel_regularizer=regularizers.l1_l2(l1=0.001, l2=0.001),\n",
    "                     activation='relu'))\n",
    "nail_model.add(Dropout(0.5))\n",
    "\n",
    "# 64 NEURONS IN DENSE HIDDEN LAYER\n",
    "nail_model.add(Dense(64,\n",
    "                     kernel_regularizer=regularizers.l1_l2(l1=0.001, l2=0.001),\n",
    "                     activation='relu'))\n",
    "nail_model.add(Dropout(0.5))\n",
    "\n",
    "# LAST LAYER IS THE CLASSIFIER\n",
    "nail_model.add(Dense(1, activation='sigmoid'))"
   ]
  },
  {
   "cell_type": "code",
   "execution_count": null,
   "id": "89273c2a",
   "metadata": {},
   "outputs": [],
   "source": [
    "nail_model.summary()"
   ]
  },
  {
   "cell_type": "code",
   "execution_count": null,
   "id": "99f85a55",
   "metadata": {},
   "outputs": [],
   "source": [
    "nail_model.compile(optimizer='adam',\n",
    "                   loss='binary_crossentropy',\n",
    "                   metrics=['accuracy'])"
   ]
  },
  {
   "cell_type": "code",
   "execution_count": null,
   "id": "48c40521",
   "metadata": {},
   "outputs": [],
   "source": [
    "early_stop = EarlyStopping(monitor='val_loss', patience=5)"
   ]
  },
  {
   "cell_type": "code",
   "execution_count": null,
   "id": "b554ee4f",
   "metadata": {},
   "outputs": [],
   "source": [
    "nail_history = nail_model.fit(nail_train_images,\n",
    "                              validation_data=nail_validation_images,\n",
    "                              epochs=150,\n",
    "                              callbacks=[early_stop])"
   ]
  },
  {
   "cell_type": "code",
   "execution_count": null,
   "id": "e3958b74",
   "metadata": {},
   "outputs": [],
   "source": [
    "acc = nail_history.history['accuracy']\n",
    "val_acc = nail_history.history['val_accuracy']\n",
    "\n",
    "loss = nail_history.history['loss']\n",
    "val_loss = nail_history.history['val_loss']\n",
    "\n",
    "epochs_range = range(len(acc))\n",
    "\n",
    "plt.figure(figsize=(12, 8))\n",
    "plt.subplot(2, 1, 1)\n",
    "plt.plot(epochs_range, acc, label='Training Accuracy')\n",
    "plt.plot(epochs_range, val_acc, label='Validation Accuracy')\n",
    "plt.legend(loc='lower right')\n",
    "plt.title('Training and Validation Accuracy')\n",
    "\n",
    "plt.subplot(2, 1, 2)\n",
    "plt.plot(epochs_range, loss, label='Training Loss')\n",
    "plt.plot(epochs_range, val_loss, label='Validation Loss')\n",
    "plt.legend(loc='upper right')\n",
    "plt.title('Training and Validation Loss')\n",
    "\n",
    "plt.show()"
   ]
  },
  {
   "cell_type": "markdown",
   "id": "9303b4ff",
   "metadata": {},
   "source": [
    "### Testing Beauty >> Nail Classifier"
   ]
  },
  {
   "cell_type": "code",
   "execution_count": null,
   "id": "61e81364",
   "metadata": {},
   "outputs": [],
   "source": [
    "test_image_nail_folder_base = test_image_folder_base + 'Nail/'"
   ]
  },
  {
   "cell_type": "code",
   "execution_count": null,
   "id": "39885e9f",
   "metadata": {},
   "outputs": [],
   "source": [
    "nail_test_images = tf.keras.preprocessing.image_dataset_from_directory(\n",
    "    test_image_nail_folder_base,\n",
    "    labels='inferred',\n",
    "    label_mode='int',\n",
    "    class_names=['nail', 'not_nail'],\n",
    "    color_mode='rgb',\n",
    "    batch_size=36,\n",
    "    image_size=(image_height, image_width),\n",
    "    shuffle=True,\n",
    "    seed=42,\n",
    "    validation_split=None,\n",
    "    subset=None\n",
    ")"
   ]
  },
  {
   "cell_type": "code",
   "execution_count": null,
   "id": "c1288760",
   "metadata": {},
   "outputs": [],
   "source": [
    "nail_predictions = nail_model.predict(nail_test_images)\n",
    "print(nail_predictions)"
   ]
  },
  {
   "cell_type": "code",
   "execution_count": null,
   "id": "c33028e6",
   "metadata": {},
   "outputs": [],
   "source": [
    "plt.figure(figsize=(12, 16))\n",
    "for images, labels in nail_test_images.take(1):\n",
    "    for i in range(len(images)):\n",
    "        nail_prediction = nail_model.predict(tf.reshape(images[i], [-1, 50, 50, 3]))\n",
    "        ax = plt.subplot(9, 4, i + 1)\n",
    "        plt.imshow(images[i].numpy().astype(\"uint8\"))\n",
    "        nail_label = 'not_nail' if nail_prediction[0][0] > 0.5 else 'nail'\n",
    "        image_title = nail_test_images.class_names[labels[i]]+' >> '+nail_label+' ('+str(round(nail_prediction[0][0], 2))+')'\n",
    "        plt.title(image_title)\n",
    "        plt.axis(\"off\")"
   ]
  },
  {
   "cell_type": "markdown",
   "id": "655b1451",
   "metadata": {},
   "source": [
    "## Beauty >> Hair Classifier"
   ]
  },
  {
   "cell_type": "code",
   "execution_count": null,
   "id": "65a3f844",
   "metadata": {},
   "outputs": [],
   "source": [
    "hair_images = image_classes_folder_base + 'Hair/'"
   ]
  },
  {
   "cell_type": "code",
   "execution_count": null,
   "id": "82942b65",
   "metadata": {},
   "outputs": [],
   "source": [
    "hair_train_images = tf.keras.preprocessing.image_dataset_from_directory(\n",
    "    hair_images,\n",
    "    labels='inferred',\n",
    "    label_mode='int',\n",
    "    class_names=['hair', 'not_hair'],\n",
    "    color_mode='rgb',\n",
    "    batch_size=batch_size,\n",
    "    image_size=(image_height, image_width),\n",
    "    shuffle=True,\n",
    "    seed=42,\n",
    "    validation_split=0.15,\n",
    "    subset=\"training\"\n",
    ")"
   ]
  },
  {
   "cell_type": "code",
   "execution_count": null,
   "id": "3b4bca39",
   "metadata": {},
   "outputs": [],
   "source": [
    "hair_validation_images = tf.keras.preprocessing.image_dataset_from_directory(\n",
    "    hair_images,\n",
    "    labels='inferred',\n",
    "    label_mode='int',\n",
    "    class_names=['hair', 'not_hair'],\n",
    "    color_mode='rgb',\n",
    "    batch_size=batch_size,\n",
    "    image_size=(image_height, image_width),\n",
    "    shuffle=True,\n",
    "    seed=42,\n",
    "    validation_split=0.15,\n",
    "    subset=\"validation\"\n",
    ")"
   ]
  },
  {
   "cell_type": "code",
   "execution_count": null,
   "id": "1ff1ae44",
   "metadata": {},
   "outputs": [],
   "source": [
    "hair_model = Sequential()\n",
    "\n",
    "# CONVOLUTIONAL LAYER\n",
    "hair_model.add(Conv2D(filters=32,\n",
    "                      kernel_regularizer=regularizers.l1_l2(l1=0.001, l2=0.001),\n",
    "                      kernel_size=(3, 3),\n",
    "                      input_shape=(50, 50, 3),\n",
    "                      activation='relu'))\n",
    "\n",
    "# POOLING LAYER\n",
    "hair_model.add(MaxPool2D(pool_size=(2, 2)))\n",
    "\n",
    "# CONVOLUTIONAL LAYER\n",
    "hair_model.add(Conv2D(filters=64,\n",
    "                      kernel_regularizer=regularizers.l1_l2(l1=0.001, l2=0.001),\n",
    "                      kernel_size=(3, 3),\n",
    "                      activation='relu'))\n",
    "\n",
    "# POOLING LAYER & DROPOUT\n",
    "hair_model.add(MaxPool2D(pool_size=(2, 2)))\n",
    "hair_model.add(Dropout(0.5))\n",
    "\n",
    "# CONVOLUTIONAL LAYER\n",
    "hair_model.add(Conv2D(filters=64,\n",
    "                      kernel_regularizer=regularizers.l1_l2(l1=0.001, l2=0.001),\n",
    "                      kernel_size=(3, 3),\n",
    "                      activation='relu'))\n",
    "\n",
    "# POOLING LAYER & DROPOUT\n",
    "hair_model.add(MaxPool2D(pool_size=(2, 2)))\n",
    "hair_model.add(Dropout(0.5))\n",
    "\n",
    "# FLATTEN IMAGES FROM 50 by 50 to 2500 BEFORE FINAL LAYER\n",
    "hair_model.add(Flatten(input_shape=(50, 50, 3)))\n",
    "\n",
    "# 128 NEURONS IN DENSE HIDDEN LAYER\n",
    "hair_model.add(Dense(128,\n",
    "                     kernel_regularizer=regularizers.l1_l2(l1=0.001, l2=0.001),\n",
    "                     activation='relu'))\n",
    "hair_model.add(Dropout(0.5))\n",
    "\n",
    "# 64 NEURONS IN DENSE HIDDEN LAYER\n",
    "hair_model.add(Dense(64,\n",
    "                     kernel_regularizer=regularizers.l1_l2(l1=0.001, l2=0.001),\n",
    "                     activation='relu'))\n",
    "hair_model.add(Dropout(0.5))\n",
    "\n",
    "# LAST LAYER IS THE CLASSIFIER\n",
    "hair_model.add(Dense(1, activation='sigmoid'))"
   ]
  },
  {
   "cell_type": "code",
   "execution_count": null,
   "id": "b7b7f7ed",
   "metadata": {},
   "outputs": [],
   "source": [
    "hair_model.summary()"
   ]
  },
  {
   "cell_type": "code",
   "execution_count": null,
   "id": "aa22b980",
   "metadata": {},
   "outputs": [],
   "source": [
    "hair_model.compile(optimizer='adam',\n",
    "                   loss='binary_crossentropy',\n",
    "                   metrics=['accuracy'])"
   ]
  },
  {
   "cell_type": "code",
   "execution_count": null,
   "id": "0fe10201",
   "metadata": {},
   "outputs": [],
   "source": [
    "early_stop = EarlyStopping(monitor='val_loss', patience=5)"
   ]
  },
  {
   "cell_type": "code",
   "execution_count": null,
   "id": "4b83ae0f",
   "metadata": {},
   "outputs": [],
   "source": [
    "hair_history = hair_model.fit(hair_train_images,\n",
    "                              validation_data=hair_validation_images,\n",
    "                              epochs=200,\n",
    "                              callbacks=[early_stop])"
   ]
  },
  {
   "cell_type": "code",
   "execution_count": null,
   "id": "36ed475a",
   "metadata": {},
   "outputs": [],
   "source": [
    "acc = hair_history.history['accuracy']\n",
    "val_acc = hair_history.history['val_accuracy']\n",
    "\n",
    "loss = hair_history.history['loss']\n",
    "val_loss = hair_history.history['val_loss']\n",
    "\n",
    "epochs_range = range(len(acc))\n",
    "\n",
    "plt.figure(figsize=(12, 8))\n",
    "plt.subplot(2, 1, 1)\n",
    "plt.plot(epochs_range, acc, label='Training Accuracy')\n",
    "plt.plot(epochs_range, val_acc, label='Validation Accuracy')\n",
    "plt.legend(loc='lower right')\n",
    "plt.title('Training and Validation Accuracy')\n",
    "\n",
    "plt.subplot(2, 1, 2)\n",
    "plt.plot(epochs_range, loss, label='Training Loss')\n",
    "plt.plot(epochs_range, val_loss, label='Validation Loss')\n",
    "plt.legend(loc='upper right')\n",
    "plt.title('Training and Validation Loss')\n",
    "\n",
    "plt.show()"
   ]
  },
  {
   "cell_type": "markdown",
   "id": "cf6b5131",
   "metadata": {},
   "source": [
    "### Testing Beauty >> Hair Classifier"
   ]
  },
  {
   "cell_type": "code",
   "execution_count": null,
   "id": "5ada7ebd",
   "metadata": {},
   "outputs": [],
   "source": [
    "test_image_hair_folder_base = test_image_folder_base + 'Hair/'"
   ]
  },
  {
   "cell_type": "code",
   "execution_count": null,
   "id": "634a1b06",
   "metadata": {},
   "outputs": [],
   "source": [
    "hair_test_images = tf.keras.preprocessing.image_dataset_from_directory(\n",
    "    test_image_hair_folder_base,\n",
    "    labels='inferred',\n",
    "    label_mode='int',\n",
    "    class_names=['hair', 'not_hair'],\n",
    "    color_mode='rgb',\n",
    "    batch_size=batch_size,\n",
    "    image_size=(image_height, image_width),\n",
    "    shuffle=True,\n",
    "    seed=42,\n",
    "    validation_split=None,\n",
    "    subset=None\n",
    ")"
   ]
  },
  {
   "cell_type": "code",
   "execution_count": null,
   "id": "7086174c",
   "metadata": {},
   "outputs": [],
   "source": [
    "hair_predictions = hair_model.predict(hair_test_images)\n",
    "print(hair_predictions)"
   ]
  },
  {
   "cell_type": "code",
   "execution_count": null,
   "id": "57d9008d",
   "metadata": {},
   "outputs": [],
   "source": [
    "plt.figure(figsize=(16, 12))\n",
    "for images, labels in hair_test_images.take(1):\n",
    "    for i in range(len(images)):\n",
    "        hair_prediction = hair_model.predict(tf.reshape(images[i], [-1, 50, 50, 3]))\n",
    "        ax = plt.subplot(6, 5, i + 1)\n",
    "        plt.imshow(images[i].numpy().astype(\"uint8\"))\n",
    "        hair_label = 'not_hair' if hair_prediction[0][0] > 0.5 else 'hair'\n",
    "        image_title = hair_test_images.class_names[labels[i]]+' >> '+hair_label+' ('+str(round(hair_prediction[0][0], 2))+')'\n",
    "        plt.title(image_title)\n",
    "        plt.axis(\"off\")"
   ]
  },
  {
   "cell_type": "markdown",
   "id": "f6e8a574",
   "metadata": {},
   "source": [
    "## Beauty >> Face Classifier"
   ]
  },
  {
   "cell_type": "code",
   "execution_count": null,
   "id": "1c8cea0d",
   "metadata": {},
   "outputs": [],
   "source": [
    "face_images = image_classes_folder_base + 'Face/'"
   ]
  },
  {
   "cell_type": "code",
   "execution_count": null,
   "id": "3b53d07a",
   "metadata": {},
   "outputs": [],
   "source": [
    "face_train_images = tf.keras.preprocessing.image_dataset_from_directory(\n",
    "    face_images,\n",
    "    labels='inferred',\n",
    "    label_mode='int',\n",
    "    class_names=['face', 'not_face'],\n",
    "    color_mode='rgb',\n",
    "    batch_size=batch_size,\n",
    "    image_size=(image_height, image_width),\n",
    "    shuffle=True,\n",
    "    seed=42,\n",
    "    validation_split=0.15,\n",
    "    subset=\"training\"\n",
    ")"
   ]
  },
  {
   "cell_type": "code",
   "execution_count": null,
   "id": "fb695725",
   "metadata": {},
   "outputs": [],
   "source": [
    "face_validation_images = tf.keras.preprocessing.image_dataset_from_directory(\n",
    "    face_images,\n",
    "    labels='inferred',\n",
    "    label_mode='int',\n",
    "    class_names=['face', 'not_face'],\n",
    "    color_mode='rgb',\n",
    "    batch_size=batch_size,\n",
    "    image_size=(image_height, image_width),\n",
    "    shuffle=True,\n",
    "    seed=42,\n",
    "    validation_split=0.15,\n",
    "    subset=\"validation\"\n",
    ")"
   ]
  },
  {
   "cell_type": "code",
   "execution_count": null,
   "id": "77a24c09",
   "metadata": {},
   "outputs": [],
   "source": [
    "face_model = Sequential()\n",
    "\n",
    "# CONVOLUTIONAL LAYER\n",
    "face_model.add(Conv2D(filters=32,\n",
    "                      kernel_regularizer=regularizers.l1_l2(l1=0.001, l2=0.001),\n",
    "                      kernel_size=(3, 3),\n",
    "                      input_shape=(50, 50, 3),\n",
    "                      activation='relu'))\n",
    "\n",
    "# POOLING LAYER\n",
    "face_model.add(MaxPool2D(pool_size=(2, 2)))\n",
    "\n",
    "# CONVOLUTIONAL LAYER\n",
    "face_model.add(Conv2D(filters=64,\n",
    "                      kernel_regularizer=regularizers.l1_l2(l1=0.001, l2=0.001),\n",
    "                      kernel_size=(3, 3),\n",
    "                      activation='relu'))\n",
    "\n",
    "# POOLING LAYER & DROPOUT\n",
    "face_model.add(MaxPool2D(pool_size=(2, 2)))\n",
    "face_model.add(Dropout(0.5))\n",
    "\n",
    "# CONVOLUTIONAL LAYER\n",
    "face_model.add(Conv2D(filters=64,\n",
    "                      kernel_regularizer=regularizers.l1_l2(l1=0.001, l2=0.001),\n",
    "                      kernel_size=(3, 3),\n",
    "                      activation='relu'))\n",
    "\n",
    "# POOLING LAYER & DROPOUT\n",
    "face_model.add(MaxPool2D(pool_size=(2, 2)))\n",
    "face_model.add(Dropout(0.5))\n",
    "\n",
    "# FLATTEN IMAGES FROM 50 by 50 to 2500 BEFORE FINAL LAYER\n",
    "face_model.add(Flatten(input_shape=(50, 50, 3)))\n",
    "\n",
    "# 128 NEURONS IN DENSE HIDDEN LAYER\n",
    "face_model.add(Dense(128,\n",
    "                     kernel_regularizer=regularizers.l1_l2(l1=0.001, l2=0.001),\n",
    "                     activation='relu'))\n",
    "face_model.add(Dropout(0.5))\n",
    "\n",
    "# 64 NEURONS IN DENSE HIDDEN LAYER\n",
    "face_model.add(Dense(64,\n",
    "                     kernel_regularizer=regularizers.l1_l2(l1=0.001, l2=0.001),\n",
    "                     activation='relu'))\n",
    "face_model.add(Dropout(0.5))\n",
    "\n",
    "# LAST LAYER IS THE CLASSIFIER\n",
    "face_model.add(Dense(1, activation='sigmoid'))"
   ]
  },
  {
   "cell_type": "code",
   "execution_count": null,
   "id": "f221c315",
   "metadata": {},
   "outputs": [],
   "source": [
    "face_model.summary()"
   ]
  },
  {
   "cell_type": "code",
   "execution_count": null,
   "id": "bd44b62c",
   "metadata": {},
   "outputs": [],
   "source": [
    "face_model.compile(optimizer='adam',\n",
    "                   loss='binary_crossentropy',\n",
    "                   metrics=['accuracy'])"
   ]
  },
  {
   "cell_type": "code",
   "execution_count": null,
   "id": "bf74e317",
   "metadata": {},
   "outputs": [],
   "source": [
    "early_stop = EarlyStopping(monitor='val_loss', patience=5)"
   ]
  },
  {
   "cell_type": "code",
   "execution_count": null,
   "id": "666978be",
   "metadata": {},
   "outputs": [],
   "source": [
    "face_history = face_model.fit(face_train_images,\n",
    "                              validation_data=face_validation_images,\n",
    "                              epochs=150,\n",
    "                              callbacks=[early_stop])"
   ]
  },
  {
   "cell_type": "code",
   "execution_count": null,
   "id": "a58a5bc7",
   "metadata": {},
   "outputs": [],
   "source": [
    "acc = face_history.history['accuracy']\n",
    "val_acc = face_history.history['val_accuracy']\n",
    "\n",
    "loss = face_history.history['loss']\n",
    "val_loss = face_history.history['val_loss']\n",
    "\n",
    "epochs_range = range(len(acc))\n",
    "\n",
    "plt.figure(figsize=(12, 8))\n",
    "plt.subplot(2, 1, 1)\n",
    "plt.plot(epochs_range, acc, label='Training Accuracy')\n",
    "plt.plot(epochs_range, val_acc, label='Validation Accuracy')\n",
    "plt.legend(loc='lower right')\n",
    "plt.title('Training and Validation Accuracy')\n",
    "\n",
    "plt.subplot(2, 1, 2)\n",
    "plt.plot(epochs_range, loss, label='Training Loss')\n",
    "plt.plot(epochs_range, val_loss, label='Validation Loss')\n",
    "plt.legend(loc='upper right')\n",
    "plt.title('Training and Validation Loss')\n",
    "\n",
    "plt.show()"
   ]
  },
  {
   "cell_type": "markdown",
   "id": "6a4b495d",
   "metadata": {},
   "source": [
    "### Testing Beauty >> Face Classifier"
   ]
  },
  {
   "cell_type": "code",
   "execution_count": null,
   "id": "b8612f18",
   "metadata": {},
   "outputs": [],
   "source": [
    "test_image_face_folder_base = test_image_folder_base + 'Face/'"
   ]
  },
  {
   "cell_type": "code",
   "execution_count": null,
   "id": "6c1e1748",
   "metadata": {},
   "outputs": [],
   "source": [
    "face_test_images = tf.keras.preprocessing.image_dataset_from_directory(\n",
    "    test_image_face_folder_base,\n",
    "    labels='inferred',\n",
    "    label_mode='int',\n",
    "    class_names=['face', 'not_face'],\n",
    "    color_mode='rgb',\n",
    "    batch_size=36,\n",
    "    image_size=(image_height, image_width),\n",
    "    shuffle=True,\n",
    "    seed=42,\n",
    "    validation_split=None,\n",
    "    subset=None\n",
    ")"
   ]
  },
  {
   "cell_type": "code",
   "execution_count": null,
   "id": "089d8be1",
   "metadata": {},
   "outputs": [],
   "source": [
    "face_predictions = face_model.predict(face_test_images)\n",
    "print(face_predictions)"
   ]
  },
  {
   "cell_type": "code",
   "execution_count": null,
   "id": "7f5aaaef",
   "metadata": {},
   "outputs": [],
   "source": [
    "plt.figure(figsize=(16, 14))\n",
    "for images, labels in face_test_images.take(1):\n",
    "    for i in range(len(images)):\n",
    "        face_prediction = face_model.predict(tf.reshape(images[i], [-1, 50, 50, 3]))\n",
    "        ax = plt.subplot(7, 5, i + 1)\n",
    "        plt.imshow(images[i].numpy().astype(\"uint8\"))\n",
    "        face_label = 'not_face' if face_prediction[0][0] > 0.5 else 'face'\n",
    "        image_title = face_test_images.class_names[labels[i]]+' >> '+face_label+' ('+str(round(face_prediction[0][0], 2))+')'\n",
    "        plt.title(image_title)\n",
    "        plt.axis(\"off\")"
   ]
  },
  {
   "cell_type": "markdown",
   "id": "5d200c99",
   "metadata": {},
   "source": [
    "## Beauty >> Products Classifier"
   ]
  },
  {
   "cell_type": "code",
   "execution_count": null,
   "id": "bce84847",
   "metadata": {},
   "outputs": [],
   "source": [
    "products_images = image_classes_folder_base + 'Products/'"
   ]
  },
  {
   "cell_type": "code",
   "execution_count": null,
   "id": "ad92bb4e",
   "metadata": {},
   "outputs": [],
   "source": [
    "products_train_images = tf.keras.preprocessing.image_dataset_from_directory(\n",
    "    products_images,\n",
    "    labels='inferred',\n",
    "    label_mode='int',\n",
    "    class_names=['products', 'not_products'],\n",
    "    color_mode='rgb',\n",
    "    batch_size=batch_size,\n",
    "    image_size=(image_height, image_width),\n",
    "    shuffle=True,\n",
    "    seed=42,\n",
    "    validation_split=0.15,\n",
    "    subset=\"training\"\n",
    ")"
   ]
  },
  {
   "cell_type": "code",
   "execution_count": null,
   "id": "9630c1ac",
   "metadata": {},
   "outputs": [],
   "source": [
    "products_validation_images = tf.keras.preprocessing.image_dataset_from_directory(\n",
    "    products_images,\n",
    "    labels='inferred',\n",
    "    label_mode='int',\n",
    "    class_names=['products', 'not_products'],\n",
    "    color_mode='rgb',\n",
    "    batch_size=batch_size,\n",
    "    image_size=(image_height, image_width),\n",
    "    shuffle=True,\n",
    "    seed=42,\n",
    "    validation_split=0.15,\n",
    "    subset=\"validation\"\n",
    ")"
   ]
  },
  {
   "cell_type": "code",
   "execution_count": null,
   "id": "96e55177",
   "metadata": {},
   "outputs": [],
   "source": [
    "products_model = Sequential()\n",
    "\n",
    "# CONVOLUTIONAL LAYER\n",
    "products_model.add(Conv2D(filters=32,\n",
    "                          kernel_regularizer=regularizers.l1_l2(l1=0.001, l2=0.001),\n",
    "                          kernel_size=(3, 3),\n",
    "                          input_shape=(50, 50, 3),\n",
    "                          activation='relu'))\n",
    "\n",
    "# POOLING LAYER\n",
    "products_model.add(MaxPool2D(pool_size=(2, 2)))\n",
    "\n",
    "# CONVOLUTIONAL LAYER\n",
    "products_model.add(Conv2D(filters=64,\n",
    "                          kernel_regularizer=regularizers.l1_l2(l1=0.001, l2=0.001),\n",
    "                          kernel_size=(3, 3),\n",
    "                          activation='relu'))\n",
    "\n",
    "# POOLING LAYER & DROPOUT\n",
    "products_model.add(MaxPool2D(pool_size=(2, 2)))\n",
    "products_model.add(Dropout(0.5))\n",
    "\n",
    "# CONVOLUTIONAL LAYER\n",
    "products_model.add(Conv2D(filters=64,\n",
    "                          kernel_regularizer=regularizers.l1_l2(l1=0.001, l2=0.001),\n",
    "                          kernel_size=(3, 3),\n",
    "                          activation='relu'))\n",
    "\n",
    "# POOLING LAYER & DROPOUT\n",
    "products_model.add(MaxPool2D(pool_size=(2, 2)))\n",
    "products_model.add(Dropout(0.5))\n",
    "\n",
    "# FLATTEN IMAGES FROM 50 by 50 to 2500 BEFORE FINAL LAYER\n",
    "products_model.add(Flatten(input_shape=(50, 50, 3)))\n",
    "\n",
    "# 128 NEURONS IN DENSE HIDDEN LAYER\n",
    "products_model.add(Dense(128,\n",
    "                         kernel_regularizer=regularizers.l1_l2(l1=0.001, l2=0.001),\n",
    "                         activation='relu'))\n",
    "products_model.add(Dropout(0.5))\n",
    "\n",
    "# 64 NEURONS IN DENSE HIDDEN LAYER\n",
    "products_model.add(Dense(64,\n",
    "                         kernel_regularizer=regularizers.l1_l2(l1=0.001, l2=0.001),\n",
    "                         activation='relu'))\n",
    "products_model.add(Dropout(0.5))\n",
    "\n",
    "# LAST LAYER IS THE CLASSIFIER\n",
    "products_model.add(Dense(1, activation='sigmoid'))"
   ]
  },
  {
   "cell_type": "code",
   "execution_count": null,
   "id": "dd86d79f",
   "metadata": {},
   "outputs": [],
   "source": [
    "products_model.summary()"
   ]
  },
  {
   "cell_type": "code",
   "execution_count": null,
   "id": "7bdb61bb",
   "metadata": {},
   "outputs": [],
   "source": [
    "products_model.compile(optimizer='adam',\n",
    "                       loss='binary_crossentropy',\n",
    "                       metrics=['accuracy'])"
   ]
  },
  {
   "cell_type": "code",
   "execution_count": null,
   "id": "ecc6bfa6",
   "metadata": {},
   "outputs": [],
   "source": [
    "early_stop = EarlyStopping(monitor='val_loss', patience=5)"
   ]
  },
  {
   "cell_type": "code",
   "execution_count": null,
   "id": "f71e51b7",
   "metadata": {},
   "outputs": [],
   "source": [
    "products_history = products_model.fit(products_train_images,\n",
    "                                      validation_data=products_validation_images,\n",
    "                                      epochs=200,\n",
    "                                      callbacks=[early_stop])"
   ]
  },
  {
   "cell_type": "code",
   "execution_count": null,
   "id": "96f56216",
   "metadata": {},
   "outputs": [],
   "source": [
    "acc = products_history.history['accuracy']\n",
    "val_acc = products_history.history['val_accuracy']\n",
    "\n",
    "loss = products_history.history['loss']\n",
    "val_loss = products_history.history['val_loss']\n",
    "\n",
    "epochs_range = range(len(acc))\n",
    "\n",
    "plt.figure(figsize=(12, 8))\n",
    "plt.subplot(2, 1, 1)\n",
    "plt.plot(epochs_range, acc, label='Training Accuracy')\n",
    "plt.plot(epochs_range, val_acc, label='Validation Accuracy')\n",
    "plt.legend(loc='lower right')\n",
    "plt.title('Training and Validation Accuracy')\n",
    "\n",
    "plt.subplot(2, 1, 2)\n",
    "plt.plot(epochs_range, loss, label='Training Loss')\n",
    "plt.plot(epochs_range, val_loss, label='Validation Loss')\n",
    "plt.legend(loc='upper right')\n",
    "plt.title('Training and Validation Loss')\n",
    "\n",
    "plt.show()"
   ]
  },
  {
   "cell_type": "markdown",
   "id": "1a1dcfcc",
   "metadata": {},
   "source": [
    "### Testing Beauty >> Products Classifier"
   ]
  },
  {
   "cell_type": "code",
   "execution_count": null,
   "id": "7cab76d5",
   "metadata": {},
   "outputs": [],
   "source": [
    "test_image_products_folder_base = test_image_folder_base + 'Products/'"
   ]
  },
  {
   "cell_type": "code",
   "execution_count": null,
   "id": "db73996b",
   "metadata": {},
   "outputs": [],
   "source": [
    "products_test_images = tf.keras.preprocessing.image_dataset_from_directory(\n",
    "    test_image_products_folder_base,\n",
    "    labels='inferred',\n",
    "    label_mode='int',\n",
    "    class_names=['products', 'not_products'],\n",
    "    color_mode='rgb',\n",
    "    batch_size=34,\n",
    "    image_size=(image_height, image_width),\n",
    "    shuffle=True,\n",
    "    seed=42,\n",
    "    validation_split=None,\n",
    "    subset=None\n",
    ")"
   ]
  },
  {
   "cell_type": "code",
   "execution_count": null,
   "id": "0196148c",
   "metadata": {},
   "outputs": [],
   "source": [
    "products_predictions = products_model.predict(products_test_images)\n",
    "print(products_predictions)"
   ]
  },
  {
   "cell_type": "code",
   "execution_count": null,
   "id": "41932ca0",
   "metadata": {},
   "outputs": [],
   "source": [
    "plt.figure(figsize=(16, 18))\n",
    "for images, labels in products_test_images.take(1):\n",
    "    for i in range(len(images)):\n",
    "        products_prediction = products_model.predict(tf.reshape(images[i], [-1, 50, 50, 3]))\n",
    "        ax = plt.subplot(9, 4, i + 1)\n",
    "        plt.imshow(images[i].numpy().astype(\"uint8\"))\n",
    "        products_label = 'not_products' if products_prediction[0][0] > 0.5 else 'products'\n",
    "        image_title = products_test_images.class_names[labels[i]]+' >> '+products_label+' ('+str(round(products_prediction[0][0], 2))+')'\n",
    "        plt.title(image_title)\n",
    "        plt.axis(\"off\")"
   ]
  },
  {
   "cell_type": "code",
   "execution_count": null,
   "id": "003917a6",
   "metadata": {},
   "outputs": [],
   "source": []
  }
 ],
 "metadata": {
  "kernelspec": {
   "display_name": "Python 3",
   "language": "python",
   "name": "python3"
  },
  "language_info": {
   "codemirror_mode": {
    "name": "ipython",
    "version": 3
   },
   "file_extension": ".py",
   "mimetype": "text/x-python",
   "name": "python",
   "nbconvert_exporter": "python",
   "pygments_lexer": "ipython3",
   "version": "3.8.3"
  }
 },
 "nbformat": 4,
 "nbformat_minor": 5
}
