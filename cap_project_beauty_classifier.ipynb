{
 "cells": [
  {
   "cell_type": "code",
   "execution_count": 1,
   "id": "8ac5fe92",
   "metadata": {},
   "outputs": [],
   "source": [
    "import cv2\n",
    "import os\n",
    "import matplotlib.pyplot as plt\n",
    "import pandas as pd\n",
    "import random\n",
    "import shutil"
   ]
  },
  {
   "cell_type": "code",
   "execution_count": 2,
   "id": "6604fa29",
   "metadata": {},
   "outputs": [],
   "source": [
    "influencers_data = '/Users/mshayganfar/sb_capstone/data/influencers.csv'"
   ]
  },
  {
   "cell_type": "code",
   "execution_count": 3,
   "id": "f344fe67",
   "metadata": {},
   "outputs": [],
   "source": [
    "df_influencers = pd.read_csv(influencers_data)"
   ]
  },
  {
   "cell_type": "code",
   "execution_count": 5,
   "id": "de5cecf6",
   "metadata": {},
   "outputs": [
    {
     "data": {
      "text/html": [
       "<div>\n",
       "<style scoped>\n",
       "    .dataframe tbody tr th:only-of-type {\n",
       "        vertical-align: middle;\n",
       "    }\n",
       "\n",
       "    .dataframe tbody tr th {\n",
       "        vertical-align: top;\n",
       "    }\n",
       "\n",
       "    .dataframe thead th {\n",
       "        text-align: right;\n",
       "    }\n",
       "</style>\n",
       "<table border=\"1\" class=\"dataframe\">\n",
       "  <thead>\n",
       "    <tr style=\"text-align: right;\">\n",
       "      <th></th>\n",
       "      <th>username</th>\n",
       "      <th>category</th>\n",
       "      <th>num_followers</th>\n",
       "      <th>num_followees</th>\n",
       "      <th>num_posts</th>\n",
       "    </tr>\n",
       "  </thead>\n",
       "  <tbody>\n",
       "    <tr>\n",
       "      <th>0</th>\n",
       "      <td>makeupbynvs</td>\n",
       "      <td>beauty</td>\n",
       "      <td>1432.0</td>\n",
       "      <td>1089.0</td>\n",
       "      <td>363.0</td>\n",
       "    </tr>\n",
       "    <tr>\n",
       "      <th>1</th>\n",
       "      <td>jaquelinevandoski</td>\n",
       "      <td>beauty</td>\n",
       "      <td>137600.0</td>\n",
       "      <td>548.0</td>\n",
       "      <td>569.0</td>\n",
       "    </tr>\n",
       "    <tr>\n",
       "      <th>2</th>\n",
       "      <td>anisaartistry</td>\n",
       "      <td>beauty</td>\n",
       "      <td>64644.0</td>\n",
       "      <td>289.0</td>\n",
       "      <td>391.0</td>\n",
       "    </tr>\n",
       "    <tr>\n",
       "      <th>3</th>\n",
       "      <td>rubina_muartistry</td>\n",
       "      <td>beauty</td>\n",
       "      <td>496406.0</td>\n",
       "      <td>742.0</td>\n",
       "      <td>887.0</td>\n",
       "    </tr>\n",
       "    <tr>\n",
       "      <th>4</th>\n",
       "      <td>beautyxabbi</td>\n",
       "      <td>beauty</td>\n",
       "      <td>2050.0</td>\n",
       "      <td>1423.0</td>\n",
       "      <td>751.0</td>\n",
       "    </tr>\n",
       "  </tbody>\n",
       "</table>\n",
       "</div>"
      ],
      "text/plain": [
       "            username category  num_followers  num_followees  num_posts\n",
       "0        makeupbynvs   beauty         1432.0         1089.0      363.0\n",
       "1  jaquelinevandoski   beauty       137600.0          548.0      569.0\n",
       "2      anisaartistry   beauty        64644.0          289.0      391.0\n",
       "3  rubina_muartistry   beauty       496406.0          742.0      887.0\n",
       "4        beautyxabbi   beauty         2050.0         1423.0      751.0"
      ]
     },
     "execution_count": 5,
     "metadata": {},
     "output_type": "execute_result"
    }
   ],
   "source": [
    "df_influencers.head()"
   ]
  },
  {
   "cell_type": "code",
   "execution_count": 6,
   "id": "6426aa84",
   "metadata": {},
   "outputs": [
    {
     "name": "stdout",
     "output_type": "stream",
     "text": [
      "Beauty influencers count: 1541\n"
     ]
    }
   ],
   "source": [
    "beauty_influencers_count = df_influencers[df_influencers['category'] == 'beauty'].username.count()\n",
    "\n",
    "print(f\"Beauty influencers count: {beauty_influencers_count}\")"
   ]
  },
  {
   "cell_type": "code",
   "execution_count": 7,
   "id": "46efb48e",
   "metadata": {},
   "outputs": [],
   "source": [
    "NUM_OF_INFLUENCERS = 10\n",
    "NUM_OF_FILES_PER_INFLUENCER = 5"
   ]
  },
  {
   "cell_type": "code",
   "execution_count": 29,
   "id": "1d590639",
   "metadata": {},
   "outputs": [],
   "source": [
    "src_image_folders_base     = '/Users/mshayganfar/Mahni_Folder/Mahni/Influencers/images/'\n",
    "dst_image_folders_base     = '/Users/mshayganfar/Mahni_Folder/Mahni/Influencers/Beauty/subset_images/'\n",
    "resized_image_folders_base = '/Users/mshayganfar/Mahni_Folder/Mahni/Influencers/Beauty/resized_images/'\n",
    "image_classes_folder_base = '/Users/mshayganfar/Mahni_Folder/Mahni/Influencers/Beauty/Classes/'"
   ]
  },
  {
   "cell_type": "markdown",
   "id": "e01391fa",
   "metadata": {},
   "source": [
    "### Image Preparation"
   ]
  },
  {
   "cell_type": "code",
   "execution_count": 9,
   "id": "94382d1e",
   "metadata": {},
   "outputs": [],
   "source": [
    "def load_image(image_path, image_name):\n",
    "    image = cv2.imread(os.path.join(image_path, image_name))\n",
    "    # print(os.path.join(image_path, image_name))\n",
    "    return image"
   ]
  },
  {
   "cell_type": "code",
   "execution_count": 10,
   "id": "a522512d",
   "metadata": {},
   "outputs": [],
   "source": [
    "def resize_image(src_image, width, height):\n",
    "    # print('Original Image Dimensions: ', src_image.shape)\n",
    "    \n",
    "    dim = (width, height)\n",
    "    \n",
    "    # resize image\n",
    "    resized_image = cv2.resize(src_image, dim, interpolation=cv2.INTER_AREA)\n",
    "    \n",
    "    # print('Resized Image Dimensions : ', resized_image.shape)\n",
    "    \n",
    "    return resized_image"
   ]
  },
  {
   "cell_type": "code",
   "execution_count": 11,
   "id": "8968b5d6",
   "metadata": {},
   "outputs": [],
   "source": [
    "def save_image(image_path, image_name, image):\n",
    "    cv2.imwrite(os.path.join(image_path , image_name), image)"
   ]
  },
  {
   "cell_type": "code",
   "execution_count": 12,
   "id": "6ef853b2",
   "metadata": {},
   "outputs": [],
   "source": [
    "# Resizing and saving subsampled images into a new folder\n",
    "\n",
    "def save_resized_images(dst_image_folder, resized_image_folder):\n",
    "    \n",
    "    filenames = os.listdir(dst_image_folder + '.')\n",
    "    \n",
    "    for filename in filenames:\n",
    "        if filename[-3:] == 'jpg':\n",
    "            loaded_image  = load_image(dst_image_folder, filename)\n",
    "            resized_image = resize_image(loaded_image, 50, 50)\n",
    "            save_image(resized_image_folder, 'small_' + filename, resized_image)"
   ]
  },
  {
   "cell_type": "markdown",
   "id": "bb371e3d",
   "metadata": {},
   "source": [
    "### Get Subset of Influencers' Images"
   ]
  },
  {
   "cell_type": "code",
   "execution_count": 13,
   "id": "52de8a2a",
   "metadata": {},
   "outputs": [],
   "source": [
    "# Randomly picking N usernames\n",
    "\n",
    "def get_random_usernames(df, influencers_count, num_of_influencers, verbose):\n",
    "    username_list = []\n",
    "\n",
    "    random.seed(888)\n",
    "    random_numbers = random.sample(range(0, influencers_count-1), num_of_influencers)\n",
    "\n",
    "    for row_index in random_numbers:\n",
    "        username_list.append(df.iloc[row_index].username)\n",
    "\n",
    "    if verbose:\n",
    "        print(username_list)\n",
    "    \n",
    "    return username_list"
   ]
  },
  {
   "cell_type": "code",
   "execution_count": 14,
   "id": "8d271ac2",
   "metadata": {},
   "outputs": [],
   "source": [
    "# Extracting image file names\n",
    "\n",
    "def extract_image_file_names(username_list, src_image_folder):\n",
    "\n",
    "    filenames_list = []\n",
    "\n",
    "    for username in username_list:\n",
    "        first_char = username[0]\n",
    "        if first_char.isalpha() == False:\n",
    "            first_char = '_'\n",
    "        # check if file exist in destination\n",
    "        if os.path.exists(src_image_folder + first_char):\n",
    "            specific_folder = src_image_folder + first_char + '/'\n",
    "            filenames = [filename for filename in os.listdir(specific_folder + '.') if filename.startswith(username)]\n",
    "            filenames_list.append(filenames)\n",
    "        else:\n",
    "            print(f\"Folder {first_char} doesn't exist!\")\n",
    "            \n",
    "    return filenames_list"
   ]
  },
  {
   "cell_type": "code",
   "execution_count": 15,
   "id": "909ebedf",
   "metadata": {},
   "outputs": [],
   "source": [
    "# Subsampling image files for all of the influencers\n",
    "\n",
    "def get_influencers_random_subsampled_files(filenames_list, num_of_files_per_influencer):\n",
    "    \n",
    "    subsampled_filename_list = []\n",
    "\n",
    "    random.seed(888)\n",
    "\n",
    "    for i in range(0, len(filenames_list)):\n",
    "        influencer_image_filenames = []\n",
    "        random_numbers = random.sample(range(0, len(filenames_list[i])-1), num_of_files_per_influencer)\n",
    "\n",
    "        for file_index in random_numbers:\n",
    "            influencer_image_filenames.append(filenames_list[i][file_index])\n",
    "\n",
    "        subsampled_filename_list.append(influencer_image_filenames)\n",
    "        \n",
    "    return subsampled_filename_list"
   ]
  },
  {
   "cell_type": "code",
   "execution_count": 16,
   "id": "587065e9",
   "metadata": {},
   "outputs": [],
   "source": [
    "# Copying the subsampled files into the destination folder\n",
    "\n",
    "def copy_influencers_files(subsampled_filenames, src_folder_base, dst_folder_base):\n",
    "\n",
    "    for i in range(0, len(subsampled_filenames)):\n",
    "        for j in range(0, len(subsampled_filenames[i])):\n",
    "            filename = subsampled_filenames[i][j]\n",
    "            first_char = filename[0]\n",
    "            if first_char.isalpha() == False:\n",
    "                first_char = '_'\n",
    "            # check if file exist in destination\n",
    "            if os.path.exists(src_folder_base + first_char):\n",
    "                specific_src_folder = src_folder_base + first_char + '/'\n",
    "                shutil.copy(specific_src_folder + filename, dst_folder_base + filename)\n",
    "            else:\n",
    "                print(f\"Folder {first_char} doesn't exist!\")"
   ]
  },
  {
   "cell_type": "code",
   "execution_count": 17,
   "id": "09a534c0",
   "metadata": {},
   "outputs": [
    {
     "name": "stdout",
     "output_type": "stream",
     "text": [
      "['_bubsbee', 'beautywithsonia_', 'woduwillst.de', 'theurbanbeauty', 'helenedesmettre_', 'xthuyle', 'danielmartin', 'theladeedanger', 'teodora33_', 'bambivstheworld']\n"
     ]
    }
   ],
   "source": [
    "usernames = get_random_usernames(df_influencers, beauty_influencers_count, NUM_OF_INFLUENCERS, True)"
   ]
  },
  {
   "cell_type": "code",
   "execution_count": 18,
   "id": "c367c4e2",
   "metadata": {},
   "outputs": [],
   "source": [
    "filenames = extract_image_file_names(usernames, src_image_folders_base)"
   ]
  },
  {
   "cell_type": "code",
   "execution_count": 19,
   "id": "4d00040e",
   "metadata": {},
   "outputs": [],
   "source": [
    "influencers_subsampled_filenames = get_influencers_random_subsampled_files(filenames, NUM_OF_FILES_PER_INFLUENCER)"
   ]
  },
  {
   "cell_type": "code",
   "execution_count": 20,
   "id": "11bdfad9",
   "metadata": {},
   "outputs": [],
   "source": [
    "copy_influencers_files(influencers_subsampled_filenames, src_image_folders_base, dst_image_folders_base)"
   ]
  },
  {
   "cell_type": "code",
   "execution_count": 21,
   "id": "02f28607",
   "metadata": {},
   "outputs": [],
   "source": [
    "save_resized_images(dst_image_folders_base, resized_image_folders_base)"
   ]
  },
  {
   "cell_type": "markdown",
   "id": "c5e36824",
   "metadata": {},
   "source": [
    "### Get Specific Influencer's Images"
   ]
  },
  {
   "cell_type": "code",
   "execution_count": 22,
   "id": "70676bde",
   "metadata": {},
   "outputs": [],
   "source": [
    "# Reading N files of a specific influencer\n",
    "\n",
    "def get_influencer_files(image_folder, username):\n",
    "\n",
    "    first_char = username[0]\n",
    "    if first_char.isalpha() == False:\n",
    "        first_char = '_'\n",
    "    # check if file exist in destination\n",
    "    if os.path.exists(image_folder + first_char):\n",
    "        specific_folder = image_folder + first_char + '/'\n",
    "        filenames = [filename for filename in os.listdir(specific_folder + '.') if filename.startswith(username)]\n",
    "    else:\n",
    "        print(f\"Folder {first_char} doesn't exist!\")\n",
    "\n",
    "    return filenames"
   ]
  },
  {
   "cell_type": "code",
   "execution_count": 23,
   "id": "be6e462c",
   "metadata": {},
   "outputs": [],
   "source": [
    "# Subsampling image files\n",
    "\n",
    "def get_influencr_random_subsampled_files(filenames, number_of_files):\n",
    "    \n",
    "    subsampled_filename_list = []\n",
    "\n",
    "    random.seed(789)\n",
    "\n",
    "    random_numbers = random.sample(range(0, len(filenames)-1), number_of_files)\n",
    "    \n",
    "    for file_index in random_numbers:\n",
    "        subsampled_filename_list.append(filenames[file_index])\n",
    "        \n",
    "    return subsampled_filename_list"
   ]
  },
  {
   "cell_type": "code",
   "execution_count": 24,
   "id": "c0bfb231",
   "metadata": {},
   "outputs": [],
   "source": [
    "# Copying the subsampled files into the destination folder\n",
    "\n",
    "def copy_influencer_files(filenames, src_folder_base, dst_folder_base):\n",
    "    \n",
    "    for i in range(0, len(filenames)):\n",
    "        filename = filenames[i]\n",
    "        first_char = filename[0]\n",
    "        if first_char.isalpha() == False:\n",
    "            first_char = '_'\n",
    "        # check if file exist in destination\n",
    "        if os.path.exists(src_folder_base + first_char):\n",
    "            specific_src_folder = src_folder_base + first_char + '/'\n",
    "            shutil.copy(specific_src_folder + filename, dst_image_folders_base + filename)\n",
    "        else:\n",
    "            print(f\"Folder {first_char} doesn't exist!\")"
   ]
  },
  {
   "cell_type": "code",
   "execution_count": 25,
   "id": "60c91481",
   "metadata": {},
   "outputs": [],
   "source": [
    "influencer_filenames = get_influencer_files(src_image_folders_base, 'zodieac')"
   ]
  },
  {
   "cell_type": "code",
   "execution_count": 26,
   "id": "dafa8502",
   "metadata": {},
   "outputs": [],
   "source": [
    "influencer_subsampled_filenames = get_influencr_random_subsampled_files(influencer_filenames, 150)"
   ]
  },
  {
   "cell_type": "code",
   "execution_count": 27,
   "id": "a0c0f528",
   "metadata": {},
   "outputs": [],
   "source": [
    "copy_influencer_files(influencer_subsampled_filenames, src_image_folders_base, dst_image_folders_base)"
   ]
  },
  {
   "cell_type": "code",
   "execution_count": 28,
   "id": "a2040787",
   "metadata": {},
   "outputs": [],
   "source": [
    "save_resized_images(dst_image_folders_base, resized_image_folders_base)"
   ]
  },
  {
   "cell_type": "markdown",
   "id": "58ff630e",
   "metadata": {},
   "source": [
    "### Other Categories Image Preparation"
   ]
  },
  {
   "cell_type": "code",
   "execution_count": 37,
   "id": "161a205f",
   "metadata": {},
   "outputs": [],
   "source": [
    "beauty_images_individual_models_base = '/Users/mshayganfar/Mahni_Folder/Mahni/Influencers/Beauty/Classes/'"
   ]
  },
  {
   "cell_type": "code",
   "execution_count": 35,
   "id": "3ab57b14",
   "metadata": {},
   "outputs": [],
   "source": [
    "sampled_filenames_dict = {'eye':[], 'face':[], 'hair':[], 'lips':[], 'nail':[], 'products':[]}"
   ]
  },
  {
   "cell_type": "code",
   "execution_count": 38,
   "id": "11a3a621",
   "metadata": {},
   "outputs": [
    {
     "name": "stdout",
     "output_type": "stream",
     "text": [
      "Category eye is done.\n",
      "Category face is done.\n",
      "Category hair is done.\n",
      "Category lips is done.\n",
      "Category nail is done.\n",
      "Category products is done.\n"
     ]
    }
   ],
   "source": [
    "# Reading image file names\n",
    "\n",
    "for category in list(sampled_filenames_dict.keys()):\n",
    "    # check if file exists in destination\n",
    "    specific_folder = beauty_images_individual_models_base + category.capitalize() + '/' + category + '/'\n",
    "    filenames = [filename for filename in os.listdir(specific_folder + '.') if filename.endswith('.jpg')]\n",
    "    sampled_filenames_dict[category] = filenames\n",
    "\n",
    "    print(f\"Category {category} is done.\")"
   ]
  },
  {
   "cell_type": "code",
   "execution_count": 40,
   "id": "4c1010eb",
   "metadata": {},
   "outputs": [
    {
     "name": "stdout",
     "output_type": "stream",
     "text": [
      "Category eye is done.\n",
      "Category face is done.\n",
      "Category hair is done.\n",
      "Category lips is done.\n",
      "Category nail is done.\n",
      "Category products is done.\n"
     ]
    }
   ],
   "source": [
    "# Copying files from other categories into the \"not_<category>\" folders\n",
    "\n",
    "for category in sampled_filenames_dict:\n",
    "    number_of_files = len(sampled_filenames_dict[category])\n",
    "    number_of_files_per_category = number_of_files//5\n",
    "    for other_category in list(sampled_filenames_dict.keys()):\n",
    "        if other_category != category:\n",
    "            number_of_files_in_other_category = len(sampled_filenames_dict[other_category])\n",
    "            random_numbers = random.sample(range(0, number_of_files_in_other_category-1), number_of_files_per_category)\n",
    "            for file_index in random_numbers:\n",
    "                filename = sampled_filenames_dict[other_category][file_index]\n",
    "                src_folder = beauty_images_individual_models_base + other_category.capitalize() + '/' + other_category + '/'\n",
    "                dst_folder = beauty_images_individual_models_base + category.capitalize() + '/not_' + category + '/'\n",
    "                if os.path.exists(src_folder + filename):\n",
    "                    shutil.copy(src_folder + filename, dst_folder + filename)\n",
    "                else:\n",
    "                    print(f\"File {filename} doesn't exist in this {src_folder}!\")\n",
    "    print(f\"Category {category} is done.\")"
   ]
  },
  {
   "cell_type": "markdown",
   "id": "6f260fd1",
   "metadata": {},
   "source": [
    "### Beauty >> Eye Model"
   ]
  },
  {
   "cell_type": "code",
   "execution_count": 49,
   "id": "0129c0ea",
   "metadata": {},
   "outputs": [],
   "source": [
    "import tensorflow as tf\n",
    "\n",
    "from tensorflow.keras import regularizers\n",
    "from tensorflow.keras.callbacks import EarlyStopping\n",
    "from tensorflow.keras.layers import Dense, Conv2D, MaxPool2D, Flatten, Dropout\n",
    "from tensorflow.keras.models import Sequential\n",
    "from tensorflow.keras.preprocessing.image import ImageDataGenerator"
   ]
  },
  {
   "cell_type": "code",
   "execution_count": null,
   "id": "1851b335",
   "metadata": {},
   "outputs": [],
   "source": [
    "['eye', 'face', 'hair', 'lips', 'nail', 'products']"
   ]
  },
  {
   "cell_type": "code",
   "execution_count": 42,
   "id": "370d464d",
   "metadata": {},
   "outputs": [],
   "source": [
    "batch_size   = 32\n",
    "image_height = 50\n",
    "image_width  = 50"
   ]
  },
  {
   "cell_type": "code",
   "execution_count": 45,
   "id": "68b7514c",
   "metadata": {},
   "outputs": [],
   "source": [
    "eye_images = beauty_images_individual_models_base + 'Eye/'"
   ]
  },
  {
   "cell_type": "code",
   "execution_count": 56,
   "id": "587e20be",
   "metadata": {},
   "outputs": [
    {
     "name": "stdout",
     "output_type": "stream",
     "text": [
      "Found 631 files belonging to 2 classes.\n",
      "Using 537 files for training.\n"
     ]
    }
   ],
   "source": [
    "eye_train_images = tf.keras.preprocessing.image_dataset_from_directory(\n",
    "    eye_images,\n",
    "    labels='inferred',\n",
    "    label_mode='int',\n",
    "    class_names=['eye', 'not_eye'],\n",
    "    color_mode='rgb',\n",
    "    batch_size=batch_size,\n",
    "    image_size=(image_height, image_width),\n",
    "    shuffle=True,\n",
    "    seed=42,\n",
    "    validation_split=0.15,\n",
    "    subset=\"training\"\n",
    ")"
   ]
  },
  {
   "cell_type": "code",
   "execution_count": 57,
   "id": "93da2da6",
   "metadata": {},
   "outputs": [
    {
     "name": "stdout",
     "output_type": "stream",
     "text": [
      "Found 631 files belonging to 2 classes.\n",
      "Using 94 files for validation.\n"
     ]
    }
   ],
   "source": [
    "eye_validation_images = tf.keras.preprocessing.image_dataset_from_directory(\n",
    "    eye_images,\n",
    "    labels='inferred',\n",
    "    label_mode='int',\n",
    "    class_names=['eye', 'not_eye'],\n",
    "    color_mode='rgb',\n",
    "    batch_size=batch_size,\n",
    "    image_size=(image_height, image_width),\n",
    "    shuffle=True,\n",
    "    seed=42,\n",
    "    validation_split=0.15,\n",
    "    subset=\"validation\"\n",
    ")"
   ]
  },
  {
   "cell_type": "code",
   "execution_count": 58,
   "id": "58035ef6",
   "metadata": {},
   "outputs": [],
   "source": [
    "eye_model = Sequential()\n",
    "\n",
    "# CONVOLUTIONAL LAYER\n",
    "eye_model.add(Conv2D(filters=32,\n",
    "                     kernel_regularizer=regularizers.l1_l2(l1=0.001, l2=0.001),\n",
    "                     kernel_size=(3, 3), \n",
    "                     input_shape=(50, 50, 3), \n",
    "                     activation='relu'))\n",
    "\n",
    "# POOLING LAYER\n",
    "eye_model.add(MaxPool2D(pool_size=(2, 2)))\n",
    "\n",
    "# CONVOLUTIONAL LAYER\n",
    "eye_model.add(Conv2D(filters=64,\n",
    "                     kernel_regularizer=regularizers.l1_l2(l1=0.001, l2=0.001),\n",
    "                     kernel_size=(3, 3), \n",
    "                     activation='relu'))\n",
    "\n",
    "# POOLING LAYER & DROPOUT\n",
    "eye_model.add(MaxPool2D(pool_size=(2, 2)))\n",
    "eye_model.add(Dropout(0.5))\n",
    "\n",
    "# CONVOLUTIONAL LAYER\n",
    "eye_model.add(Conv2D(filters=64, \n",
    "                     kernel_regularizer=regularizers.l1_l2(l1=0.001, l2=0.001),\n",
    "                     kernel_size=(3, 3), \n",
    "                     activation='relu'))\n",
    "\n",
    "# POOLING LAYER & DROPOUT\n",
    "eye_model.add(MaxPool2D(pool_size=(2, 2)))\n",
    "eye_model.add(Dropout(0.5))\n",
    "\n",
    "# FLATTEN IMAGES FROM 50 by 50 to 2500 BEFORE FINAL LAYER\n",
    "eye_model.add(Flatten(input_shape=(50, 50, 3)))\n",
    "\n",
    "# 128 NEURONS IN DENSE HIDDEN LAYER\n",
    "eye_model.add(Dense(128, \n",
    "                    kernel_regularizer=regularizers.l1_l2(l1=0.001, l2=0.001), \n",
    "                    activation='relu'))\n",
    "eye_model.add(Dropout(0.5))\n",
    "\n",
    "# 64 NEURONS IN DENSE HIDDEN LAYER\n",
    "eye_model.add(Dense(64, \n",
    "                    kernel_regularizer=regularizers.l1_l2(l1=0.001, l2=0.001), \n",
    "                    activation='relu'))\n",
    "eye_model.add(Dropout(0.5))\n",
    "\n",
    "# LAST LAYER IS THE CLASSIFIER, THUS 8 POSSIBLE CLASSES\n",
    "eye_model.add(Dense(1, activation='sigmoid'))"
   ]
  },
  {
   "cell_type": "code",
   "execution_count": 59,
   "id": "44c1d654",
   "metadata": {},
   "outputs": [
    {
     "name": "stdout",
     "output_type": "stream",
     "text": [
      "Model: \"sequential_1\"\n",
      "_________________________________________________________________\n",
      " Layer (type)                Output Shape              Param #   \n",
      "=================================================================\n",
      " conv2d_3 (Conv2D)           (None, 48, 48, 32)        896       \n",
      "                                                                 \n",
      " max_pooling2d_3 (MaxPooling  (None, 24, 24, 32)       0         \n",
      " 2D)                                                             \n",
      "                                                                 \n",
      " conv2d_4 (Conv2D)           (None, 22, 22, 64)        18496     \n",
      "                                                                 \n",
      " max_pooling2d_4 (MaxPooling  (None, 11, 11, 64)       0         \n",
      " 2D)                                                             \n",
      "                                                                 \n",
      " dropout_4 (Dropout)         (None, 11, 11, 64)        0         \n",
      "                                                                 \n",
      " conv2d_5 (Conv2D)           (None, 9, 9, 64)          36928     \n",
      "                                                                 \n",
      " max_pooling2d_5 (MaxPooling  (None, 4, 4, 64)         0         \n",
      " 2D)                                                             \n",
      "                                                                 \n",
      " dropout_5 (Dropout)         (None, 4, 4, 64)          0         \n",
      "                                                                 \n",
      " flatten_1 (Flatten)         (None, 1024)              0         \n",
      "                                                                 \n",
      " dense_3 (Dense)             (None, 128)               131200    \n",
      "                                                                 \n",
      " dropout_6 (Dropout)         (None, 128)               0         \n",
      "                                                                 \n",
      " dense_4 (Dense)             (None, 64)                8256      \n",
      "                                                                 \n",
      " dropout_7 (Dropout)         (None, 64)                0         \n",
      "                                                                 \n",
      " dense_5 (Dense)             (None, 1)                 65        \n",
      "                                                                 \n",
      "=================================================================\n",
      "Total params: 195,841\n",
      "Trainable params: 195,841\n",
      "Non-trainable params: 0\n",
      "_________________________________________________________________\n"
     ]
    }
   ],
   "source": [
    "eye_model.summary()"
   ]
  },
  {
   "cell_type": "code",
   "execution_count": 60,
   "id": "44ea25c3",
   "metadata": {},
   "outputs": [],
   "source": [
    "eye_model.compile(optimizer='adam',\n",
    "                  loss='binary_crossentropy',\n",
    "                  metrics=['accuracy'])"
   ]
  },
  {
   "cell_type": "code",
   "execution_count": 61,
   "id": "afcd4dcd",
   "metadata": {},
   "outputs": [],
   "source": [
    "early_stop = EarlyStopping(monitor='val_loss', patience=10)"
   ]
  },
  {
   "cell_type": "code",
   "execution_count": 62,
   "id": "289415b5",
   "metadata": {},
   "outputs": [
    {
     "name": "stdout",
     "output_type": "stream",
     "text": [
      "Epoch 1/200\n",
      "17/17 [==============================] - 2s 54ms/step - loss: 29.4072 - accuracy: 0.5214 - val_loss: 8.6579 - val_accuracy: 0.4043\n",
      "Epoch 2/200\n",
      "17/17 [==============================] - 1s 43ms/step - loss: 9.9426 - accuracy: 0.5642 - val_loss: 8.4869 - val_accuracy: 0.6064\n",
      "Epoch 3/200\n",
      "17/17 [==============================] - 1s 43ms/step - loss: 9.0223 - accuracy: 0.4953 - val_loss: 8.4119 - val_accuracy: 0.6170\n",
      "Epoch 4/200\n",
      "17/17 [==============================] - 1s 43ms/step - loss: 8.6399 - accuracy: 0.5363 - val_loss: 8.3376 - val_accuracy: 0.6915\n",
      "Epoch 5/200\n",
      "17/17 [==============================] - 1s 44ms/step - loss: 8.5126 - accuracy: 0.5158 - val_loss: 8.2756 - val_accuracy: 0.6383\n",
      "Epoch 6/200\n",
      "17/17 [==============================] - 1s 43ms/step - loss: 8.3511 - accuracy: 0.5140 - val_loss: 8.2131 - val_accuracy: 0.5851\n",
      "Epoch 7/200\n",
      "17/17 [==============================] - 1s 42ms/step - loss: 8.2529 - accuracy: 0.5326 - val_loss: 8.1469 - val_accuracy: 0.6170\n",
      "Epoch 8/200\n",
      "17/17 [==============================] - 1s 42ms/step - loss: 8.1791 - accuracy: 0.5233 - val_loss: 8.0783 - val_accuracy: 0.5851\n",
      "Epoch 9/200\n",
      "17/17 [==============================] - 1s 43ms/step - loss: 8.0922 - accuracy: 0.5456 - val_loss: 8.0050 - val_accuracy: 0.6596\n",
      "Epoch 10/200\n",
      "17/17 [==============================] - 1s 43ms/step - loss: 7.9796 - accuracy: 0.5587 - val_loss: 7.9218 - val_accuracy: 0.7766\n",
      "Epoch 11/200\n",
      "17/17 [==============================] - 1s 43ms/step - loss: 7.9196 - accuracy: 0.5475 - val_loss: 7.8469 - val_accuracy: 0.7872\n",
      "Epoch 12/200\n",
      "17/17 [==============================] - 1s 42ms/step - loss: 7.8486 - accuracy: 0.5717 - val_loss: 7.7735 - val_accuracy: 0.7660\n",
      "Epoch 13/200\n",
      "17/17 [==============================] - 1s 42ms/step - loss: 7.7549 - accuracy: 0.5866 - val_loss: 7.7021 - val_accuracy: 0.7766\n",
      "Epoch 14/200\n",
      "17/17 [==============================] - 1s 43ms/step - loss: 7.6815 - accuracy: 0.5996 - val_loss: 7.6054 - val_accuracy: 0.8298\n",
      "Epoch 15/200\n",
      "17/17 [==============================] - 1s 43ms/step - loss: 7.5880 - accuracy: 0.6387 - val_loss: 7.5071 - val_accuracy: 0.8511\n",
      "Epoch 16/200\n",
      "17/17 [==============================] - 1s 44ms/step - loss: 7.4966 - accuracy: 0.6685 - val_loss: 7.4411 - val_accuracy: 0.8191\n",
      "Epoch 17/200\n",
      "17/17 [==============================] - 1s 42ms/step - loss: 7.3485 - accuracy: 0.7207 - val_loss: 7.2963 - val_accuracy: 0.8511\n",
      "Epoch 18/200\n",
      "17/17 [==============================] - 1s 42ms/step - loss: 7.3038 - accuracy: 0.7207 - val_loss: 7.2267 - val_accuracy: 0.8404\n",
      "Epoch 19/200\n",
      "17/17 [==============================] - 1s 43ms/step - loss: 7.2205 - accuracy: 0.7542 - val_loss: 7.1297 - val_accuracy: 0.8298\n",
      "Epoch 20/200\n",
      "17/17 [==============================] - 1s 42ms/step - loss: 7.1201 - accuracy: 0.7821 - val_loss: 6.9794 - val_accuracy: 0.8404\n",
      "Epoch 21/200\n",
      "17/17 [==============================] - 1s 44ms/step - loss: 7.0769 - accuracy: 0.7672 - val_loss: 6.9421 - val_accuracy: 0.8298\n",
      "Epoch 22/200\n",
      "17/17 [==============================] - 1s 42ms/step - loss: 6.9658 - accuracy: 0.7952 - val_loss: 6.8482 - val_accuracy: 0.8404\n",
      "Epoch 23/200\n",
      "17/17 [==============================] - 1s 43ms/step - loss: 6.9057 - accuracy: 0.7728 - val_loss: 6.7295 - val_accuracy: 0.8511\n",
      "Epoch 24/200\n",
      "17/17 [==============================] - 1s 44ms/step - loss: 6.8046 - accuracy: 0.8063 - val_loss: 6.7455 - val_accuracy: 0.8298\n",
      "Epoch 25/200\n",
      "17/17 [==============================] - 1s 44ms/step - loss: 6.7171 - accuracy: 0.8082 - val_loss: 6.5788 - val_accuracy: 0.8723\n",
      "Epoch 26/200\n",
      "17/17 [==============================] - 1s 44ms/step - loss: 6.6387 - accuracy: 0.8268 - val_loss: 6.4919 - val_accuracy: 0.8511\n",
      "Epoch 27/200\n",
      "17/17 [==============================] - 1s 44ms/step - loss: 6.6214 - accuracy: 0.7784 - val_loss: 6.5152 - val_accuracy: 0.8511\n",
      "Epoch 28/200\n",
      "17/17 [==============================] - 1s 43ms/step - loss: 6.5718 - accuracy: 0.7654 - val_loss: 6.3910 - val_accuracy: 0.8830\n",
      "Epoch 29/200\n",
      "17/17 [==============================] - 1s 44ms/step - loss: 6.4715 - accuracy: 0.8250 - val_loss: 6.3162 - val_accuracy: 0.8511\n",
      "Epoch 30/200\n",
      "17/17 [==============================] - 1s 45ms/step - loss: 6.3288 - accuracy: 0.8380 - val_loss: 6.2007 - val_accuracy: 0.8936\n",
      "Epoch 31/200\n",
      "17/17 [==============================] - 1s 46ms/step - loss: 6.2670 - accuracy: 0.8305 - val_loss: 6.1232 - val_accuracy: 0.9043\n",
      "Epoch 32/200\n",
      "17/17 [==============================] - 1s 44ms/step - loss: 6.1811 - accuracy: 0.8417 - val_loss: 6.1073 - val_accuracy: 0.8617\n",
      "Epoch 33/200\n",
      "17/17 [==============================] - 1s 45ms/step - loss: 6.0920 - accuracy: 0.8659 - val_loss: 5.9592 - val_accuracy: 0.8936\n",
      "Epoch 34/200\n",
      "17/17 [==============================] - 1s 44ms/step - loss: 6.0747 - accuracy: 0.8380 - val_loss: 5.9714 - val_accuracy: 0.8830\n",
      "Epoch 35/200\n",
      "17/17 [==============================] - 1s 45ms/step - loss: 5.9828 - accuracy: 0.8715 - val_loss: 5.8811 - val_accuracy: 0.8936\n",
      "Epoch 36/200\n",
      "17/17 [==============================] - 1s 44ms/step - loss: 5.9095 - accuracy: 0.8529 - val_loss: 5.7794 - val_accuracy: 0.9043\n",
      "Epoch 37/200\n",
      "17/17 [==============================] - 1s 46ms/step - loss: 5.8188 - accuracy: 0.8939 - val_loss: 5.7119 - val_accuracy: 0.8936\n",
      "Epoch 38/200\n",
      "17/17 [==============================] - 1s 48ms/step - loss: 5.7860 - accuracy: 0.8883 - val_loss: 5.6713 - val_accuracy: 0.9043\n",
      "Epoch 39/200\n",
      "17/17 [==============================] - 1s 47ms/step - loss: 5.6711 - accuracy: 0.9069 - val_loss: 5.6071 - val_accuracy: 0.9043\n",
      "Epoch 40/200\n",
      "17/17 [==============================] - 1s 46ms/step - loss: 5.5978 - accuracy: 0.8920 - val_loss: 5.4988 - val_accuracy: 0.9149\n",
      "Epoch 41/200\n",
      "17/17 [==============================] - 1s 45ms/step - loss: 5.5298 - accuracy: 0.9106 - val_loss: 5.4579 - val_accuracy: 0.9149\n",
      "Epoch 42/200\n",
      "17/17 [==============================] - 1s 45ms/step - loss: 5.5003 - accuracy: 0.8994 - val_loss: 5.4275 - val_accuracy: 0.9149\n",
      "Epoch 43/200\n",
      "17/17 [==============================] - 1s 47ms/step - loss: 5.4225 - accuracy: 0.9125 - val_loss: 5.3043 - val_accuracy: 0.9255\n",
      "Epoch 44/200\n",
      "17/17 [==============================] - 1s 48ms/step - loss: 5.3387 - accuracy: 0.9069 - val_loss: 5.2964 - val_accuracy: 0.8936\n",
      "Epoch 45/200\n",
      "17/17 [==============================] - 1s 47ms/step - loss: 5.2522 - accuracy: 0.8994 - val_loss: 5.1713 - val_accuracy: 0.9255\n",
      "Epoch 46/200\n",
      "17/17 [==============================] - 1s 48ms/step - loss: 5.2570 - accuracy: 0.8957 - val_loss: 5.1737 - val_accuracy: 0.9255\n",
      "Epoch 47/200\n",
      "17/17 [==============================] - 1s 47ms/step - loss: 5.2009 - accuracy: 0.8957 - val_loss: 5.1262 - val_accuracy: 0.9149\n",
      "Epoch 48/200\n",
      "17/17 [==============================] - 1s 47ms/step - loss: 5.1558 - accuracy: 0.8845 - val_loss: 5.0362 - val_accuracy: 0.9255\n",
      "Epoch 49/200\n",
      "17/17 [==============================] - 1s 46ms/step - loss: 5.0788 - accuracy: 0.8827 - val_loss: 4.9642 - val_accuracy: 0.9362\n",
      "Epoch 50/200\n",
      "17/17 [==============================] - 1s 47ms/step - loss: 5.0156 - accuracy: 0.9181 - val_loss: 4.9248 - val_accuracy: 0.9362\n",
      "Epoch 51/200\n",
      "17/17 [==============================] - 1s 48ms/step - loss: 4.9236 - accuracy: 0.9236 - val_loss: 5.0003 - val_accuracy: 0.8617\n",
      "Epoch 52/200\n",
      "17/17 [==============================] - 1s 47ms/step - loss: 4.8820 - accuracy: 0.9106 - val_loss: 4.8224 - val_accuracy: 0.9149\n",
      "Epoch 53/200\n",
      "17/17 [==============================] - 1s 49ms/step - loss: 4.8121 - accuracy: 0.8901 - val_loss: 4.7439 - val_accuracy: 0.9362\n",
      "Epoch 54/200\n",
      "17/17 [==============================] - 1s 48ms/step - loss: 4.7368 - accuracy: 0.9199 - val_loss: 4.6620 - val_accuracy: 0.9468\n",
      "Epoch 55/200\n",
      "17/17 [==============================] - 1s 47ms/step - loss: 4.6952 - accuracy: 0.9181 - val_loss: 4.6546 - val_accuracy: 0.8830\n",
      "Epoch 56/200\n",
      "17/17 [==============================] - 1s 48ms/step - loss: 4.6755 - accuracy: 0.9218 - val_loss: 4.5608 - val_accuracy: 0.9255\n",
      "Epoch 57/200\n",
      "17/17 [==============================] - 1s 48ms/step - loss: 4.5846 - accuracy: 0.9218 - val_loss: 4.5126 - val_accuracy: 0.9255\n",
      "Epoch 58/200\n"
     ]
    },
    {
     "name": "stdout",
     "output_type": "stream",
     "text": [
      "17/17 [==============================] - 1s 46ms/step - loss: 4.5571 - accuracy: 0.9125 - val_loss: 4.4904 - val_accuracy: 0.8936\n",
      "Epoch 59/200\n",
      "17/17 [==============================] - 1s 44ms/step - loss: 4.4501 - accuracy: 0.9218 - val_loss: 4.4184 - val_accuracy: 0.8936\n",
      "Epoch 60/200\n",
      "17/17 [==============================] - 1s 46ms/step - loss: 4.4064 - accuracy: 0.9292 - val_loss: 4.4123 - val_accuracy: 0.8830\n",
      "Epoch 61/200\n",
      "17/17 [==============================] - 1s 46ms/step - loss: 4.3296 - accuracy: 0.9330 - val_loss: 4.3064 - val_accuracy: 0.9255\n",
      "Epoch 62/200\n",
      "17/17 [==============================] - 1s 46ms/step - loss: 4.2840 - accuracy: 0.9404 - val_loss: 4.2352 - val_accuracy: 0.9468\n",
      "Epoch 63/200\n",
      "17/17 [==============================] - 1s 45ms/step - loss: 4.2471 - accuracy: 0.9236 - val_loss: 4.1829 - val_accuracy: 0.9149\n",
      "Epoch 64/200\n",
      "17/17 [==============================] - 1s 47ms/step - loss: 4.1777 - accuracy: 0.9367 - val_loss: 4.1352 - val_accuracy: 0.9043\n",
      "Epoch 65/200\n",
      "17/17 [==============================] - 1s 47ms/step - loss: 4.1151 - accuracy: 0.9330 - val_loss: 4.1151 - val_accuracy: 0.9149\n",
      "Epoch 66/200\n",
      "17/17 [==============================] - 1s 47ms/step - loss: 4.0761 - accuracy: 0.9367 - val_loss: 4.0886 - val_accuracy: 0.9043\n",
      "Epoch 67/200\n",
      "17/17 [==============================] - 1s 47ms/step - loss: 4.0014 - accuracy: 0.9292 - val_loss: 4.0265 - val_accuracy: 0.9043\n",
      "Epoch 68/200\n",
      "17/17 [==============================] - 1s 46ms/step - loss: 3.9684 - accuracy: 0.9385 - val_loss: 3.9227 - val_accuracy: 0.9362\n",
      "Epoch 69/200\n",
      "17/17 [==============================] - 1s 48ms/step - loss: 3.8960 - accuracy: 0.9516 - val_loss: 3.8731 - val_accuracy: 0.9255\n",
      "Epoch 70/200\n",
      "17/17 [==============================] - 1s 48ms/step - loss: 3.8430 - accuracy: 0.9385 - val_loss: 3.8161 - val_accuracy: 0.9468\n",
      "Epoch 71/200\n",
      "17/17 [==============================] - 1s 48ms/step - loss: 3.7882 - accuracy: 0.9534 - val_loss: 3.7707 - val_accuracy: 0.9362\n",
      "Epoch 72/200\n",
      "17/17 [==============================] - 1s 47ms/step - loss: 3.7486 - accuracy: 0.9497 - val_loss: 3.7298 - val_accuracy: 0.9362\n",
      "Epoch 73/200\n",
      "17/17 [==============================] - 1s 45ms/step - loss: 3.6860 - accuracy: 0.9590 - val_loss: 3.6809 - val_accuracy: 0.9468\n",
      "Epoch 74/200\n",
      "17/17 [==============================] - 1s 46ms/step - loss: 3.6099 - accuracy: 0.9572 - val_loss: 3.6648 - val_accuracy: 0.9468\n",
      "Epoch 75/200\n",
      "17/17 [==============================] - 1s 46ms/step - loss: 3.5726 - accuracy: 0.9572 - val_loss: 3.6409 - val_accuracy: 0.9149\n",
      "Epoch 76/200\n",
      "17/17 [==============================] - 1s 48ms/step - loss: 3.5594 - accuracy: 0.9553 - val_loss: 3.6240 - val_accuracy: 0.9149\n",
      "Epoch 77/200\n",
      "17/17 [==============================] - 1s 47ms/step - loss: 3.5688 - accuracy: 0.9218 - val_loss: 3.6276 - val_accuracy: 0.9043\n",
      "Epoch 78/200\n",
      "17/17 [==============================] - 1s 47ms/step - loss: 3.5157 - accuracy: 0.9404 - val_loss: 3.5105 - val_accuracy: 0.9043\n",
      "Epoch 79/200\n",
      "17/17 [==============================] - 1s 47ms/step - loss: 3.4658 - accuracy: 0.9460 - val_loss: 3.4077 - val_accuracy: 0.9362\n",
      "Epoch 80/200\n",
      "17/17 [==============================] - 1s 46ms/step - loss: 3.3893 - accuracy: 0.9479 - val_loss: 3.3669 - val_accuracy: 0.9255\n",
      "Epoch 81/200\n",
      "17/17 [==============================] - 1s 48ms/step - loss: 3.3398 - accuracy: 0.9516 - val_loss: 3.3584 - val_accuracy: 0.9362\n",
      "Epoch 82/200\n",
      "17/17 [==============================] - 1s 48ms/step - loss: 3.2659 - accuracy: 0.9590 - val_loss: 3.2807 - val_accuracy: 0.9468\n",
      "Epoch 83/200\n",
      "17/17 [==============================] - 1s 48ms/step - loss: 3.2780 - accuracy: 0.9460 - val_loss: 3.2361 - val_accuracy: 0.9468\n",
      "Epoch 84/200\n",
      "17/17 [==============================] - 1s 48ms/step - loss: 3.2377 - accuracy: 0.9348 - val_loss: 3.2373 - val_accuracy: 0.9255\n",
      "Epoch 85/200\n",
      "17/17 [==============================] - 1s 46ms/step - loss: 3.1578 - accuracy: 0.9572 - val_loss: 3.2458 - val_accuracy: 0.9043\n",
      "Epoch 86/200\n",
      "17/17 [==============================] - 1s 49ms/step - loss: 3.1084 - accuracy: 0.9665 - val_loss: 3.1418 - val_accuracy: 0.9255\n",
      "Epoch 87/200\n",
      "17/17 [==============================] - 1s 48ms/step - loss: 3.0601 - accuracy: 0.9628 - val_loss: 3.0799 - val_accuracy: 0.9468\n",
      "Epoch 88/200\n",
      "17/17 [==============================] - 1s 49ms/step - loss: 3.0082 - accuracy: 0.9683 - val_loss: 3.0568 - val_accuracy: 0.9362\n",
      "Epoch 89/200\n",
      "17/17 [==============================] - 1s 47ms/step - loss: 2.9769 - accuracy: 0.9665 - val_loss: 3.0046 - val_accuracy: 0.9468\n",
      "Epoch 90/200\n",
      "17/17 [==============================] - 1s 46ms/step - loss: 2.9468 - accuracy: 0.9683 - val_loss: 2.9559 - val_accuracy: 0.9468\n",
      "Epoch 91/200\n",
      "17/17 [==============================] - 1s 47ms/step - loss: 2.8793 - accuracy: 0.9758 - val_loss: 2.9504 - val_accuracy: 0.9043\n",
      "Epoch 92/200\n",
      "17/17 [==============================] - 1s 46ms/step - loss: 2.8489 - accuracy: 0.9739 - val_loss: 3.0124 - val_accuracy: 0.8936\n",
      "Epoch 93/200\n",
      "17/17 [==============================] - 1s 46ms/step - loss: 2.8329 - accuracy: 0.9572 - val_loss: 2.8897 - val_accuracy: 0.9362\n",
      "Epoch 94/200\n",
      "17/17 [==============================] - 1s 47ms/step - loss: 2.7925 - accuracy: 0.9628 - val_loss: 2.8209 - val_accuracy: 0.9468\n",
      "Epoch 95/200\n",
      "17/17 [==============================] - 1s 45ms/step - loss: 2.7596 - accuracy: 0.9572 - val_loss: 2.7973 - val_accuracy: 0.9362\n",
      "Epoch 96/200\n",
      "17/17 [==============================] - 1s 48ms/step - loss: 2.7346 - accuracy: 0.9628 - val_loss: 2.7748 - val_accuracy: 0.9362\n",
      "Epoch 97/200\n",
      "17/17 [==============================] - 1s 46ms/step - loss: 2.7067 - accuracy: 0.9646 - val_loss: 2.7508 - val_accuracy: 0.9255\n",
      "Epoch 98/200\n",
      "17/17 [==============================] - 1s 48ms/step - loss: 2.6903 - accuracy: 0.9497 - val_loss: 2.7128 - val_accuracy: 0.9255\n",
      "Epoch 99/200\n",
      "17/17 [==============================] - 1s 46ms/step - loss: 2.6114 - accuracy: 0.9739 - val_loss: 2.6828 - val_accuracy: 0.9149\n",
      "Epoch 100/200\n",
      "17/17 [==============================] - 1s 47ms/step - loss: 2.5765 - accuracy: 0.9758 - val_loss: 2.6123 - val_accuracy: 0.9362\n",
      "Epoch 101/200\n",
      "17/17 [==============================] - 1s 47ms/step - loss: 2.5322 - accuracy: 0.9702 - val_loss: 2.5665 - val_accuracy: 0.9468\n",
      "Epoch 102/200\n",
      "17/17 [==============================] - 1s 45ms/step - loss: 2.5301 - accuracy: 0.9479 - val_loss: 2.5808 - val_accuracy: 0.9362\n",
      "Epoch 103/200\n",
      "17/17 [==============================] - 1s 45ms/step - loss: 2.5562 - accuracy: 0.9367 - val_loss: 2.5476 - val_accuracy: 0.9149\n",
      "Epoch 104/200\n",
      "17/17 [==============================] - 1s 45ms/step - loss: 2.4998 - accuracy: 0.9534 - val_loss: 2.5173 - val_accuracy: 0.9255\n",
      "Epoch 105/200\n",
      "17/17 [==============================] - 1s 46ms/step - loss: 2.4444 - accuracy: 0.9590 - val_loss: 2.4238 - val_accuracy: 0.9468\n",
      "Epoch 106/200\n",
      "17/17 [==============================] - 1s 46ms/step - loss: 2.3859 - accuracy: 0.9702 - val_loss: 2.4343 - val_accuracy: 0.9362\n",
      "Epoch 107/200\n",
      "17/17 [==============================] - 1s 47ms/step - loss: 2.3339 - accuracy: 0.9739 - val_loss: 2.3618 - val_accuracy: 0.9468\n",
      "Epoch 108/200\n",
      "17/17 [==============================] - 1s 45ms/step - loss: 2.2761 - accuracy: 0.9777 - val_loss: 2.3526 - val_accuracy: 0.9468\n",
      "Epoch 109/200\n",
      "17/17 [==============================] - 1s 46ms/step - loss: 2.2523 - accuracy: 0.9814 - val_loss: 2.3156 - val_accuracy: 0.9468\n",
      "Epoch 110/200\n",
      "17/17 [==============================] - 1s 46ms/step - loss: 2.1967 - accuracy: 0.9907 - val_loss: 2.3088 - val_accuracy: 0.9574\n",
      "Epoch 111/200\n",
      "17/17 [==============================] - 1s 45ms/step - loss: 2.2527 - accuracy: 0.9516 - val_loss: 2.3197 - val_accuracy: 0.9043\n",
      "Epoch 112/200\n",
      "17/17 [==============================] - 1s 46ms/step - loss: 2.2091 - accuracy: 0.9646 - val_loss: 2.2135 - val_accuracy: 0.9468\n",
      "Epoch 113/200\n",
      "17/17 [==============================] - 1s 48ms/step - loss: 2.1557 - accuracy: 0.9739 - val_loss: 2.2059 - val_accuracy: 0.9468\n",
      "Epoch 114/200\n",
      "17/17 [==============================] - 1s 47ms/step - loss: 2.1174 - accuracy: 0.9739 - val_loss: 2.1762 - val_accuracy: 0.9468\n",
      "Epoch 115/200\n"
     ]
    },
    {
     "name": "stdout",
     "output_type": "stream",
     "text": [
      "17/17 [==============================] - 1s 47ms/step - loss: 2.0642 - accuracy: 0.9814 - val_loss: 2.1415 - val_accuracy: 0.9574\n",
      "Epoch 116/200\n",
      "17/17 [==============================] - 1s 46ms/step - loss: 2.0564 - accuracy: 0.9758 - val_loss: 2.0992 - val_accuracy: 0.9574\n",
      "Epoch 117/200\n",
      "17/17 [==============================] - 1s 46ms/step - loss: 2.0016 - accuracy: 0.9870 - val_loss: 2.0549 - val_accuracy: 0.9362\n",
      "Epoch 118/200\n",
      "17/17 [==============================] - 1s 45ms/step - loss: 1.9731 - accuracy: 0.9832 - val_loss: 2.0950 - val_accuracy: 0.9255\n",
      "Epoch 119/200\n",
      "17/17 [==============================] - 1s 45ms/step - loss: 2.0505 - accuracy: 0.9497 - val_loss: 2.0292 - val_accuracy: 0.9362\n",
      "Epoch 120/200\n",
      "17/17 [==============================] - 1s 45ms/step - loss: 2.0048 - accuracy: 0.9572 - val_loss: 2.0190 - val_accuracy: 0.9362\n",
      "Epoch 121/200\n",
      "17/17 [==============================] - 1s 45ms/step - loss: 1.9655 - accuracy: 0.9646 - val_loss: 1.9844 - val_accuracy: 0.9574\n",
      "Epoch 122/200\n",
      "17/17 [==============================] - 1s 45ms/step - loss: 1.9140 - accuracy: 0.9795 - val_loss: 1.9326 - val_accuracy: 0.9468\n",
      "Epoch 123/200\n",
      "17/17 [==============================] - 1s 47ms/step - loss: 1.9008 - accuracy: 0.9758 - val_loss: 1.9098 - val_accuracy: 0.9468\n",
      "Epoch 124/200\n",
      "17/17 [==============================] - 1s 45ms/step - loss: 1.8458 - accuracy: 0.9758 - val_loss: 1.9213 - val_accuracy: 0.9362\n",
      "Epoch 125/200\n",
      "17/17 [==============================] - 1s 44ms/step - loss: 1.7942 - accuracy: 0.9814 - val_loss: 1.8872 - val_accuracy: 0.9255\n",
      "Epoch 126/200\n",
      "17/17 [==============================] - 1s 45ms/step - loss: 1.7989 - accuracy: 0.9795 - val_loss: 1.8510 - val_accuracy: 0.9681\n",
      "Epoch 127/200\n",
      "17/17 [==============================] - 1s 44ms/step - loss: 1.8437 - accuracy: 0.9516 - val_loss: 1.8387 - val_accuracy: 0.9574\n",
      "Epoch 128/200\n",
      "17/17 [==============================] - 1s 45ms/step - loss: 1.8003 - accuracy: 0.9665 - val_loss: 1.8987 - val_accuracy: 0.9043\n",
      "Epoch 129/200\n",
      "17/17 [==============================] - 1s 45ms/step - loss: 1.7414 - accuracy: 0.9795 - val_loss: 1.7565 - val_accuracy: 0.9681\n",
      "Epoch 130/200\n",
      "17/17 [==============================] - 1s 44ms/step - loss: 1.7096 - accuracy: 0.9721 - val_loss: 1.7531 - val_accuracy: 0.9574\n",
      "Epoch 131/200\n",
      "17/17 [==============================] - 1s 45ms/step - loss: 1.6846 - accuracy: 0.9721 - val_loss: 1.7325 - val_accuracy: 0.9681\n",
      "Epoch 132/200\n",
      "17/17 [==============================] - 1s 44ms/step - loss: 1.6500 - accuracy: 0.9758 - val_loss: 1.6712 - val_accuracy: 0.9574\n",
      "Epoch 133/200\n",
      "17/17 [==============================] - 1s 45ms/step - loss: 1.6645 - accuracy: 0.9739 - val_loss: 1.7028 - val_accuracy: 0.9574\n",
      "Epoch 134/200\n",
      "17/17 [==============================] - 1s 45ms/step - loss: 1.6097 - accuracy: 0.9888 - val_loss: 1.6761 - val_accuracy: 0.9468\n",
      "Epoch 135/200\n",
      "17/17 [==============================] - 1s 46ms/step - loss: 1.5617 - accuracy: 0.9870 - val_loss: 1.6599 - val_accuracy: 0.9362\n",
      "Epoch 136/200\n",
      "17/17 [==============================] - 1s 45ms/step - loss: 1.5625 - accuracy: 0.9795 - val_loss: 1.6206 - val_accuracy: 0.9362\n",
      "Epoch 137/200\n",
      "17/17 [==============================] - 1s 45ms/step - loss: 1.5257 - accuracy: 0.9832 - val_loss: 1.6038 - val_accuracy: 0.9681\n",
      "Epoch 138/200\n",
      "17/17 [==============================] - 1s 45ms/step - loss: 1.5089 - accuracy: 0.9721 - val_loss: 1.6542 - val_accuracy: 0.9255\n",
      "Epoch 139/200\n",
      "17/17 [==============================] - 1s 45ms/step - loss: 1.5189 - accuracy: 0.9683 - val_loss: 1.5281 - val_accuracy: 0.9574\n",
      "Epoch 140/200\n",
      "17/17 [==============================] - 1s 46ms/step - loss: 1.4832 - accuracy: 0.9795 - val_loss: 1.5349 - val_accuracy: 0.9681\n",
      "Epoch 141/200\n",
      "17/17 [==============================] - 1s 43ms/step - loss: 1.4898 - accuracy: 0.9721 - val_loss: 1.5083 - val_accuracy: 0.9681\n",
      "Epoch 142/200\n",
      "17/17 [==============================] - 1s 45ms/step - loss: 1.5245 - accuracy: 0.9497 - val_loss: 1.5550 - val_accuracy: 0.9255\n",
      "Epoch 143/200\n",
      "17/17 [==============================] - 1s 44ms/step - loss: 1.4785 - accuracy: 0.9702 - val_loss: 1.5060 - val_accuracy: 0.9574\n",
      "Epoch 144/200\n",
      "17/17 [==============================] - 1s 45ms/step - loss: 1.4572 - accuracy: 0.9609 - val_loss: 1.4991 - val_accuracy: 0.9362\n",
      "Epoch 145/200\n",
      "17/17 [==============================] - 1s 45ms/step - loss: 1.4087 - accuracy: 0.9814 - val_loss: 1.4952 - val_accuracy: 0.9362\n",
      "Epoch 146/200\n",
      "17/17 [==============================] - 1s 43ms/step - loss: 1.3954 - accuracy: 0.9814 - val_loss: 1.5444 - val_accuracy: 0.9149\n",
      "Epoch 147/200\n",
      "17/17 [==============================] - 1s 44ms/step - loss: 1.3822 - accuracy: 0.9795 - val_loss: 1.4677 - val_accuracy: 0.9468\n",
      "Epoch 148/200\n",
      "17/17 [==============================] - 1s 44ms/step - loss: 1.3557 - accuracy: 0.9702 - val_loss: 1.3895 - val_accuracy: 0.9574\n",
      "Epoch 149/200\n",
      "17/17 [==============================] - 1s 43ms/step - loss: 1.3264 - accuracy: 0.9795 - val_loss: 1.3824 - val_accuracy: 0.9574\n",
      "Epoch 150/200\n",
      "17/17 [==============================] - 1s 43ms/step - loss: 1.2907 - accuracy: 0.9870 - val_loss: 1.3215 - val_accuracy: 0.9574\n",
      "Epoch 151/200\n",
      "17/17 [==============================] - 1s 44ms/step - loss: 1.2982 - accuracy: 0.9758 - val_loss: 1.3584 - val_accuracy: 0.9574\n",
      "Epoch 152/200\n",
      "17/17 [==============================] - 1s 44ms/step - loss: 1.2723 - accuracy: 0.9795 - val_loss: 1.3260 - val_accuracy: 0.9574\n",
      "Epoch 153/200\n",
      "17/17 [==============================] - 1s 45ms/step - loss: 1.2251 - accuracy: 0.9870 - val_loss: 1.3203 - val_accuracy: 0.9362\n",
      "Epoch 154/200\n",
      "17/17 [==============================] - 1s 44ms/step - loss: 1.2082 - accuracy: 0.9758 - val_loss: 1.2805 - val_accuracy: 0.9574\n",
      "Epoch 155/200\n",
      "17/17 [==============================] - 1s 44ms/step - loss: 1.1944 - accuracy: 0.9832 - val_loss: 1.2793 - val_accuracy: 0.9574\n",
      "Epoch 156/200\n",
      "17/17 [==============================] - 1s 44ms/step - loss: 1.1966 - accuracy: 0.9758 - val_loss: 1.2796 - val_accuracy: 0.9362\n",
      "Epoch 157/200\n",
      "17/17 [==============================] - 1s 42ms/step - loss: 1.1821 - accuracy: 0.9795 - val_loss: 1.2638 - val_accuracy: 0.9468\n",
      "Epoch 158/200\n",
      "17/17 [==============================] - 1s 45ms/step - loss: 1.1536 - accuracy: 0.9907 - val_loss: 1.2364 - val_accuracy: 0.9468\n",
      "Epoch 159/200\n",
      "17/17 [==============================] - 1s 46ms/step - loss: 1.1222 - accuracy: 0.9888 - val_loss: 1.2257 - val_accuracy: 0.9681\n",
      "Epoch 160/200\n",
      "17/17 [==============================] - 1s 47ms/step - loss: 1.1135 - accuracy: 0.9870 - val_loss: 1.1859 - val_accuracy: 0.9574\n",
      "Epoch 161/200\n",
      "17/17 [==============================] - 1s 45ms/step - loss: 1.1132 - accuracy: 0.9814 - val_loss: 1.2325 - val_accuracy: 0.9255\n",
      "Epoch 162/200\n",
      "17/17 [==============================] - 1s 47ms/step - loss: 1.0968 - accuracy: 0.9795 - val_loss: 1.1996 - val_accuracy: 0.9362\n",
      "Epoch 163/200\n",
      "17/17 [==============================] - 1s 48ms/step - loss: 1.1137 - accuracy: 0.9702 - val_loss: 1.1611 - val_accuracy: 0.9255\n",
      "Epoch 164/200\n",
      "17/17 [==============================] - 1s 49ms/step - loss: 1.0892 - accuracy: 0.9777 - val_loss: 1.1938 - val_accuracy: 0.9362\n",
      "Epoch 165/200\n",
      "17/17 [==============================] - 1s 49ms/step - loss: 1.0812 - accuracy: 0.9814 - val_loss: 1.1337 - val_accuracy: 0.9468\n",
      "Epoch 166/200\n",
      "17/17 [==============================] - 1s 49ms/step - loss: 1.0812 - accuracy: 0.9739 - val_loss: 1.1367 - val_accuracy: 0.9574\n",
      "Epoch 167/200\n",
      "17/17 [==============================] - 1s 47ms/step - loss: 1.0517 - accuracy: 0.9814 - val_loss: 1.0873 - val_accuracy: 0.9574\n",
      "Epoch 168/200\n",
      "17/17 [==============================] - 1s 48ms/step - loss: 1.0753 - accuracy: 0.9628 - val_loss: 1.0842 - val_accuracy: 0.9468\n",
      "Epoch 169/200\n",
      "17/17 [==============================] - 1s 46ms/step - loss: 1.0198 - accuracy: 0.9870 - val_loss: 1.0978 - val_accuracy: 0.9468\n",
      "Epoch 170/200\n",
      "17/17 [==============================] - 1s 48ms/step - loss: 1.0110 - accuracy: 0.9832 - val_loss: 1.0845 - val_accuracy: 0.9468\n",
      "Epoch 171/200\n",
      "17/17 [==============================] - 1s 49ms/step - loss: 1.0001 - accuracy: 0.9777 - val_loss: 1.0671 - val_accuracy: 0.9468\n"
     ]
    },
    {
     "name": "stdout",
     "output_type": "stream",
     "text": [
      "Epoch 172/200\n",
      "17/17 [==============================] - 1s 49ms/step - loss: 0.9978 - accuracy: 0.9777 - val_loss: 1.0593 - val_accuracy: 0.9468\n",
      "Epoch 173/200\n",
      "17/17 [==============================] - 1s 47ms/step - loss: 0.9649 - accuracy: 0.9870 - val_loss: 1.1045 - val_accuracy: 0.9468\n",
      "Epoch 174/200\n",
      "17/17 [==============================] - 1s 47ms/step - loss: 0.9918 - accuracy: 0.9702 - val_loss: 1.0344 - val_accuracy: 0.9255\n",
      "Epoch 175/200\n",
      "17/17 [==============================] - 1s 47ms/step - loss: 0.9815 - accuracy: 0.9628 - val_loss: 1.0432 - val_accuracy: 0.9468\n",
      "Epoch 176/200\n",
      "17/17 [==============================] - 1s 48ms/step - loss: 0.9895 - accuracy: 0.9665 - val_loss: 1.0106 - val_accuracy: 0.9468\n",
      "Epoch 177/200\n",
      "17/17 [==============================] - 1s 49ms/step - loss: 0.9706 - accuracy: 0.9739 - val_loss: 0.9886 - val_accuracy: 0.9681\n",
      "Epoch 178/200\n",
      "17/17 [==============================] - 1s 48ms/step - loss: 0.9784 - accuracy: 0.9646 - val_loss: 1.0415 - val_accuracy: 0.9255\n",
      "Epoch 179/200\n",
      "17/17 [==============================] - 1s 47ms/step - loss: 0.9653 - accuracy: 0.9665 - val_loss: 0.9780 - val_accuracy: 0.9255\n",
      "Epoch 180/200\n",
      "17/17 [==============================] - 1s 48ms/step - loss: 0.9181 - accuracy: 0.9851 - val_loss: 0.9807 - val_accuracy: 0.9681\n",
      "Epoch 181/200\n",
      "17/17 [==============================] - 1s 48ms/step - loss: 0.8820 - accuracy: 0.9814 - val_loss: 1.0014 - val_accuracy: 0.9362\n",
      "Epoch 182/200\n",
      "17/17 [==============================] - 1s 47ms/step - loss: 0.8746 - accuracy: 0.9870 - val_loss: 0.9641 - val_accuracy: 0.9362\n",
      "Epoch 183/200\n",
      "17/17 [==============================] - 1s 48ms/step - loss: 0.8508 - accuracy: 0.9888 - val_loss: 0.9163 - val_accuracy: 0.9574\n",
      "Epoch 184/200\n",
      "17/17 [==============================] - 1s 48ms/step - loss: 0.8334 - accuracy: 0.9870 - val_loss: 0.9235 - val_accuracy: 0.9574\n",
      "Epoch 185/200\n",
      "17/17 [==============================] - 1s 48ms/step - loss: 0.8972 - accuracy: 0.9665 - val_loss: 1.1437 - val_accuracy: 0.8404\n",
      "Epoch 186/200\n",
      "17/17 [==============================] - 1s 49ms/step - loss: 0.9087 - accuracy: 0.9628 - val_loss: 0.9360 - val_accuracy: 0.9362\n",
      "Epoch 187/200\n",
      "17/17 [==============================] - 1s 50ms/step - loss: 0.8718 - accuracy: 0.9702 - val_loss: 0.8963 - val_accuracy: 0.9468\n",
      "Epoch 188/200\n",
      "17/17 [==============================] - 1s 48ms/step - loss: 0.8304 - accuracy: 0.9777 - val_loss: 0.8828 - val_accuracy: 0.9681\n",
      "Epoch 189/200\n",
      "17/17 [==============================] - 1s 46ms/step - loss: 0.7983 - accuracy: 0.9795 - val_loss: 0.8682 - val_accuracy: 0.9574\n",
      "Epoch 190/200\n",
      "17/17 [==============================] - 1s 47ms/step - loss: 0.8100 - accuracy: 0.9777 - val_loss: 0.8992 - val_accuracy: 0.9468\n",
      "Epoch 191/200\n",
      "17/17 [==============================] - 1s 48ms/step - loss: 0.7968 - accuracy: 0.9777 - val_loss: 0.9720 - val_accuracy: 0.9149\n",
      "Epoch 192/200\n",
      "17/17 [==============================] - 1s 47ms/step - loss: 0.8826 - accuracy: 0.9534 - val_loss: 0.9368 - val_accuracy: 0.9255\n",
      "Epoch 193/200\n",
      "17/17 [==============================] - 1s 47ms/step - loss: 0.8276 - accuracy: 0.9702 - val_loss: 0.8426 - val_accuracy: 0.9681\n",
      "Epoch 194/200\n",
      "17/17 [==============================] - 1s 48ms/step - loss: 0.7807 - accuracy: 0.9888 - val_loss: 0.8215 - val_accuracy: 0.9681\n",
      "Epoch 195/200\n",
      "17/17 [==============================] - 1s 48ms/step - loss: 0.7418 - accuracy: 0.9926 - val_loss: 0.8130 - val_accuracy: 0.9681\n",
      "Epoch 196/200\n",
      "17/17 [==============================] - 1s 47ms/step - loss: 0.7554 - accuracy: 0.9814 - val_loss: 0.8516 - val_accuracy: 0.9362\n",
      "Epoch 197/200\n",
      "17/17 [==============================] - 1s 48ms/step - loss: 0.7185 - accuracy: 0.9870 - val_loss: 0.7766 - val_accuracy: 0.9681\n",
      "Epoch 198/200\n",
      "17/17 [==============================] - 1s 48ms/step - loss: 0.7750 - accuracy: 0.9721 - val_loss: 0.7967 - val_accuracy: 0.9468\n",
      "Epoch 199/200\n",
      "17/17 [==============================] - 1s 49ms/step - loss: 0.7658 - accuracy: 0.9683 - val_loss: 0.7862 - val_accuracy: 0.9468\n",
      "Epoch 200/200\n",
      "17/17 [==============================] - 1s 48ms/step - loss: 0.7188 - accuracy: 0.9851 - val_loss: 0.8528 - val_accuracy: 0.9255\n"
     ]
    }
   ],
   "source": [
    "eye_history = eye_model.fit(eye_train_images,\n",
    "                            validation_data=eye_validation_images,\n",
    "                            epochs=200,\n",
    "                            callbacks=[early_stop])"
   ]
  },
  {
   "cell_type": "code",
   "execution_count": 65,
   "id": "11f5b569",
   "metadata": {},
   "outputs": [
    {
     "data": {
      "text/plain": [
       "<matplotlib.legend.Legend at 0x7f9090345b20>"
      ]
     },
     "execution_count": 65,
     "metadata": {},
     "output_type": "execute_result"
    },
    {
     "data": {
      "image/png": "[encoded data removed]",
      "text/plain": [
       "<Figure size 432x288 with 1 Axes>"
      ]
     },
     "metadata": {
      "needs_background": "light"
     },
     "output_type": "display_data"
    }
   ],
   "source": [
    "plt.plot(eye_history.history['accuracy'], label='accuracy')\n",
    "plt.plot(eye_history.history['val_accuracy'], label = 'val_accuracy')\n",
    "plt.xlabel('Epoch')\n",
    "plt.ylabel('Accuracy')\n",
    "plt.ylim([0.0, 1.0])\n",
    "plt.legend(loc='lower right')"
   ]
  },
  {
   "cell_type": "code",
   "execution_count": 66,
   "id": "4bbae728",
   "metadata": {},
   "outputs": [
    {
     "data": {
      "text/plain": [
       "<matplotlib.legend.Legend at 0x7f90920f8160>"
      ]
     },
     "execution_count": 66,
     "metadata": {},
     "output_type": "execute_result"
    },
    {
     "data": {
      "image/png": "[encoded data removed]",
      "text/plain": [
       "<Figure size 432x288 with 1 Axes>"
      ]
     },
     "metadata": {
      "needs_background": "light"
     },
     "output_type": "display_data"
    }
   ],
   "source": [
    "plt.plot(eye_history.history['loss'], label='loss')\n",
    "plt.plot(eye_history.history['val_loss'], label = 'val_loss')\n",
    "plt.xlabel('Epoch')\n",
    "plt.ylabel('Loss')\n",
    "plt.ylim([0.0, 10.0])\n",
    "plt.legend(loc='upper right')"
   ]
  },
  {
   "cell_type": "code",
   "execution_count": null,
   "id": "d5e9d0bd",
   "metadata": {},
   "outputs": [],
   "source": []
  }
 ],
 "metadata": {
  "kernelspec": {
   "display_name": "Python 3",
   "language": "python",
   "name": "python3"
  },
  "language_info": {
   "codemirror_mode": {
    "name": "ipython",
    "version": 3
   },
   "file_extension": ".py",
   "mimetype": "text/x-python",
   "name": "python",
   "nbconvert_exporter": "python",
   "pygments_lexer": "ipython3",
   "version": "3.8.3"
  }
 },
 "nbformat": 4,
 "nbformat_minor": 5
}
